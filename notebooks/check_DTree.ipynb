{
 "metadata": {
  "name": "check_DTree"
 }, 
 "nbformat": 2, 
 "worksheets": [
  {
   "cells": [
    {
     "cell_type": "code", 
     "collapsed": true, 
     "input": [
      "from pa03.dectree.DTree import get_tree", 
      "import pandas as pd", 
      "ratings_train = pd.load('movie_data/ratings_train.pda')", 
      "ratings_test = pd.load('movie_data/ratings_test.pda')"
     ], 
     "language": "python", 
     "outputs": [], 
     "prompt_number": 1
    }, 
    {
     "cell_type": "code", 
     "collapsed": false, 
     "input": [
      "ratings_train.pop('rating')", 
      "ratings_train.pop('userid')", 
      "_junk=ratings_train.pop('itemid')"
     ], 
     "language": "python", 
     "outputs": [], 
     "prompt_number": 3
    }, 
    {
     "cell_type": "code", 
     "collapsed": false, 
     "input": [
      "dt=get_tree(ratings_train,'isgood')"
     ], 
     "language": "python", 
     "outputs": [
      {
       "output_type": "stream", 
       "stream": "stdout", 
       "text": [
        "[(1, 0.45395826432593572), (2, 0.40614993927349013), (3, 0.40173346582753672), (4, 0.39891796400574142), (5, 0.39251407750910899), (6, 0.38798719222700673), (7, 0.38263221817378823), (8, 0.37898862758087665), (9, 0.38053439328696037), (10, 0.37727724412056973)]"
       ]
      }
     ], 
     "prompt_number": 4
    }, 
    {
     "cell_type": "code", 
     "collapsed": false, 
     "input": [
      "print dt.optimal_depth", 
      "preds=dt.predict(ratings_test)", 
      "preds=pd.DataFrame({'preds':preds})", 
      "preds.groupby('preds').size()"
     ], 
     "language": "python", 
     "outputs": [
      {
       "output_type": "stream", 
       "stream": "stdout", 
       "text": [
        "10"
       ]
      }, 
      {
       "output_type": "pyout", 
       "prompt_number": 5, 
       "text": [
        "preds", 
        "-1       3776", 
        " 1       5654"
       ]
      }
     ], 
     "prompt_number": 5
    }, 
    {
     "cell_type": "code", 
     "collapsed": true, 
     "input": [], 
     "language": "python", 
     "outputs": []
    }
   ]
  }
 ]
}