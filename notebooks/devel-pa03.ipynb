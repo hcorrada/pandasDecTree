{
 "metadata": {
  "name": "devel-pa03"
 }, 
 "nbformat": 2, 
 "worksheets": [
  {
   "cells": [
    {
     "cell_type": "markdown", 
     "source": [
      "#Journal for PA03 development", 
      "", 
      "This project is about ensemble learning using the movie lens dataset. ", 
      "The project will be structured as follows:", 
      "", 
      "1. Movielens description  ", 
      "   a. What it contains  ", 
      "   b. Exploration  ", 
      "   c. Tasks that can be done  ", 
      "", 
      "2. Bootstrap sampling (algorithm evaluation)  ", 
      "   a. Implementing  ", 
      "   b. Use it to estimate F-score variance on classification task  ", 
      "   c. Task will be to predict if rating greater than x  ", 
      "   d. Will need to calculate precision, recall and f-score  ", 
      "", 
      "3. Bagging decision trees  ", 
      "   a. Use own or given decision tree code  ", 
      "   b. They will implement the bagging framework using the bootstrap sampler they implemented  ", 
      "", 
      "4. Random Forests  ", 
      "   a. Implement random forests by passing a new best split function to dt code  ", 
      "   b. use their bagging framework  ", 
      "", 
      "5. Adaboost  ", 
      "   a. Implement the adaboost algorithm with decision tree stumps ", 
      "", 
      "6. Experiment with movielens dataset ", 
      "   a. Use the bootstrapped F-score to evaluate "
     ]
    }, 
    {
     "cell_type": "markdown", 
     "source": [
      "##Dataset", 
      "", 
      "We are using the movielens dataset obtained here http://www.grouplens.org/node/73. The dataset consists", 
      "of 100k ratings by ~900 users on ~1500 items. The idea is to predict user ratings on a given item, ", 
      "so each (user,item) pair is an example, features are user and item features. This is so-called content-based filtering", 
      "where recommendations are made using information about items and users. Collaborative filtering tries", 
      "to use specific user recommendations to do this task, for instance, finding other user's that rate items similarily", 
      "to the user we are recommending a movie to and use their ratings on each item.", 
      "", 
      "The data is split in useful ways for training/testing. Let's use u1.base for exploration"
     ]
    }, 
    {
     "cell_type": "code", 
     "collapsed": false, 
     "input": [
      "import pandas as pd", 
      "ratings=pd.read_table('devel/ml-100k/u1.base',delimiter='\\t',header=None)", 
      "print ratings.ix[:10,:]"
     ], 
     "language": "python", 
     "outputs": [
      {
       "output_type": "stream", 
       "stream": "stdout", 
       "text": [
        "    X.1  X.2  X.3        X.4", 
        "0     1    1    5  874965758", 
        "1     1    2    3  876893171", 
        "2     1    3    4  878542960", 
        "3     1    4    3  876893119", 
        "4     1    5    3  889751712", 
        "5     1    7    4  875071561", 
        "6     1    8    1  875072484", 
        "7     1    9    5  878543541", 
        "8     1   11    2  875072262", 
        "9     1   13    5  875071805", 
        "10    1   15    5  875071608"
       ]
      }
     ], 
     "prompt_number": 70
    }, 
    {
     "cell_type": "code", 
     "collapsed": false, 
     "input": [
      "# add column labels", 
      "ratings.columns=['userid','itemid','rating','timestamp']", 
      "print ratings.ix[:10,:]"
     ], 
     "language": "python", 
     "outputs": [
      {
       "output_type": "stream", 
       "stream": "stdout", 
       "text": [
        "    userid  itemid  rating  timestamp", 
        "0        1       1       5  874965758", 
        "1        1       2       3  876893171", 
        "2        1       3       4  878542960", 
        "3        1       4       3  876893119", 
        "4        1       5       3  889751712", 
        "5        1       7       4  875071561", 
        "6        1       8       1  875072484", 
        "7        1       9       5  878543541", 
        "8        1      11       2  875072262", 
        "9        1      13       5  875071805", 
        "10       1      15       5  875071608"
       ]
      }
     ], 
     "prompt_number": 7
    }, 
    {
     "cell_type": "code", 
     "collapsed": true, 
     "input": [
      "# make a date column", 
      "import datetime", 
      "ratings['date']=[datetime.datetime.fromtimestamp(x) for x in ratings['timestamp']]"
     ], 
     "language": "python", 
     "outputs": [], 
     "prompt_number": 8
    }, 
    {
     "cell_type": "code", 
     "collapsed": false, 
     "input": [
      "ratings.ix[:10,:]"
     ], 
     "language": "python", 
     "outputs": [
      {
       "html": [
        "<div style=\"max-height:1000px;max-width:1500px;overflow:auto;\">", 
        "<table border=\"1\">", 
        "  <thead>", 
        "    <tr>", 
        "      <th></th>", 
        "      <th>userid</th>", 
        "      <th>itemid</th>", 
        "      <th>rating</th>", 
        "      <th>timestamp</th>", 
        "      <th>date</th>", 
        "    </tr>", 
        "    </thead>", 
        "    <tbody>", 
        "    <tr>", 
        "      <td><strong>0</strong></td>", 
        "      <td> 1</td>", 
        "      <td>  1</td>", 
        "      <td> 5</td>", 
        "      <td> 874965758</td>", 
        "      <td> 1997-09-22 18:02:38</td>", 
        "    </tr>", 
        "    <tr>", 
        "      <td><strong>1</strong></td>", 
        "      <td> 1</td>", 
        "      <td>  2</td>", 
        "      <td> 3</td>", 
        "      <td> 876893171</td>", 
        "      <td> 1997-10-15 01:26:11</td>", 
        "    </tr>", 
        "    <tr>", 
        "      <td><strong>2</strong></td>", 
        "      <td> 1</td>", 
        "      <td>  3</td>", 
        "      <td> 4</td>", 
        "      <td> 878542960</td>", 
        "      <td> 1997-11-03 02:42:40</td>", 
        "    </tr>", 
        "    <tr>", 
        "      <td><strong>3</strong></td>", 
        "      <td> 1</td>", 
        "      <td>  4</td>", 
        "      <td> 3</td>", 
        "      <td> 876893119</td>", 
        "      <td> 1997-10-15 01:25:19</td>", 
        "    </tr>", 
        "    <tr>", 
        "      <td><strong>4</strong></td>", 
        "      <td> 1</td>", 
        "      <td>  5</td>", 
        "      <td> 3</td>", 
        "      <td> 889751712</td>", 
        "      <td> 1998-03-12 20:15:12</td>", 
        "    </tr>", 
        "    <tr>", 
        "      <td><strong>5</strong></td>", 
        "      <td> 1</td>", 
        "      <td>  7</td>", 
        "      <td> 4</td>", 
        "      <td> 875071561</td>", 
        "      <td> 1997-09-23 23:26:01</td>", 
        "    </tr>", 
        "    <tr>", 
        "      <td><strong>6</strong></td>", 
        "      <td> 1</td>", 
        "      <td>  8</td>", 
        "      <td> 1</td>", 
        "      <td> 875072484</td>", 
        "      <td> 1997-09-23 23:41:24</td>", 
        "    </tr>", 
        "    <tr>", 
        "      <td><strong>7</strong></td>", 
        "      <td> 1</td>", 
        "      <td>  9</td>", 
        "      <td> 5</td>", 
        "      <td> 878543541</td>", 
        "      <td> 1997-11-03 02:52:21</td>", 
        "    </tr>", 
        "    <tr>", 
        "      <td><strong>8</strong></td>", 
        "      <td> 1</td>", 
        "      <td> 11</td>", 
        "      <td> 2</td>", 
        "      <td> 875072262</td>", 
        "      <td> 1997-09-23 23:37:42</td>", 
        "    </tr>", 
        "    <tr>", 
        "      <td><strong>9</strong></td>", 
        "      <td> 1</td>", 
        "      <td> 13</td>", 
        "      <td> 5</td>", 
        "      <td> 875071805</td>", 
        "      <td> 1997-09-23 23:30:05</td>", 
        "    </tr>", 
        "    <tr>", 
        "      <td><strong>10</strong></td>", 
        "      <td> 1</td>", 
        "      <td> 15</td>", 
        "      <td> 5</td>", 
        "      <td> 875071608</td>", 
        "      <td> 1997-09-23 23:26:48</td>", 
        "    </tr>", 
        "  </tbody>", 
        "</table>", 
        "</div>"
       ], 
       "output_type": "pyout", 
       "prompt_number": 9, 
       "text": [
        "    userid  itemid  rating  timestamp                 date", 
        "0        1       1       5  874965758  1997-09-22 18:02:38", 
        "1        1       2       3  876893171  1997-10-15 01:26:11", 
        "2        1       3       4  878542960  1997-11-03 02:42:40", 
        "3        1       4       3  876893119  1997-10-15 01:25:19", 
        "4        1       5       3  889751712  1998-03-12 20:15:12", 
        "5        1       7       4  875071561  1997-09-23 23:26:01", 
        "6        1       8       1  875072484  1997-09-23 23:41:24", 
        "7        1       9       5  878543541  1997-11-03 02:52:21", 
        "8        1      11       2  875072262  1997-09-23 23:37:42", 
        "9        1      13       5  875071805  1997-09-23 23:30:05", 
        "10       1      15       5  875071608  1997-09-23 23:26:48"
       ]
      }
     ], 
     "prompt_number": 9
    }, 
    {
     "cell_type": "code", 
     "collapsed": true, 
     "input": [
      "# let's only use the first 1000 rows", 
      "ratings=ratings.ix[:1000,:]"
     ], 
     "language": "python", 
     "outputs": [], 
     "prompt_number": 14
    }, 
    {
     "cell_type": "code", 
     "collapsed": false, 
     "input": [
      "# plot the rating distribution", 
      "figure()", 
      "ratings.groupby('rating').size().plot(kind=\"bar\")", 
      "show()"
     ], 
     "language": "python", 
     "outputs": [
      {
       "output_type": "display_data", 
       "png": "[encoded data removed]"
      }
     ], 
     "prompt_number": 28
    }, 
    {
     "cell_type": "markdown", 
     "source": [
      "Looks like predicting rating > 3 is a sensible task"
     ]
    }, 
    {
     "cell_type": "code", 
     "collapsed": false, 
     "input": [
      "# now let's get the user info", 
      "users=pd.read_table('devel/ml-100k/u.user',delimiter='|',header=None)", 
      "users.ix[:10,:]"
     ], 
     "language": "python", 
     "outputs": [
      {
       "html": [
        "<div style=\"max-height:1000px;max-width:1500px;overflow:auto;\">", 
        "<table border=\"1\">", 
        "  <thead>", 
        "    <tr>", 
        "      <th></th>", 
        "      <th>X.1</th>", 
        "      <th>X.2</th>", 
        "      <th>X.3</th>", 
        "      <th>X.4</th>", 
        "      <th>X.5</th>", 
        "    </tr>", 
        "    </thead>", 
        "    <tbody>", 
        "    <tr>", 
        "      <td><strong>0</strong></td>", 
        "      <td>  1</td>", 
        "      <td> 24</td>", 
        "      <td> M</td>", 
        "      <td>    technician</td>", 
        "      <td> 85711</td>", 
        "    </tr>", 
        "    <tr>", 
        "      <td><strong>1</strong></td>", 
        "      <td>  2</td>", 
        "      <td> 53</td>", 
        "      <td> F</td>", 
        "      <td>         other</td>", 
        "      <td> 94043</td>", 
        "    </tr>", 
        "    <tr>", 
        "      <td><strong>2</strong></td>", 
        "      <td>  3</td>", 
        "      <td> 23</td>", 
        "      <td> M</td>", 
        "      <td>        writer</td>", 
        "      <td> 32067</td>", 
        "    </tr>", 
        "    <tr>", 
        "      <td><strong>3</strong></td>", 
        "      <td>  4</td>", 
        "      <td> 24</td>", 
        "      <td> M</td>", 
        "      <td>    technician</td>", 
        "      <td> 43537</td>", 
        "    </tr>", 
        "    <tr>", 
        "      <td><strong>4</strong></td>", 
        "      <td>  5</td>", 
        "      <td> 33</td>", 
        "      <td> F</td>", 
        "      <td>         other</td>", 
        "      <td> 15213</td>", 
        "    </tr>", 
        "    <tr>", 
        "      <td><strong>5</strong></td>", 
        "      <td>  6</td>", 
        "      <td> 42</td>", 
        "      <td> M</td>", 
        "      <td>     executive</td>", 
        "      <td> 98101</td>", 
        "    </tr>", 
        "    <tr>", 
        "      <td><strong>6</strong></td>", 
        "      <td>  7</td>", 
        "      <td> 57</td>", 
        "      <td> M</td>", 
        "      <td> administrator</td>", 
        "      <td> 91344</td>", 
        "    </tr>", 
        "    <tr>", 
        "      <td><strong>7</strong></td>", 
        "      <td>  8</td>", 
        "      <td> 36</td>", 
        "      <td> M</td>", 
        "      <td> administrator</td>", 
        "      <td> 05201</td>", 
        "    </tr>", 
        "    <tr>", 
        "      <td><strong>8</strong></td>", 
        "      <td>  9</td>", 
        "      <td> 29</td>", 
        "      <td> M</td>", 
        "      <td>       student</td>", 
        "      <td> 01002</td>", 
        "    </tr>", 
        "    <tr>", 
        "      <td><strong>9</strong></td>", 
        "      <td> 10</td>", 
        "      <td> 53</td>", 
        "      <td> M</td>", 
        "      <td>        lawyer</td>", 
        "      <td> 90703</td>", 
        "    </tr>", 
        "    <tr>", 
        "      <td><strong>10</strong></td>", 
        "      <td> 11</td>", 
        "      <td> 39</td>", 
        "      <td> F</td>", 
        "      <td>         other</td>", 
        "      <td> 30329</td>", 
        "    </tr>", 
        "  </tbody>", 
        "</table>", 
        "</div>"
       ], 
       "output_type": "pyout", 
       "prompt_number": 32, 
       "text": [
        "    X.1  X.2 X.3            X.4    X.5", 
        "0     1   24   M     technician  85711", 
        "1     2   53   F          other  94043", 
        "2     3   23   M         writer  32067", 
        "3     4   24   M     technician  43537", 
        "4     5   33   F          other  15213", 
        "5     6   42   M      executive  98101", 
        "6     7   57   M  administrator  91344", 
        "7     8   36   M  administrator  05201", 
        "8     9   29   M        student  01002", 
        "9    10   53   M         lawyer  90703", 
        "10   11   39   F          other  30329"
       ]
      }
     ], 
     "prompt_number": 32
    }, 
    {
     "cell_type": "code", 
     "collapsed": true, 
     "input": [
      "users.columns=['userid','age','gender','occupation','zipcode']"
     ], 
     "language": "python", 
     "outputs": [], 
     "prompt_number": 33
    }, 
    {
     "cell_type": "code", 
     "collapsed": false, 
     "input": [
      "figure()", 
      "users['age'].hist()", 
      "title('age')", 
      "show()", 
      "", 
      "figure()", 
      "users.groupby('gender').size().plot(kind='bar')", 
      "title('gender')", 
      "show()", 
      "", 
      "figure()", 
      "users.groupby('occupation').size().plot(kind='bar')", 
      "title('occupation')", 
      "show()"
     ], 
     "language": "python", 
     "outputs": [
      {
       "output_type": "display_data", 
       "png": "[encoded data removed]"
      }, 
      {
       "output_type": "display_data", 
       "png": "[encoded data removed]"
      }, 
      {
       "output_type": "display_data", 
       "png": "[encoded data removed]"
      }
     ], 
     "prompt_number": 58
    }, 
    {
     "cell_type": "markdown", 
     "source": [
      "We'll use age gender and occupation as user features. Let's add them to the ratings dataset"
     ]
    }, 
    {
     "cell_type": "code", 
     "collapsed": true, 
     "input": [
      "ratings=pd.merge(ratings.ix[:,:3],users.ix[:,:4])"
     ], 
     "language": "python", 
     "outputs": [], 
     "prompt_number": 101
    }, 
    {
     "cell_type": "code", 
     "collapsed": false, 
     "input": [
      "ratings.head(10)"
     ], 
     "language": "python", 
     "outputs": [
      {
       "html": [
        "<div style=\"max-height:1000px;max-width:1500px;overflow:auto;\">", 
        "<table border=\"1\">", 
        "  <thead>", 
        "    <tr>", 
        "      <th></th>", 
        "      <th>userid</th>", 
        "      <th>itemid</th>", 
        "      <th>rating</th>", 
        "      <th>age</th>", 
        "      <th>gender</th>", 
        "      <th>occupation</th>", 
        "    </tr>", 
        "    </thead>", 
        "    <tbody>", 
        "    <tr>", 
        "      <td><strong>0</strong></td>", 
        "      <td> 1</td>", 
        "      <td>  1</td>", 
        "      <td> 5</td>", 
        "      <td> 24</td>", 
        "      <td> M</td>", 
        "      <td> technician</td>", 
        "    </tr>", 
        "    <tr>", 
        "      <td><strong>1</strong></td>", 
        "      <td> 1</td>", 
        "      <td>  2</td>", 
        "      <td> 3</td>", 
        "      <td> 24</td>", 
        "      <td> M</td>", 
        "      <td> technician</td>", 
        "    </tr>", 
        "    <tr>", 
        "      <td><strong>2</strong></td>", 
        "      <td> 1</td>", 
        "      <td>  3</td>", 
        "      <td> 4</td>", 
        "      <td> 24</td>", 
        "      <td> M</td>", 
        "      <td> technician</td>", 
        "    </tr>", 
        "    <tr>", 
        "      <td><strong>3</strong></td>", 
        "      <td> 1</td>", 
        "      <td>  4</td>", 
        "      <td> 3</td>", 
        "      <td> 24</td>", 
        "      <td> M</td>", 
        "      <td> technician</td>", 
        "    </tr>", 
        "    <tr>", 
        "      <td><strong>4</strong></td>", 
        "      <td> 1</td>", 
        "      <td>  5</td>", 
        "      <td> 3</td>", 
        "      <td> 24</td>", 
        "      <td> M</td>", 
        "      <td> technician</td>", 
        "    </tr>", 
        "    <tr>", 
        "      <td><strong>5</strong></td>", 
        "      <td> 1</td>", 
        "      <td>  7</td>", 
        "      <td> 4</td>", 
        "      <td> 24</td>", 
        "      <td> M</td>", 
        "      <td> technician</td>", 
        "    </tr>", 
        "    <tr>", 
        "      <td><strong>6</strong></td>", 
        "      <td> 1</td>", 
        "      <td>  8</td>", 
        "      <td> 1</td>", 
        "      <td> 24</td>", 
        "      <td> M</td>", 
        "      <td> technician</td>", 
        "    </tr>", 
        "    <tr>", 
        "      <td><strong>7</strong></td>", 
        "      <td> 1</td>", 
        "      <td>  9</td>", 
        "      <td> 5</td>", 
        "      <td> 24</td>", 
        "      <td> M</td>", 
        "      <td> technician</td>", 
        "    </tr>", 
        "    <tr>", 
        "      <td><strong>8</strong></td>", 
        "      <td> 1</td>", 
        "      <td> 11</td>", 
        "      <td> 2</td>", 
        "      <td> 24</td>", 
        "      <td> M</td>", 
        "      <td> technician</td>", 
        "    </tr>", 
        "    <tr>", 
        "      <td><strong>9</strong></td>", 
        "      <td> 1</td>", 
        "      <td> 13</td>", 
        "      <td> 5</td>", 
        "      <td> 24</td>", 
        "      <td> M</td>", 
        "      <td> technician</td>", 
        "    </tr>", 
        "  </tbody>", 
        "</table>", 
        "</div>"
       ], 
       "output_type": "pyout", 
       "prompt_number": 102, 
       "text": [
        "   userid  itemid  rating  age gender  occupation", 
        "0       1       1       5   24      M  technician", 
        "1       1       2       3   24      M  technician", 
        "2       1       3       4   24      M  technician", 
        "3       1       4       3   24      M  technician", 
        "4       1       5       3   24      M  technician", 
        "5       1       7       4   24      M  technician", 
        "6       1       8       1   24      M  technician", 
        "7       1       9       5   24      M  technician", 
        "8       1      11       2   24      M  technician", 
        "9       1      13       5   24      M  technician"
       ]
      }
     ], 
     "prompt_number": 102
    }, 
    {
     "cell_type": "code", 
     "collapsed": false, 
     "input": [
      "# now let's get item information", 
      "items=pd.read_table('devel/ml-100k/u.item',delimiter='|',header=None)", 
      "items.shape"
     ], 
     "language": "python", 
     "outputs": [
      {
       "output_type": "pyout", 
       "prompt_number": 179, 
       "text": [
        "(1682, 24)"
       ]
      }
     ], 
     "prompt_number": 179
    }, 
    {
     "cell_type": "code", 
     "collapsed": false, 
     "input": [
      "# let's read the genres", 
      "genres=pd.read_table('devel/ml-100k/u.genre',delimiter='|',header=None)", 
      "genres=list(genres.ix[:genres.shape[0]-2,0].values)", 
      "genres"
     ], 
     "language": "python", 
     "outputs": [
      {
       "output_type": "pyout", 
       "prompt_number": 180, 
       "text": [
        "['unknown',", 
        " 'Action',", 
        " 'Adventure',", 
        " 'Animation',", 
        " \"Children's\",", 
        " 'Comedy',", 
        " 'Crime',", 
        " 'Documentary',", 
        " 'Drama',", 
        " 'Fantasy',", 
        " 'Film-Noir',", 
        " 'Horror',", 
        " 'Musical',", 
        " 'Mystery',", 
        " 'Romance',", 
        " 'Sci-Fi',", 
        " 'Thriller',", 
        " 'War',", 
        " 'Western']"
       ]
      }
     ], 
     "prompt_number": 180
    }, 
    {
     "cell_type": "code", 
     "collapsed": true, 
     "input": [
      "items.columns = ['itemid','title','releasedate','videodate','url'] + genres"
     ], 
     "language": "python", 
     "outputs": [], 
     "prompt_number": 181
    }, 
    {
     "cell_type": "code", 
     "collapsed": true, 
     "input": [
      "items['releaseyear']=[datetime.datetime.strptime(date,'%d-%b-%Y').strftime('%y') if not missing else None for (date,missing) in zip(items['releasedate'],pd.isnull(items['releasedate']))]", 
      "                                                                             "
     ], 
     "language": "python", 
     "outputs": [], 
     "prompt_number": 182
    }, 
    {
     "cell_type": "code", 
     "collapsed": true, 
     "input": [
      "items['releasedecade']=[int(yr) - (int(yr) % 10) if not missing else None for (yr,missing) in zip(items['releaseyear'],pd.isnull(items['releaseyear']))]"
     ], 
     "language": "python", 
     "outputs": [], 
     "prompt_number": 183
    }, 
    {
     "cell_type": "code", 
     "collapsed": false, 
     "input": [
      "figure()", 
      "items.groupby('releasedecade').size().plot(kind='bar')", 
      "title('release decades')", 
      "show()"
     ], 
     "language": "python", 
     "outputs": [
      {
       "output_type": "display_data", 
       "png": "[encoded data removed]"
      }
     ], 
     "prompt_number": 207
    }, 
    {
     "cell_type": "code", 
     "collapsed": false, 
     "input": [
      "items.columns"
     ], 
     "language": "python", 
     "outputs": [
      {
       "output_type": "pyout", 
       "prompt_number": 190, 
       "text": [
        "Index([itemid, title, releasedate, videodate, url, unknown, Action,", 
        "       Adventure, Animation, Children's, Comedy, Crime, Documentary, Drama,", 
        "       Fantasy, Film-Noir, Horror, Musical, Mystery, Romance, Sci-Fi,", 
        "       Thriller, War, Western, releaseyear, releasedecade], dtype=object)"
       ]
      }
     ], 
     "prompt_number": 190
    }, 
    {
     "cell_type": "code", 
     "collapsed": true, 
     "input": [
      "# let's drop some columns", 
      "for col in ['title','releasedate','videodate','url','releaseyear']:", 
      "    items.pop(col)"
     ], 
     "language": "python", 
     "outputs": [], 
     "prompt_number": 191
    }, 
    {
     "cell_type": "code", 
     "collapsed": false, 
     "input": [
      "figure()", 
      "items.ix[:,1:-1].apply(np.sum).plot(kind='bar')", 
      "title('genres')", 
      "show()"
     ], 
     "language": "python", 
     "outputs": [
      {
       "output_type": "display_data", 
       "png": "[encoded data removed]"
      }
     ], 
     "prompt_number": 206
    }, 
    {
     "cell_type": "code", 
     "collapsed": true, 
     "input": [
      "# now let's add item info into our ratings", 
      "ratings=pd.merge(ratings,items)"
     ], 
     "language": "python", 
     "outputs": [], 
     "prompt_number": 194
    }, 
    {
     "cell_type": "code", 
     "collapsed": false, 
     "input": [
      "figure()", 
      "ratings.ix[:,6:-1].apply(np.sum).plot(kind='bar')", 
      "show()"
     ], 
     "language": "python", 
     "outputs": [
      {
       "output_type": "display_data", 
       "png": "[encoded data removed]"
      }
     ], 
     "prompt_number": 203
    }, 
    {
     "cell_type": "code", 
     "collapsed": false, 
     "input": [
      "# remove item and user ids", 
      "ratings.pop('userid')", 
      "ratings.pop('itemid')", 
      "ratings"
     ], 
     "language": "python", 
     "outputs": [
      {
       "output_type": "pyout", 
       "prompt_number": 208, 
       "text": [
        "<class 'pandas.core.frame.DataFrame'>", 
        "Int64Index: 1001 entries, 0 to 1000", 
        "Data columns:", 
        "rating           1001  non-null values", 
        "age              1001  non-null values", 
        "gender           1001  non-null values", 
        "occupation       1001  non-null values", 
        "unknown          1001  non-null values", 
        "Action           1001  non-null values", 
        "Adventure        1001  non-null values", 
        "Animation        1001  non-null values", 
        "Children's       1001  non-null values", 
        "Comedy           1001  non-null values", 
        "Crime            1001  non-null values", 
        "Documentary      1001  non-null values", 
        "Drama            1001  non-null values", 
        "Fantasy          1001  non-null values", 
        "Film-Noir        1001  non-null values", 
        "Horror           1001  non-null values", 
        "Musical          1001  non-null values", 
        "Mystery          1001  non-null values", 
        "Romance          1001  non-null values", 
        "Sci-Fi           1001  non-null values", 
        "Thriller         1001  non-null values", 
        "War              1001  non-null values", 
        "Western          1001  non-null values", 
        "releasedecade    1001  non-null values", 
        "dtypes: int64(21), object(3)"
       ]
      }
     ], 
     "prompt_number": 208
    }, 
    {
     "cell_type": "code", 
     "collapsed": true, 
     "input": [
      "# binarize rating", 
      "ratings['isgood']=[1 if rating>3 else -1 for rating in ratings['rating']]"
     ], 
     "language": "python", 
     "outputs": [], 
     "prompt_number": 209
    }, 
    {
     "cell_type": "code", 
     "collapsed": false, 
     "input": [
      "figure()", 
      "ratings.groupby('isgood').size().plot(kind='bar')", 
      "title('is good')", 
      "show()"
     ], 
     "language": "python", 
     "outputs": [
      {
       "output_type": "display_data", 
       "png": "[encoded data removed]"
      }
     ], 
     "prompt_number": 210
    }, 
    {
     "cell_type": "markdown", 
     "source": [
      "Okay, let's write a function that students can use it's in `pa03.util.prep_data.py`"
     ]
    }, 
    {
     "cell_type": "code", 
     "collapsed": false, 
     "input": [
      "items['releasedecade']"
     ], 
     "language": "python", 
     "outputs": [
      {
       "ename": "TypeError", 
       "evalue": "'numpy.int64' object is not callable", 
       "output_type": "pyerr", 
       "traceback": [
        "\u001b[0;31m---------------------------------------------------------------------------\u001b[0m\n\u001b[0;31mTypeError\u001b[0m                                 Traceback (most recent call last)", 
        "\u001b[0;32m/Users/hcorrada/Teaching/PracticalMachineLearning/Fall2012/hidden-src/pa03/devel/<ipython-input-212-cf5c05feace7>\u001b[0m in \u001b[0;36m<module>\u001b[0;34m()\u001b[0m\n\u001b[0;32m----> 1\u001b[0;31m \u001b[0mitems\u001b[0m\u001b[0;34m[\u001b[0m\u001b[0;34m'releasedecade'\u001b[0m\u001b[0;34m]\u001b[0m\u001b[0;34m.\u001b[0m\u001b[0mapply\u001b[0m\u001b[0;34m(\u001b[0m\u001b[0mid\u001b[0m\u001b[0;34m)\u001b[0m\u001b[0;34m\u001b[0m\u001b[0m\n\u001b[0m", 
        "\u001b[0;32m/Library/Frameworks/Python.framework/Versions/7.3/lib/python2.7/site-packages/pandas/core/series.py\u001b[0m in \u001b[0;36mapply\u001b[0;34m(self, func)\u001b[0m\n\u001b[1;32m   1865\u001b[0m             \u001b[0;32mreturn\u001b[0m \u001b[0mresult\u001b[0m\u001b[0;34m\u001b[0m\u001b[0m\n\u001b[1;32m   1866\u001b[0m         \u001b[0;32mexcept\u001b[0m \u001b[0mException\u001b[0m\u001b[0;34m:\u001b[0m\u001b[0;34m\u001b[0m\u001b[0m\n\u001b[0;32m-> 1867\u001b[0;31m             \u001b[0mmapped\u001b[0m \u001b[0;34m=\u001b[0m \u001b[0mlib\u001b[0m\u001b[0;34m.\u001b[0m\u001b[0mmap_infer\u001b[0m\u001b[0;34m(\u001b[0m\u001b[0mself\u001b[0m\u001b[0;34m.\u001b[0m\u001b[0mvalues\u001b[0m\u001b[0;34m,\u001b[0m \u001b[0mfunc\u001b[0m\u001b[0;34m)\u001b[0m\u001b[0;34m\u001b[0m\u001b[0m\n\u001b[0m\u001b[1;32m   1868\u001b[0m             \u001b[0;32mreturn\u001b[0m \u001b[0mSeries\u001b[0m\u001b[0;34m(\u001b[0m\u001b[0mmapped\u001b[0m\u001b[0;34m,\u001b[0m \u001b[0mindex\u001b[0m\u001b[0;34m=\u001b[0m\u001b[0mself\u001b[0m\u001b[0;34m.\u001b[0m\u001b[0mindex\u001b[0m\u001b[0;34m,\u001b[0m \u001b[0mname\u001b[0m\u001b[0;34m=\u001b[0m\u001b[0mself\u001b[0m\u001b[0;34m.\u001b[0m\u001b[0mname\u001b[0m\u001b[0;34m)\u001b[0m\u001b[0;34m\u001b[0m\u001b[0m\n\u001b[1;32m   1869\u001b[0m \u001b[0;34m\u001b[0m\u001b[0m\n", 
        "\u001b[0;32m/Library/Frameworks/Python.framework/Versions/7.3/lib/python2.7/site-packages/pandas/_tseries.so\u001b[0m in \u001b[0;36mpandas._tseries.map_infer (pandas/src/tseries.c:78952)\u001b[0;34m()\u001b[0m\n", 
        "\u001b[0;31mTypeError\u001b[0m: 'numpy.int64' object is not callable"
       ]
      }
     ], 
     "prompt_number": 212
    }, 
    {
     "cell_type": "markdown", 
     "source": [
      "##Decision Tree", 
      "", 
      "The next task will be to implement a bootstrap method to estimate mean and variance of the F-score of a decision tree classifier", 
      "on this dataset. We'll give them a decision tree implementation using the gini coefficient to select best feature splitting. First,", 
      "we need to implement the DTree code. We start by making classes to hold the tree structure and be able to generate data from it.", 
      "Then create a toy example for testing the learning functions.", 
      "", 
      "We'll implement two classes DTree and Node with subclasses Inner and Leaf for the latter."
     ]
    }, 
    {
     "cell_type": "code", 
     "collapsed": true, 
     "input": [
      "%load_ext autoreload", 
      "%autoreload 2"
     ], 
     "language": "python", 
     "outputs": [], 
     "prompt_number": 2
    }, 
    {
     "cell_type": "code", 
     "collapsed": true, 
     "input": [
      "import sys", 
      "sys.path.append('pa03')"
     ], 
     "language": "python", 
     "outputs": [], 
     "prompt_number": 3
    }, 
    {
     "cell_type": "markdown", 
     "source": [
      "###Tree structure"
     ]
    }, 
    {
     "cell_type": "code", 
     "collapsed": false, 
     "input": [
      "import pa03.dectree.Node as dtree", 
      "", 
      "tmp=dtree.Leaf({1:.5,-1:.5},10,10,0)", 
      "print tmp", 
      "", 
      "tmp.depth=1", 
      "tmp2=dtree.Inner({1:.8,-1:.2}, 10,10,dtree.Split('x1',0), tmp ,dtree.Leaf({1:.2,-1:.8},10,10,1),0)", 
      "print tmp2", 
      "", 
      "tmp2.depth=2", 
      "tmp.depth=3", 
      "tmp2.right.depth=3", 
      "", 
      "tmp3=dtree.Inner({1:.4,-1:.6}, 10,10,dtree.Split('x3',0), dtree.Leaf({1:.8,-1:.2},5,5,2),dtree.Leaf({1:.6,-1:.4},3,3,2),1)", 
      "tmp4=dtree.Inner({1:.99,-1:.01}, 10,10,dtree.Split('x2','c'),dtree.Leaf({1:.99,-1:.01},4,4,2),tmp2,1)", 
      "tree=dtree.Inner({1:.1,-1:.9}, 10,10,dtree.Split('x4','a'), tmp3,tmp4,0)", 
      "print tree"
     ], 
     "language": "python", 
     "outputs": [
      {
       "output_type": "stream", 
       "stream": "stdout", 
       "text": [
        "LeafNode depth: 0, 1: 0.50 -1: 0.50 (10/10) examples", 
        "", 
        "InnerNode (x1=0): depth: 0, 1: 0.80 -1: 0.20 (10/10) examples", 
        "Y:   LeafNode depth: 1, 1: 0.50 -1: 0.50 (10/10) examples", 
        "N:   LeafNode depth: 1, 1: 0.20 -1: 0.80 (10/10) examples"
       ]
      }, 
      {
       "output_type": "stream", 
       "stream": "stdout", 
       "text": [
        "", 
        "InnerNode (x4=a): depth: 0, 1: 0.10 -1: 0.90 (10/10) examples", 
        "Y:   InnerNode (x3=0): depth: 1, 1: 0.40 -1: 0.60 (10/10) examples", 
        "Y:     LeafNode depth: 2, 1: 0.80 -1: 0.20 (5/5) examples", 
        "N:     LeafNode depth: 2, 1: 0.60 -1: 0.40 (3/3) examples", 
        "N:   InnerNode (x2=c): depth: 1, 1: 0.99 -1: 0.01 (10/10) examples", 
        "Y:     LeafNode depth: 2, 1: 0.99 -1: 0.01 (4/4) examples", 
        "N:     InnerNode (x1=0): depth: 2, 1: 0.80 -1: 0.20 (10/10) examples", 
        "Y:       LeafNode depth: 3, 1: 0.50 -1: 0.50 (10/10) examples", 
        "N:       LeafNode depth: 3, 1: 0.20 -1: 0.80 (10/10) examples"
       ]
      }, 
      {
       "output_type": "stream", 
       "stream": "stdout", 
       "text": []
      }
     ], 
     "prompt_number": 167
    }, 
    {
     "cell_type": "code", 
     "collapsed": false, 
     "input": [
      "print tmp.get_feature_names()", 
      "print tmp2.get_feature_names()", 
      "print tree.get_feature_names()"
     ], 
     "language": "python", 
     "outputs": [
      {
       "output_type": "stream", 
       "stream": "stdout", 
       "text": [
        "set([])", 
        "set(['x1'])", 
        "set(['x2', 'x3', 'x1'])"
       ]
      }, 
      {
       "output_type": "stream", 
       "stream": "stdout", 
       "text": []
      }
     ], 
     "prompt_number": 110
    }, 
    {
     "cell_type": "markdown", 
     "source": [
      "###Generating data"
     ]
    }, 
    {
     "cell_type": "code", 
     "collapsed": false, 
     "input": [
      "breaks=[0] + list(cumsum(tmp2.children[0].class_props.values()))", 
      "print breaks", 
      "flips=random_sample(10)"
     ], 
     "language": "python", 
     "outputs": [
      {
       "output_type": "stream", 
       "stream": "stdout", 
       "text": [
        "[0, 0.5, 1.0]"
       ]
      }
     ], 
     "prompt_number": 106
    }, 
    {
     "cell_type": "code", 
     "collapsed": false, 
     "input": [
      "print flips", 
      "idx=array(pd.cut(flips,breaks).labels)", 
      "print idx", 
      "array(['+1','-1'])[idx]"
     ], 
     "language": "python", 
     "outputs": [
      {
       "output_type": "stream", 
       "stream": "stdout", 
       "text": [
        "[ 0.23807033  0.55419768  0.51690538  0.11495812  0.37400094  0.43003687", 
        "  0.39322105  0.7010402   0.43491402  0.53483726]", 
        "[0 1 1 0 0 0 0 1 0 1]"
       ]
      }, 
      {
       "output_type": "pyout", 
       "prompt_number": 107, 
       "text": [
        "array(['+1', '-1', '-1', '+1', '+1', '+1', '+1', '-1', '+1', '-1'], ", 
        "      dtype='|S2')"
       ]
      }
     ], 
     "prompt_number": 107
    }, 
    {
     "cell_type": "code", 
     "collapsed": false, 
     "input": [
      "print tmp", 
      "print tmp.generate_data(3)", 
      "", 
      "print tmp2", 
      "print tmp2.generate_data(3)", 
      "", 
      "print tmp3", 
      "print tmp3.generate_data(3)", 
      "", 
      "print tree", 
      "tmp=tree.generate_data(3)", 
      "print tmp"
     ], 
     "language": "python", 
     "outputs": [
      {
       "output_type": "stream", 
       "stream": "stdout", 
       "text": [
        "      LeafNode depth: 3, 1: 0.50 -1: 0.50 (10/10) examples", 
        "", 
        "   label", 
        "0      1", 
        "1      1", 
        "2      1", 
        "    InnerNode (x1=0): depth: 2, 1: 0.80 -1: 0.20 (10/10) examples", 
        "Y:       LeafNode depth: 3, 1: 0.50 -1: 0.50 (10/10) examples", 
        "N:       LeafNode depth: 3, 1: 0.20 -1: 0.80 (10/10) examples"
       ]
      }, 
      {
       "output_type": "stream", 
       "stream": "stdout", 
       "text": [
        "", 
        "   label  x1", 
        "0      1   0", 
        "1     -1   0", 
        "2     -1   0", 
        "0     -1  10", 
        "1     -1  10", 
        "2     -1  10", 
        "  InnerNode (x3=0): depth: 1, 1: 0.40 -1: 0.60 (10/10) examples", 
        "Y:     LeafNode depth: 2, 1: 0.80 -1: 0.20 (5/5) examples", 
        "N:     LeafNode depth: 2, 1: 0.60 -1: 0.40 (3/3) examples"
       ]
      }, 
      {
       "output_type": "stream", 
       "stream": "stdout", 
       "text": [
        "", 
        "   label  x3", 
        "0     -1   0", 
        "1      1   0", 
        "2      1   0", 
        "0      1  10", 
        "1      1  10", 
        "2      1  10", 
        "InnerNode (x2=a): depth: 0, 1: 0.10 -1: 0.90 (10/10) examples", 
        "Y:   InnerNode (x3=0): depth: 1, 1: 0.40 -1: 0.60 (10/10) examples", 
        "Y:     LeafNode depth: 2, 1: 0.80 -1: 0.20 (5/5) examples", 
        "N:     LeafNode depth: 2, 1: 0.60 -1: 0.40 (3/3) examples", 
        "N:   InnerNode (x2=c): depth: 1, 1: 0.99 -1: 0.01 (10/10) examples", 
        "Y:     LeafNode depth: 2, 1: 0.99 -1: 0.01 (4/4) examples", 
        "N:     InnerNode (x1=0): depth: 2, 1: 0.80 -1: 0.20 (10/10) examples", 
        "Y:       LeafNode depth: 3, 1: 0.50 -1: 0.50 (10/10) examples", 
        "N:       LeafNode depth: 3, 1: 0.20 -1: 0.80 (10/10) examples"
       ]
      }, 
      {
       "output_type": "stream", 
       "stream": "stdout", 
       "text": [
        "", 
        "   label  x1   x2  x3", 
        "0     -1  10    a   0", 
        "1      1  10    a   0", 
        "2      1  10    a   0", 
        "0     -1  10    a  10", 
        "1      1  10    a  10", 
        "2     -1  10    a  10", 
        "0      1  10    c  10", 
        "1      1  10    c  10", 
        "2      1  10    c  10", 
        "0     -1   0  c10  10", 
        "1     -1   0  c10  10", 
        "2      1   0  c10  10", 
        "0     -1  10  c10  10", 
        "1     -1  10  c10  10", 
        "2     -1  10  c10  10"
       ]
      }, 
      {
       "output_type": "stream", 
       "stream": "stdout", 
       "text": []
      }
     ], 
     "prompt_number": 164
    }, 
    {
     "cell_type": "code", 
     "collapsed": false, 
     "input": [
      "tmp.index=arange(tmp.shape[0])", 
      "print tmp"
     ], 
     "language": "python", 
     "outputs": [
      {
       "output_type": "stream", 
       "stream": "stdout", 
       "text": [
        "    label  x1   x2  x3", 
        "0       1  10    a   0", 
        "1       1  10    a   0", 
        "2       1  10    a   0", 
        "3       1  10    a  10", 
        "4       1  10    a  10", 
        "5      -1  10    a  10", 
        "6       1  10  a10  10", 
        "7       1  10  a10  10", 
        "8       1  10  a10  10", 
        "9      -1   0  a10  10", 
        "10     -1   0  a10  10", 
        "11     -1   0  a10  10", 
        "12     -1  10  a10  10", 
        "13     -1  10  a10  10", 
        "14     -1  10  a10  10"
       ]
      }
     ], 
     "prompt_number": 298
    }, 
    {
     "cell_type": "code", 
     "collapsed": false, 
     "input": [
      "print tree", 
      "testdf=tree.generate_data(10)", 
      "testdf.index=arange(testdf.shape[0])"
     ], 
     "language": "python", 
     "outputs": [
      {
       "output_type": "stream", 
       "stream": "stdout", 
       "text": [
        "InnerNode (x4=a): depth: 0, 1: 0.10 -1: 0.90 (10/10) examples", 
        "Y:   InnerNode (x3=0): depth: 1, 1: 0.40 -1: 0.60 (10/10) examples", 
        "Y:     LeafNode depth: 2, 1: 0.80 -1: 0.20 (5/5) examples", 
        "N:     LeafNode depth: 2, 1: 0.60 -1: 0.40 (3/3) examples", 
        "N:   InnerNode (x2=c): depth: 1, 1: 0.99 -1: 0.01 (10/10) examples", 
        "Y:     LeafNode depth: 2, 1: 0.99 -1: 0.01 (4/4) examples", 
        "N:     InnerNode (x1=0): depth: 2, 1: 0.80 -1: 0.20 (10/10) examples", 
        "Y:       LeafNode depth: 3, 1: 0.50 -1: 0.50 (10/10) examples", 
        "N:       LeafNode depth: 3, 1: 0.20 -1: 0.80 (10/10) examples"
       ]
      }
     ], 
     "prompt_number": 168
    }, 
    {
     "cell_type": "code", 
     "collapsed": false, 
     "input": [
      "df=pd.DataFrame({'a':pd.Series([0,None,2]),'b':pd.Series(['a','b',None])})", 
      "print df.dtypes", 
      "", 
      "df=df.fillna(0)", 
      "print df.dtypes", 
      "df['a'].values"
     ], 
     "language": "python", 
     "outputs": [
      {
       "output_type": "stream", 
       "stream": "stdout", 
       "text": [
        "a    float64", 
        "b     object", 
        "a    float64", 
        "b     object"
       ]
      }, 
      {
       "output_type": "pyout", 
       "prompt_number": 130, 
       "text": [
        "array([ 0.,  0.,  2.])"
       ]
      }
     ], 
     "prompt_number": 130
    }, 
    {
     "cell_type": "code", 
     "collapsed": false, 
     "input": [
      "print tmp.predict(0,testdf,range(3),np.empty(testdf.shape[0]))", 
      "print tmp2.predict(2,testdf,range(3),np.empty(testdf.shape[0]))"
     ], 
     "language": "python", 
     "outputs": [
      {
       "output_type": "stream", 
       "stream": "stdout", 
       "text": [
        "[  1.00000000e+000   1.00000000e+000   1.00000000e+000   0.00000000e+000", 
        "  -4.05213197e+286   3.01451880e-306   0.00000000e+000   7.21702760e+221", 
        "   3.01468177e-306   0.00000000e+000   0.00000000e+000   0.00000000e+000", 
        "   0.00000000e+000   0.00000000e+000   0.00000000e+000   0.00000000e+000", 
        "   0.00000000e+000   0.00000000e+000   0.00000000e+000   5.95022041e-063", 
        "   3.01455140e-306   0.00000000e+000  -5.94279779e-248   3.01458399e-306", 
        "   0.00000000e+000   0.00000000e+000   0.00000000e+000   0.00000000e+000", 
        "   0.00000000e+000   0.00000000e+000   0.00000000e+000  -4.27185451e-210", 
        "   3.01461659e-306   0.00000000e+000   0.00000000e+000   0.00000000e+000", 
        "   0.00000000e+000   0.00000000e+000   0.00000000e+000   0.00000000e+000", 
        "   6.42091767e+064   3.01448621e-306   0.00000000e+000  -1.14911373e-264", 
        "   3.01464918e-306   0.00000000e+000   0.00000000e+000   0.00000000e+000", 
        "   1.20040548e-294   5.43472210e-323]", 
        "[  1.00000000e+000   1.00000000e+000   1.00000000e+000   0.00000000e+000", 
        "  -4.05213197e+286   3.01451880e-306   0.00000000e+000   0.00000000e+000", 
        "   0.00000000e+000   0.00000000e+000   0.00000000e+000   0.00000000e+000", 
        "   0.00000000e+000   0.00000000e+000   0.00000000e+000   0.00000000e+000", 
        "   0.00000000e+000   0.00000000e+000   0.00000000e+000   5.95022041e-063", 
        "   3.01455140e-306   1.08085188e-290  -5.94279779e-248   3.01458399e-306", 
        "   0.00000000e+000   0.00000000e+000   0.00000000e+000   0.00000000e+000", 
        "   0.00000000e+000   0.00000000e+000   0.00000000e+000  -4.27185451e-210", 
        "   3.01461659e-306   0.00000000e+000   0.00000000e+000   0.00000000e+000", 
        "   0.00000000e+000   0.00000000e+000   0.00000000e+000   0.00000000e+000", 
        "   6.42091767e+064   3.01448621e-306   0.00000000e+000  -1.14911373e-264", 
        "   3.01464918e-306   0.00000000e+000   0.00000000e+000   0.00000000e+000", 
        "   1.20040548e-294   5.43472210e-323]"
       ]
      }
     ], 
     "prompt_number": 281
    }, 
    {
     "cell_type": "code", 
     "collapsed": false, 
     "input": [
      "tree=dtree.Inner({1:.1,-1:.9}, dtree.Split('x2','a'), tmp3,tmp4,0)", 
      "testdf=tree.generate_data(5)", 
      "testdf.index=arange(testdf.shape[0])", 
      "", 
      "print tree", 
      "print testdf", 
      "print tree.predict(None,testdf,arange(testdf.shape[0]),np.empty(testdf.shape[0]))"
     ], 
     "language": "python", 
     "outputs": [
      {
       "output_type": "stream", 
       "stream": "stdout", 
       "text": [
        "InnerNode (x2=a): depth: 0, 1: 0.10 -1: 0.90", 
        "Y:   InnerNode (x3=0): depth: 1, 1: 0.40 -1: 0.60", 
        "Y:     LeafNode depth: 2, 1: 0.80 -1: 0.20", 
        "N:     LeafNode depth: 2, 1: 0.60 -1: 0.40", 
        "N:   InnerNode (x2=c): depth: 1, 1: 0.99 -1: 0.01", 
        "Y:     LeafNode depth: 2, 1: 0.99 -1: 0.01", 
        "N:     InnerNode (x1=0): depth: 2, 1: 0.80 -1: 0.20", 
        "Y:       LeafNode depth: 3, 1: 0.50 -1: 0.50", 
        "N:       LeafNode depth: 3, 1: 0.20 -1: 0.80", 
        "", 
        "    label  x1   x2  x3", 
        "0       1  10    a   0", 
        "1       1  10    a   0", 
        "2       1  10    a   0", 
        "3      -1  10    a   0", 
        "4       1  10    a   0", 
        "5       1  10    a  10", 
        "6      -1  10    a  10", 
        "7      -1  10    a  10", 
        "8      -1  10    a  10", 
        "9       1  10    a  10", 
        "10      1  10    c  10", 
        "11      1  10    c  10", 
        "12      1  10    c  10", 
        "13      1  10    c  10", 
        "14      1  10    c  10", 
        "15      1   0  c10  10", 
        "16     -1   0  c10  10", 
        "17     -1   0  c10  10", 
        "18      1   0  c10  10", 
        "19     -1   0  c10  10", 
        "20     -1  10  c10  10", 
        "21     -1  10  c10  10", 
        "22     -1  10  c10  10", 
        "23      1  10  c10  10", 
        "24     -1  10  c10  10"
       ]
      }, 
      {
       "output_type": "stream", 
       "stream": "stdout", 
       "text": [
        "", 
        "[ 1.  1.  1.  1.  1.  1.  1.  1.  1.  1.  1.  1.  1.  1.  1.  1.  1.  1.", 
        "  1.  1. -1. -1. -1. -1. -1.]"
       ]
      }
     ], 
     "prompt_number": 5
    }, 
    {
     "cell_type": "markdown", 
     "source": [
      "###Scoring with the Gini coefficient"
     ]
    }, 
    {
     "cell_type": "code", 
     "collapsed": false, 
     "input": [
      "df=pd.DataFrame({'label': pd.Series([1,1,-1,-1,1,1]), 'x': pd.Series([0,0,1,1,1,1])})", 
      "tmp=df.groupby(['x','label']).size()", 
      "print tmp", 
      "", 
      "feature_values, class_labels = tmp.index.levels", 
      "feature_index, label_index = tmp.index.labels"
     ], 
     "language": "python", 
     "outputs": [
      {
       "output_type": "stream", 
       "stream": "stdout", 
       "text": [
        "x  label", 
        "0   1       2", 
        "1  -1       2", 
        "    1       2"
       ]
      }
     ], 
     "prompt_number": 357
    }, 
    {
     "cell_type": "code", 
     "collapsed": false, 
     "input": [
      "for i in range(len(feature_values)):", 
      "    getProps = lambda indx: array([sum(tmp[indx][label_index[indx]==j]) for j in range(len(class_labels))])/float(sum(tmp[indx]))", 
      "    left_props = getProps(feature_index == i)", 
      "    nleft = sum(tmp[feature_index == i])", 
      "", 
      "    right_props = getProps(feature_index != i)", 
      "    nright = sum(tmp[feature_index != i])", 
      "", 
      "    getGini = lambda p: sum(p*(1-p))", 
      "    score = nleft/float(sum(tmp)) * getGini(left_props) + nright/float(sum(tmp)) * getGini(right_props)     ", 
      "    print left_props", 
      "    print right_props", 
      "    print score"
     ], 
     "language": "python", 
     "outputs": [
      {
       "output_type": "stream", 
       "stream": "stdout", 
       "text": [
        "[ 0.  1.]", 
        "[ 0.5  0.5]", 
        "0.333333333333", 
        "[ 0.5  0.5]", 
        "[ 0.  1.]", 
        "0.333333333333"
       ]
      }
     ], 
     "prompt_number": 358
    }, 
    {
     "cell_type": "code", 
     "collapsed": false, 
     "input": [
      "import pa03.dectree.scoring as sc", 
      "res=sc.score_feature(df, 'x', 'label')", 
      "print res"
     ], 
     "language": "python", 
     "outputs": [
      {
       "output_type": "stream", 
       "stream": "stdout", 
       "text": [
        "(array([0, 1], dtype=int64), array([ 0.33333333,  0.33333333]))"
       ]
      }
     ], 
     "prompt_number": 359
    }, 
    {
     "cell_type": "code", 
     "collapsed": false, 
     "input": [
      "print sc.score_feature(testdf,'x1','label')", 
      "print sc.score_feature(testdf,'x2','label')", 
      "print sc.score_feature(testdf, 'x3', 'label')"
     ], 
     "language": "python", 
     "outputs": [
      {
       "output_type": "stream", 
       "stream": "stdout", 
       "text": [
        "(array([0.0, 10.0], dtype=object), array([ 0.352,  0.352]))", 
        "(array([a, c, c10], dtype=object), array([ 0.36      ,  0.364     ,  0.26666667]))", 
        "(array([0.0, 10.0], dtype=object), array([ 0.364,  0.364]))"
       ]
      }, 
      {
       "output_type": "stream", 
       "stream": "stdout", 
       "text": []
      }
     ], 
     "prompt_number": 360
    }, 
    {
     "cell_type": "code", 
     "collapsed": false, 
     "input": [
      "print sc.best_feature_value(df,'x','label')", 
      "print sc.best_feature_value(testdf,'x1','label')"
     ], 
     "language": "python", 
     "outputs": [
      {
       "output_type": "stream", 
       "stream": "stdout", 
       "text": [
        "(1, 0.0)", 
        "(0.0, 0.41500000000000004)"
       ]
      }
     ], 
     "prompt_number": 258
    }, 
    {
     "cell_type": "code", 
     "collapsed": false, 
     "input": [
      "print [sc.best_feature_value(testdf,feature_name,'label') for feature_name in ['x1','x2','x3']]"
     ], 
     "language": "python", 
     "outputs": [
      {
       "output_type": "stream", 
       "stream": "stdout", 
       "text": [
        "[(0.0, 0.41500000000000004), ('a', 0.42266666666666663), (0.0, 0.39100000000000001)]"
       ]
      }
     ], 
     "prompt_number": 261
    }, 
    {
     "cell_type": "code", 
     "collapsed": false, 
     "input": [
      "print sc.best_split(testdf, [1,2,3], 'label')"
     ], 
     "language": "python", 
     "outputs": [
      {
       "output_type": "stream", 
       "stream": "stdout", 
       "text": [
        "((x2=c10), 1, 0.26666666666666666)"
       ]
      }
     ], 
     "prompt_number": 345
    }, 
    {
     "cell_type": "code", 
     "collapsed": false, 
     "input": [
      "from pa03.dectree.DTree import DTree", 
      "dt=DTree(testdf,'label')", 
      "dt.train(10)", 
      "print dt"
     ], 
     "language": "python", 
     "outputs": [
      {
       "output_type": "stream", 
       "stream": "stdout", 
       "text": [
        "InnerNode (x2=c10): depth: 0, 1: 0.64 -1: 0.36 (50/50) examples", 
        "Y:   InnerNode (x1=0.0): depth: 1, 1: 0.40 -1: 0.60 (20/50) examples", 
        "Y:     LeafNode depth: 2, 1: 0.50 -1: 0.50 (10/50) examples", 
        "N:     LeafNode depth: 2, 1: 0.30 -1: 0.70 (10/50) examples", 
        "N:   InnerNode (x2=10): depth: 1, 1: 0.80 -1: 0.20 (30/50) examples", 
        "Y:     InnerNode (x3=0.0): depth: 2, 1: 0.70 -1: 0.30 (20/50) examples", 
        "Y:       LeafNode depth: 3, 1: 0.80 -1: 0.20 (10/50) examples", 
        "N:       LeafNode depth: 3, 1: 0.60 -1: 0.40 (10/50) examples", 
        "N:     LeafNode depth: 2, 1: 1.00 (10/50) examples"
       ]
      }
     ], 
     "prompt_number": 169
    }, 
    {
     "cell_type": "code", 
     "collapsed": false, 
     "input": [
      "dt"
     ], 
     "language": "python", 
     "outputs": [
      {
       "output_type": "pyout", 
       "prompt_number": 18, 
       "text": [
        "InnerNode (x2=c): depth: 0, 1: 0.56 -1: 0.44", 
        "Y:   LeafNode depth: 1, 1: 1.00", 
        "N:   InnerNode (x3=0.0): depth: 1, 1: 0.45 -1: 0.55", 
        "Y:     LeafNode depth: 2, 1: 0.80 -1: 0.20", 
        "N:     InnerNode (x1=0.0): depth: 2, 1: 0.33 -1: 0.67", 
        "Y:       LeafNode depth: 3, 1: 0.40 -1: 0.60", 
        "N:       InnerNode (x2=a): depth: 3, 1: 0.30 -1: 0.70", 
        "Y:         LeafNode depth: 4, 1: 0.40 -1: 0.60", 
        "N:         LeafNode depth: 4, 1: 0.20 -1: 0.80"
       ]
      }
     ], 
     "prompt_number": 18
    }, 
    {
     "cell_type": "code", 
     "collapsed": true, 
     "input": [
      "import pandas as pd", 
      "ratings=pd.load('pa03/movie_data/ratings.pda')", 
      "ratings.pop('rating')", 
      "ratings['age']=pd.cut(ratings['age'],arange(10,max(ratings['age']),5))"
     ], 
     "language": "python", 
     "outputs": [], 
     "prompt_number": 131
    }, 
    {
     "cell_type": "code", 
     "collapsed": false, 
     "input": [
      "print [len(ratings.groupby(col).size().index) for col in ratings.columns]"
     ], 
     "language": "python", 
     "outputs": [
      {
       "output_type": "stream", 
       "stream": "stdout", 
       "text": [
        "[11, 2, 21, 2, 2, 2, 2, 2, 2, 2, 2, 2, 2, 2, 2, 2, 2, 2, 2, 2, 2, 8, 2]"
       ]
      }
     ], 
     "prompt_number": 132
    }, 
    {
     "cell_type": "code", 
     "collapsed": true, 
     "input": [
      "indxs=random.permutation(arange(ratings.shape[0]))", 
      "train_indxs=indxs[:2000]", 
      "tune_indxs=indxs[2000:3000]", 
      "test_indxs=indxs[3000:]"
     ], 
     "language": "python", 
     "outputs": [], 
     "prompt_number": 145
    }, 
    {
     "cell_type": "code", 
     "collapsed": true, 
     "input": [
      "from pa03.dectree.DTree import DTree", 
      "dt=DTree(ratings.ix[train_indxs,:],'isgood')"
     ], 
     "language": "python", 
     "outputs": [], 
     "prompt_number": 205
    }, 
    {
     "cell_type": "code", 
     "collapsed": false, 
     "input": [
      "dt.train(5)", 
      "dt.tune(ratings.ix[tune_indxs,:])", 
      "print dt.optimal_depth"
     ], 
     "language": "python", 
     "outputs": [
      {
       "output_type": "stream", 
       "stream": "stdout", 
       "text": [
        "[(0, 0.42599999999999999), (1, 0.55900000000000005), (2, 0.55900000000000005), (3, 0.55900000000000005), (4, 0.55900000000000005)]", 
        "0"
       ]
      }
     ], 
     "prompt_number": 206
    }, 
    {
     "cell_type": "code", 
     "collapsed": true, 
     "input": [
      "traindf=dt.generate_data(3)", 
      "tunedf=dt.generate_data(3)", 
      "testdf=dt.generate_data(3)"
     ], 
     "language": "python", 
     "outputs": [], 
     "prompt_number": 207
    }, 
    {
     "cell_type": "code", 
     "collapsed": true, 
     "input": [
      "dt2=DTree(traindf,'label')"
     ], 
     "language": "python", 
     "outputs": [], 
     "prompt_number": 208
    }, 
    {
     "cell_type": "code", 
     "collapsed": true, 
     "input": [
      "dt2.train(5)"
     ], 
     "language": "python", 
     "outputs": [], 
     "prompt_number": 209
    }, 
    {
     "cell_type": "code", 
     "collapsed": false, 
     "input": [
      "dt2.tune(tunedf)"
     ], 
     "language": "python", 
     "outputs": [
      {
       "output_type": "stream", 
       "stream": "stdout", 
       "text": [
        "[(0, 0.47619047619047616), (1, 0.15873015873015872), (2, 0.15873015873015872), (3, 0.15873015873015872), (4, 0.15873015873015872)]"
       ]
      }
     ], 
     "prompt_number": 210
    }, 
    {
     "cell_type": "code", 
     "collapsed": false, 
     "input": [
      "mean(dt2.predict(testdf) != testdf['label'])"
     ], 
     "language": "python", 
     "outputs": [
      {
       "output_type": "pyout", 
       "prompt_number": 211, 
       "text": [
        "0.20634920634920634"
       ]
      }
     ], 
     "prompt_number": 211
    }, 
    {
     "cell_type": "markdown", 
     "source": [
      "##Evaluation"
     ]
    }, 
    {
     "cell_type": "code", 
     "collapsed": true, 
     "input": [
      "%load_ext autoreload", 
      "%autoreload 2", 
      "import sys", 
      "sys.path.append('pa03')"
     ], 
     "language": "python", 
     "outputs": [], 
     "prompt_number": 1
    }, 
    {
     "cell_type": "code", 
     "collapsed": false, 
     "input": [
      "import pandas as pd", 
      "ratings=pd.load('pa03/movie_data/ratings_train.pda')", 
      "#ratings.pop('rating')", 
      "#ratings['age']=pd.cut(ratings['age'],arange(10,max(ratings['age']),5))", 
      "", 
      "indxs=random.permutation(arange(ratings.shape[0]))", 
      "train_indxs=indxs[:2000]", 
      "", 
      "from pa03.dectree.DTree import DTree", 
      "dt=DTree(ratings.ix[train_indxs,:],'isgood')", 
      "dt.train(5)", 
      "", 
      "traindf=dt.generate_data(3)", 
      "tunedf=dt.generate_data(3)", 
      "testdf=dt.generate_data(10)"
     ], 
     "language": "python", 
     "outputs": [], 
     "prompt_number": 21
    }, 
    {
     "cell_type": "code", 
     "collapsed": false, 
     "input": [
      "print ratings.columns", 
      "ratings.pop('userid')", 
      "_junk=ratings.pop('itemid')"
     ], 
     "language": "python", 
     "outputs": [
      {
       "output_type": "stream", 
       "stream": "stdout", 
       "text": [
        "array([userid, itemid, rating, age, gender, occupation, Action, Adventure,", 
        "       Animation, Children's, Comedy, Crime, Documentary, Drama, Fantasy,", 
        "       Film-Noir, Horror, Musical, Mystery, Romance, Sci-Fi, Thriller, War,", 
        "       Western, decade, isgood], dtype=object)"
       ]
      }
     ], 
     "prompt_number": 22
    }, 
    {
     "cell_type": "code", 
     "collapsed": false, 
     "input": [
      "pred=dt.predict(ratings)", 
      "mean(pred!=ratings['isgood'])"
     ], 
     "language": "python", 
     "outputs": [
      {
       "output_type": "pyout", 
       "prompt_number": 25, 
       "text": [
        "0.061477310367671414"
       ]
      }
     ], 
     "prompt_number": 25
    }, 
    {
     "cell_type": "code", 
     "collapsed": false, 
     "input": [
      "n=ratings.shape[0]", 
      "indxs=np.random.permutation(np.arange(n))", 
      "ntrain=np.floor(n*.8)", 
      "train_indx=indxs[:ntrain]", 
      "tune_indx=indxs[ntrain:]", 
      "train_df=ratings.ix[train_indx,:]", 
      "train_df.index=arange(train_df.shape[0])", 
      "dt=DTree(train_df,'isgood')", 
      "dt.train(5)", 
      "dt"
     ], 
     "language": "python", 
     "outputs": [
      {
       "output_type": "pyout", 
       "prompt_number": 44, 
       "text": [
        "InnerNode (rating=3): depth: 0, 1: 0.55 -1: 0.45 (72456/72456) examples", 
        "Y:   LeafNode depth: 1, -1: 1.00 (19655/72456) examples", 
        "N:   InnerNode (rating=2): depth: 1, 1: 0.76 -1: 0.24 (52801/72456) examples", 
        "Y:     LeafNode depth: 2, -1: 1.00 (8276/72456) examples", 
        "N:     InnerNode (rating=1): depth: 2, 1: 0.90 -1: 0.10 (44525/72456) examples", 
        "Y:       LeafNode depth: 3, -1: 1.00 (4490/72456) examples", 
        "N:       LeafNode depth: 3, 1: 1.00 (40035/72456) examples"
       ]
      }
     ], 
     "prompt_number": 44
    }, 
    {
     "cell_type": "code", 
     "collapsed": false, 
     "input": [
      "tune_df=ratings.ix[tune_indx,:]", 
      "tune_df.index=arange(tune_df.shape[0])", 
      "dt.tune(tune_df)", 
      "dt"
     ], 
     "language": "python", 
     "outputs": [
      {
       "output_type": "stream", 
       "stream": "stdout", 
       "text": [
        "[(1, 0.17538920172242464), (2, 0.059511979684222151), (3, 0.0)]"
       ]
      }, 
      {
       "output_type": "pyout", 
       "prompt_number": 45, 
       "text": [
        "InnerNode (rating=3): depth: 0, 1: 0.55 -1: 0.45 (72456/72456) examples", 
        "Y:   LeafNode depth: 1, -1: 1.00 (19655/72456) examples", 
        "N:   InnerNode (rating=2): depth: 1, 1: 0.76 -1: 0.24 (52801/72456) examples", 
        "Y:     LeafNode depth: 2, -1: 1.00 (8276/72456) examples", 
        "N:     InnerNode (rating=1): depth: 2, 1: 0.90 -1: 0.10 (44525/72456) examples", 
        "Y:       LeafNode depth: 3, -1: 1.00 (4490/72456) examples", 
        "N:       LeafNode depth: 3, 1: 1.00 (40035/72456) examples"
       ]
      }
     ], 
     "prompt_number": 45
    }, 
    {
     "cell_type": "code", 
     "collapsed": false, 
     "input": [
      "dt.optimal_depth"
     ], 
     "language": "python", 
     "outputs": [
      {
       "output_type": "pyout", 
       "prompt_number": 46, 
       "text": [
        "3"
       ]
      }
     ], 
     "prompt_number": 46
    }, 
    {
     "cell_type": "code", 
     "collapsed": false, 
     "input": [
      "dt.train(1)", 
      "dt"
     ], 
     "language": "python", 
     "outputs": [
      {
       "output_type": "pyout", 
       "prompt_number": 53, 
       "text": [
        "InnerNode (rating=3): depth: 0, 1: 0.55 -1: 0.45 (90570/90570) examples", 
        "Y:   LeafNode depth: 1, -1: 1.00 (24721/90570) examples", 
        "N:   LeafNode depth: 1, 1: 0.76 -1: 0.24 (65849/90570) examples"
       ]
      }
     ], 
     "prompt_number": 53
    }, 
    {
     "cell_type": "code", 
     "collapsed": false, 
     "input": [
      "preds=dt.predict(ratings)", 
      "preds=pd.DataFrame({'preds':preds})", 
      "preds.groupby('preds').size()"
     ], 
     "language": "python", 
     "outputs": [
      {
       "output_type": "pyout", 
       "prompt_number": 56, 
       "text": [
        "preds", 
        "-1       24721", 
        " 1       65849"
       ]
      }
     ], 
     "prompt_number": 56
    }, 
    {
     "cell_type": "code", 
     "collapsed": false, 
     "input": [
      "from pa03.dectree.DTree import get_tree", 
      "dt3=get_tree(ratings2,'isgood')"
     ], 
     "language": "python", 
     "outputs": [
      {
       "output_type": "stream", 
       "stream": "stdout", 
       "text": [
        "[(1, 0.45175002760295901), (2, 0.4054322623385227), (3, 0.3972617864635089), (4, 0.39295572485370434), (5, 0.38958816385116485), (6, 0.38340510102683006), (7, 0.37517941923374187), (8, 0.37302638842883956), (9, 0.37363365352765815), (10, 0.37214309373964888)]"
       ]
      }
     ], 
     "prompt_number": 58
    }, 
    {
     "cell_type": "code", 
     "collapsed": false, 
     "input": [
      "preds=dt3.predict(ratings_test)", 
      "preds=pd.DataFrame({'preds':preds})", 
      "preds.groupby('preds').size()"
     ], 
     "language": "python", 
     "outputs": [
      {
       "output_type": "pyout", 
       "prompt_number": 61, 
       "text": [
        "preds", 
        "-1       3655", 
        " 1       5775"
       ]
      }
     ], 
     "prompt_number": 61
    }, 
    {
     "cell_type": "code", 
     "collapsed": false, 
     "input": [
      "dt=DTree(ratings2,'isgood')", 
      "dt.train(5)", 
      "dt"
     ], 
     "language": "python", 
     "outputs": [
      {
       "output_type": "pyout", 
       "prompt_number": 57, 
       "text": [
        "InnerNode (decade=90): depth: 0, 1: 0.55 -1: 0.45 (90570/90570) examples", 
        "Y:   InnerNode (Drama=0): depth: 1, 1: 0.50 -1: 0.50 (63232/90570) examples", 
        "Y:     InnerNode (Animation=0): depth: 2, 1: 0.44 -1: 0.56 (37026/90570) examples", 
        "Y:       InnerNode (Romance=0): depth: 3, 1: 0.44 -1: 0.56 (34925/90570) examples", 
        "Y:         InnerNode (Comedy=0): depth: 4, 1: 0.42 -1: 0.58 (27650/90570) examples", 
        "Y:           LeafNode depth: 5, 1: 0.45 -1: 0.55 (16902/90570) examples", 
        "N:           LeafNode depth: 5, 1: 0.37 -1: 0.63 (10748/90570) examples", 
        "N:         InnerNode (War=0): depth: 4, 1: 0.50 -1: 0.50 (7275/90570) examples", 
        "Y:           LeafNode depth: 5, 1: 0.47 -1: 0.53 (6398/90570) examples", 
        "N:           LeafNode depth: 5, 1: 0.70 -1: 0.30 (877/90570) examples", 
        "N:       InnerNode (Fantasy=0): depth: 3, 1: 0.59 -1: 0.41 (2101/90570) examples", 
        "Y:         InnerNode (Romance=0): depth: 4, 1: 0.60 -1: 0.40 (2001/90570) examples", 
        "Y:           LeafNode depth: 5, 1: 0.62 -1: 0.38 (1933/90570) examples", 
        "N:           LeafNode depth: 5, 1: 0.22 -1: 0.78 (68/90570) examples", 
        "N:         InnerNode (occupation=educator): depth: 4, 1: 0.22 -1: 0.78 (100/90570) examples", 
        "Y:           LeafNode depth: 5, 1: 1.00 (3/90570) examples", 
        "N:           LeafNode depth: 5, 1: 0.20 -1: 0.80 (97/90570) examples", 
        "N:     InnerNode (occupation=healthcare): depth: 2, 1: 0.58 -1: 0.42 (26206/90570) examples", 
        "Y:       InnerNode (gender=F): depth: 3, 1: 0.30 -1: 0.70 (927/90570) examples", 
        "Y:         InnerNode (age=(40, 45]): depth: 4, 1: 0.25 -1: 0.75 (788/90570) examples", 
        "Y:           LeafNode depth: 5, 1: 0.56 -1: 0.44 (55/90570) examples", 
        "N:           LeafNode depth: 5, 1: 0.23 -1: 0.77 (733/90570) examples", 
        "N:         InnerNode (age=(45, 50]): depth: 4, 1: 0.57 -1: 0.43 (139/90570) examples", 
        "Y:           LeafNode depth: 5, 1: 0.86 -1: 0.14 (56/90570) examples", 
        "N:           LeafNode depth: 5, 1: 0.37 -1: 0.63 (83/90570) examples", 
        "N:       InnerNode (Horror=0): depth: 3, 1: 0.59 -1: 0.41 (25279/90570) examples", 
        "Y:         InnerNode (occupation=writer): depth: 4, 1: 0.59 -1: 0.41 (24934/90570) examples", 
        "Y:           LeafNode depth: 5, 1: 0.51 -1: 0.49 (1484/90570) examples", 
        "N:           LeafNode depth: 5, 1: 0.60 -1: 0.40 (23450/90570) examples", 
        "N:         InnerNode (occupation=engineer): depth: 4, 1: 0.31 -1: 0.69 (345/90570) examples", 
        "Y:           LeafNode depth: 5, 1: 0.08 -1: 0.92 (37/90570) examples", 
        "N:           LeafNode depth: 5, 1: 0.33 -1: 0.67 (308/90570) examples", 
        "N:   InnerNode (Children's=0): depth: 1, 1: 0.67 -1: 0.33 (27338/90570) examples", 
        "Y:     InnerNode (decade=80): depth: 2, 1: 0.68 -1: 0.32 (24783/90570) examples", 
        "Y:       InnerNode (Horror=0): depth: 3, 1: 0.63 -1: 0.37 (10879/90570) examples", 
        "Y:         InnerNode (occupation=healthcare): depth: 4, 1: 0.65 -1: 0.35 (10152/90570) examples", 
        "Y:           LeafNode depth: 5, 1: 0.43 -1: 0.57 (253/90570) examples", 
        "N:           LeafNode depth: 5, 1: 0.65 -1: 0.35 (9899/90570) examples", 
        "N:         InnerNode (age=(15, 20]): depth: 4, 1: 0.46 -1: 0.54 (727/90570) examples", 
        "Y:           LeafNode depth: 5, 1: 0.64 -1: 0.36 (69/90570) examples", 
        "N:           LeafNode depth: 5, 1: 0.45 -1: 0.55 (658/90570) examples", 
        "N:       InnerNode (Horror=0): depth: 3, 1: 0.72 -1: 0.28 (13904/90570) examples", 
        "Y:         InnerNode (Musical=0): depth: 4, 1: 0.74 -1: 0.26 (12280/90570) examples", 
        "Y:           LeafNode depth: 5, 1: 0.75 -1: 0.25 (11427/90570) examples", 
        "N:           LeafNode depth: 5, 1: 0.61 -1: 0.39 (853/90570) examples", 
        "N:         InnerNode (Thriller=0): depth: 4, 1: 0.62 -1: 0.38 (1624/90570) examples", 
        "Y:           LeafNode depth: 5, 1: 0.54 -1: 0.46 (1135/90570) examples", 
        "N:           LeafNode depth: 5, 1: 0.79 -1: 0.21 (489/90570) examples", 
        "N:     InnerNode (Drama=0): depth: 2, 1: 0.54 -1: 0.46 (2555/90570) examples", 
        "Y:       InnerNode (decade=80): depth: 3, 1: 0.50 -1: 0.50 (1878/90570) examples", 
        "Y:         InnerNode (age=(15, 20]): depth: 4, 1: 0.34 -1: 0.66 (113/90570) examples", 
        "Y:           LeafNode depth: 5, 1: 0.75 -1: 0.25 (20/90570) examples", 
        "N:           LeafNode depth: 5, 1: 0.25 -1: 0.75 (93/90570) examples", 
        "N:         InnerNode (Western=0): depth: 4, 1: 0.51 -1: 0.49 (1765/90570) examples", 
        "Y:           LeafNode depth: 5, 1: 0.52 -1: 0.48 (1740/90570) examples", 
        "N:           LeafNode depth: 5, 1: 0.20 -1: 0.80 (25/90570) examples", 
        "N:       InnerNode (decade=60): depth: 3, 1: 0.63 -1: 0.37 (677/90570) examples", 
        "Y:         InnerNode (age=(35, 40]): depth: 4, 1: 0.36 -1: 0.64 (98/90570) examples", 
        "Y:           LeafNode depth: 5, -1: 1.00 (12/90570) examples", 
        "N:           LeafNode depth: 5, 1: 0.41 -1: 0.59 (86/90570) examples", 
        "N:         InnerNode (age=(20, 25]): depth: 4, 1: 0.68 -1: 0.32 (579/90570) examples", 
        "Y:           LeafNode depth: 5, 1: 0.48 -1: 0.52 (99/90570) examples", 
        "N:           LeafNode depth: 5, 1: 0.72 -1: 0.28 (480/90570) examples"
       ]
      }
     ], 
     "prompt_number": 57
    }, 
    {
     "cell_type": "code", 
     "collapsed": false, 
     "input": [
      "dt.tune(ratings)"
     ], 
     "language": "python", 
     "outputs": [
      {
       "output_type": "stream", 
       "stream": "stdout", 
       "text": [
        "[(1, 0.17602959037208787), (2, 0.061477310367671414)]"
       ]
      }
     ], 
     "prompt_number": 11
    }, 
    {
     "cell_type": "code", 
     "collapsed": false, 
     "input": [
      "ratings2=ratings", 
      "#_junk=ratings2.pop('rating')", 
      "dt2=DTree(ratings2,'isgood')", 
      "dt2.train(10)"
     ], 
     "language": "python", 
     "outputs": [], 
     "prompt_number": 15
    }, 
    {
     "cell_type": "code", 
     "collapsed": false, 
     "input": [
      "dt2.tune(ratings2)"
     ], 
     "language": "python", 
     "outputs": [
      {
       "output_type": "stream", 
       "stream": "stdout", 
       "text": [
        "[(1, 0.44860329027271723), (2, 0.40324610798277577), (3, 0.39516396157668104), (4, 0.39158661808545875), (5, 0.38608810864524679), (6, 0.38034669316550734), (7, 0.37351220050789447), (8, 0.36940488020315776), (9, 0.36592690736446948), (10, 0.36116815722645468)]"
       ]
      }
     ], 
     "prompt_number": 16
    }, 
    {
     "cell_type": "code", 
     "collapsed": false, 
     "input": [
      "ratings_test=pd.load('pa03/movie_data/ratings_test.pda')", 
      "dt2.tune(ratings_test)"
     ], 
     "language": "python", 
     "outputs": [
      {
       "output_type": "stream", 
       "stream": "stdout", 
       "text": [
        "[(1, 0.49416755037115589), (2, 0.41654294803817604), (3, 0.41187698833510072), (4, 0.40986214209968186), (5, 0.40551431601272536), (6, 0.39809119830328737), (7, 0.3953340402969247), (8, 0.39703075291622481), (9, 0.39098621420996821), (10, 0.38886532343584307)]"
       ]
      }
     ], 
     "prompt_number": 17
    }, 
    {
     "cell_type": "code", 
     "collapsed": false, 
     "input": [
      "dt2.optimal_depth"
     ], 
     "language": "python", 
     "outputs": [
      {
       "output_type": "pyout", 
       "prompt_number": 19, 
       "text": [
        "10"
       ]
      }
     ], 
     "prompt_number": 19
    }, 
    {
     "cell_type": "code", 
     "collapsed": false, 
     "input": [
      "df=pd.DataFrame({'preds':[-1,-1,-1,-1],'labels':[1,1,-1,-1]})", 
      "mat=df.groupby(['labels','preds']).size()", 
      "print mat", 
      "npos=mat[1]", 
      "print npos", 
      "try:", 
      "    npos[1]/float(sum(npos[1]))", 
      "except:", 
      "    0.", 
      "", 
      "                  ", 
      "print mat[1]", 
      "", 
      "mat=df.groupby(['preds','labels']).size()", 
      "print mat", 
      "print mat[1]"
     ], 
     "language": "python", 
     "outputs": [
      {
       "output_type": "stream", 
       "stream": "stdout", 
       "text": [
        "labels  preds", 
        "-1      -1       2", 
        " 1      -1       2", 
        "preds", 
        "-1       2", 
        "preds", 
        "-1       2"
       ]
      }, 
      {
       "output_type": "stream", 
       "stream": "stdout", 
       "text": [
        "", 
        "preds  labels", 
        "-1     -1        2", 
        "        1        2"
       ]
      }, 
      {
       "output_type": "stream", 
       "stream": "stdout", 
       "text": [
        "", 
        "2"
       ]
      }
     ], 
     "prompt_number": 46
    }, 
    {
     "cell_type": "code", 
     "collapsed": true, 
     "input": [
      "npos=mat[1]"
     ], 
     "language": "python", 
     "outputs": [], 
     "prompt_number": 219
    }, 
    {
     "cell_type": "code", 
     "collapsed": false, 
     "input": [
      "npos[1]/float(sum(npos))"
     ], 
     "language": "python", 
     "outputs": [
      {
       "output_type": "pyout", 
       "prompt_number": 221, 
       "text": [
        "0.68965517241379315"
       ]
      }
     ], 
     "prompt_number": 221
    }, 
    {
     "cell_type": "code", 
     "collapsed": false, 
     "input": [
      "mat=df.groupby(['preds','labels']).size()", 
      "npos=mat[1]", 
      "npos[1]/float(sum(npos))"
     ], 
     "language": "python", 
     "outputs": [
      {
       "output_type": "pyout", 
       "prompt_number": 222, 
       "text": [
        "0.83333333333333337"
       ]
      }
     ], 
     "prompt_number": 222
    }, 
    {
     "cell_type": "code", 
     "collapsed": false, 
     "input": [
      "from pa03.evaluation.eval import fscore", 
      "fscore(preds,labels)"
     ], 
     "language": "python", 
     "outputs": [
      {
       "output_type": "pyout", 
       "prompt_number": 224, 
       "text": [
        "0.75471698113207553"
       ]
      }
     ], 
     "prompt_number": 224
    }, 
    {
     "cell_type": "code", 
     "collapsed": false, 
     "input": [
      "from pa03.evaluation.eval import fscore", 
      "from pa03.evaluation.bootstrap import bootestimate", 
      "from pa03.dectree.DTree import get_tree", 
      "from pa03.evaluation.eval import fscore", 
      "    ", 
      "est=bootestimate(testdf,'label',get_tree,fscore)"
     ], 
     "language": "python", 
     "outputs": [
      {
       "output_type": "stream", 
       "stream": "stdout", 
       "text": [
        "[(0, 0.44444444444444442), (1, 0.41666666666666669), (2, 0.41666666666666669), (3, 0.41666666666666669), (4, 0.41666666666666669), (5, 0.41666666666666669), (6, 0.41666666666666669), (7, 0.41666666666666669), (8, 0.41666666666666669)]", 
        "1.0 0.849056603774", 
        "[(0, 0.44444444444444442), (1, 0.44444444444444442), (2, 0.44444444444444442), (3, 0.44444444444444442), (4, 0.44444444444444442), (5, 0.44444444444444442), (6, 0.44444444444444442), (7, 0.44444444444444442), (8, 0.44444444444444442), (9, 0.44444444444444442)]"
       ]
      }, 
      {
       "output_type": "stream", 
       "stream": "stdout", 
       "text": [
        "", 
        "1.0 0.605633802817", 
        "[(0, 0.3611111111111111), (1, 0.3888888888888889), (2, 0.3888888888888889), (3, 0.3888888888888889), (4, 0.3888888888888889), (5, 0.3888888888888889), (6, 0.3888888888888889), (7, 0.3888888888888889), (8, 0.3888888888888889)]"
       ]
      }, 
      {
       "output_type": "stream", 
       "stream": "stdout", 
       "text": [
        "", 
        "1.0 0.621212121212", 
        "[(0, 0.5), (1, 0.47222222222222221), (2, 0.47222222222222221), (3, 0.47222222222222221), (4, 0.47222222222222221), (5, 0.47222222222222221), (6, 0.47222222222222221), (7, 0.47222222222222221), (8, 0.47222222222222221)]"
       ]
      }, 
      {
       "output_type": "stream", 
       "stream": "stdout", 
       "text": [
        "", 
        "0.928571428571 1.0", 
        "[(0, 0.41666666666666669), (1, 0.41666666666666669), (2, 0.41666666666666669), (3, 0.41666666666666669), (4, 0.41666666666666669), (5, 0.41666666666666669), (6, 0.41666666666666669), (7, 0.41666666666666669), (8, 0.41666666666666669), (9, 0.41666666666666669)]"
       ]
      }, 
      {
       "output_type": "stream", 
       "stream": "stdout", 
       "text": [
        "", 
        "1.0 0.647887323944", 
        "[(0, 0.63888888888888884), (1, 0.58333333333333337), (2, 0.58333333333333337), (3, 0.58333333333333337), (4, 0.58333333333333337), (5, 0.58333333333333337), (6, 0.58333333333333337), (7, 0.58333333333333337), (8, 0.58333333333333337), (9, 0.58333333333333337)]"
       ]
      }, 
      {
       "output_type": "stream", 
       "stream": "stdout", 
       "text": [
        "", 
        "1.0 0.866666666667", 
        "[(0, 0.30555555555555558), (1, 0.33333333333333331), (2, 0.33333333333333331), (3, 0.33333333333333331), (4, 0.33333333333333331), (5, 0.33333333333333331), (6, 0.33333333333333331), (7, 0.33333333333333331), (8, 0.33333333333333331)]"
       ]
      }, 
      {
       "output_type": "stream", 
       "stream": "stdout", 
       "text": [
        "", 
        "1.0 0.631578947368", 
        "[(0, 0.5), (1, 0.5), (2, 0.5), (3, 0.5), (4, 0.5), (5, 0.5), (6, 0.5), (7, 0.5)]"
       ]
      }, 
      {
       "output_type": "stream", 
       "stream": "stdout", 
       "text": [
        "", 
        "1.0 0.539682539683", 
        "[(0, 0.47222222222222221), (1, 0.5), (2, 0.5), (3, 0.5), (4, 0.5), (5, 0.5), (6, 0.5), (7, 0.5), (8, 0.5), (9, 0.5)]"
       ]
      }, 
      {
       "output_type": "stream", 
       "stream": "stdout", 
       "text": [
        "", 
        "1.0 0.548387096774", 
        "[(0, 0.41666666666666669), (1, 0.63888888888888884), (2, 0.63888888888888884), (3, 0.63888888888888884), (4, 0.63888888888888884), (5, 0.63888888888888884), (6, 0.63888888888888884), (7, 0.63888888888888884), (8, 0.63888888888888884), (9, 0.63888888888888884)]"
       ]
      }, 
      {
       "output_type": "stream", 
       "stream": "stdout", 
       "text": [
        "", 
        "1.0 0.558823529412"
       ]
      }
     ], 
     "prompt_number": 13
    }, 
    {
     "cell_type": "code", 
     "collapsed": false, 
     "input": [
      "print est"
     ], 
     "language": "python", 
     "outputs": [
      {
       "output_type": "stream", 
       "stream": "stdout", 
       "text": [
        "[ 0.91836735  0.75438596  0.76635514  0.96296296  0.78632479  0.92857143", 
        "  0.77419355  0.70103093  0.70833333  0.71698113]"
       ]
      }
     ], 
     "prompt_number": 14
    }, 
    {
     "cell_type": "code", 
     "collapsed": false, 
     "input": [
      "from pa03.evaluation.bootstrap import Bootstrap", 
      "bt=Bootstrap(50,2)", 
      "for sample in bt:", 
      "    print 'sample ', sample", 
      "    print 'out_sample ', bt.get_out_of_sample()"
     ], 
     "language": "python", 
     "outputs": [
      {
       "output_type": "stream", 
       "stream": "stdout", 
       "text": [
        "sample  [26 33  6 28  0 17 29 38 17 15 27 38 24  4  3 23 26 28  3 41 30  9 14 22 45", 
        "  1  5  8 33  8 19  1 27 41 23 33 38 32 11 29 18  1 46 13 25 33 48  2 26 37]", 
        "out_sample  [7, 10, 12, 16, 20, 21, 31, 34, 35, 36, 39, 40, 42, 43, 44, 47, 49]", 
        "sample  [15 13 26 48 32 36  7 24 44 33 16 14 27  9 35 36 21 44  2 26 24  4 10 18 21", 
        " 36  6 43 40 33 18 36  1 36 27  3 15 39 44  9 42  5 44 19  8  8  5  6  9 26]", 
        "out_sample  [0, 11, 12, 17, 20, 22, 23, 25, 28, 29, 30, 31, 34, 37, 38, 41, 45, 46, 47, 49]"
       ]
      }
     ], 
     "prompt_number": 35
    }, 
    {
     "cell_type": "markdown", 
     "source": [
      "##Bagging"
     ]
    }, 
    {
     "cell_type": "code", 
     "collapsed": true, 
     "input": [
      "%load_ext autoreload", 
      "%autoreload 2", 
      "import sys", 
      "sys.path.append('pa03')", 
      "", 
      "import pandas as pd", 
      "ratings=pd.load('pa03/movie_data/ratings.pda')", 
      "ratings.pop('rating')", 
      "ratings['age']=pd.cut(ratings['age'],arange(10,max(ratings['age']),5))", 
      "", 
      "indxs=random.permutation(arange(ratings.shape[0]))", 
      "train_indxs=indxs[:2000]", 
      "", 
      "from pa03.dectree.DTree import DTree", 
      "dt=DTree(ratings.ix[train_indxs,:],'isgood')", 
      "dt.train(5)", 
      "", 
      "testdf=dt.generate_data(10)"
     ], 
     "language": "python", 
     "outputs": [], 
     "prompt_number": 15
    }, 
    {
     "cell_type": "code", 
     "collapsed": false, 
     "input": [
      "from pa03.ensemble.bagging import Bagger", 
      "from pa03.dectree.DTree import get_tree", 
      "", 
      "bag=Bagger(testdf, 'label', get_tree)", 
      "bag.train(11)", 
      "bag"
     ], 
     "language": "python", 
     "outputs": [
      {
       "output_type": "stream", 
       "stream": "stdout", 
       "text": [
        "[(0, 0.35714285714285715), (1, 0.32142857142857145), (2, 0.32142857142857145), (3, 0.32142857142857145), (4, 0.32142857142857145), (5, 0.32142857142857145), (6, 0.32142857142857145)]", 
        "[(0, 0.42857142857142855), (1, 0.42857142857142855), (2, 0.42857142857142855), (3, 0.42857142857142855), (4, 0.42857142857142855), (5, 0.42857142857142855), (6, 0.42857142857142855), (7, 0.42857142857142855)]"
       ]
      }, 
      {
       "output_type": "stream", 
       "stream": "stdout", 
       "text": [
        "", 
        "[(0, 0.4642857142857143), (1, 0.42857142857142855), (2, 0.42857142857142855), (3, 0.42857142857142855), (4, 0.42857142857142855), (5, 0.42857142857142855), (6, 0.42857142857142855), (7, 0.42857142857142855)]"
       ]
      }, 
      {
       "output_type": "stream", 
       "stream": "stdout", 
       "text": [
        "", 
        "[(0, 0.35714285714285715), (1, 0.6785714285714286), (2, 0.6785714285714286), (3, 0.6785714285714286), (4, 0.6785714285714286), (5, 0.6785714285714286), (6, 0.6785714285714286), (7, 0.6785714285714286)]"
       ]
      }, 
      {
       "output_type": "stream", 
       "stream": "stdout", 
       "text": [
        "", 
        "[(0, 0.6071428571428571), (1, 0.39285714285714285), (2, 0.39285714285714285), (3, 0.39285714285714285), (4, 0.39285714285714285), (5, 0.39285714285714285)]"
       ]
      }, 
      {
       "output_type": "stream", 
       "stream": "stdout", 
       "text": [
        "", 
        "[(0, 0.5357142857142857), (1, 0.39285714285714285), (2, 0.39285714285714285), (3, 0.39285714285714285), (4, 0.39285714285714285)]"
       ]
      }, 
      {
       "output_type": "stream", 
       "stream": "stdout", 
       "text": [
        "", 
        "[(0, 0.42857142857142855), (1, 0.42857142857142855), (2, 0.42857142857142855), (3, 0.42857142857142855), (4, 0.42857142857142855), (5, 0.42857142857142855), (6, 0.42857142857142855)]"
       ]
      }, 
      {
       "output_type": "stream", 
       "stream": "stdout", 
       "text": [
        "", 
        "[(0, 0.42857142857142855), (1, 0.4642857142857143), (2, 0.4642857142857143), (3, 0.4642857142857143), (4, 0.4642857142857143), (5, 0.4642857142857143), (6, 0.4642857142857143), (7, 0.4642857142857143)]"
       ]
      }, 
      {
       "output_type": "stream", 
       "stream": "stdout", 
       "text": [
        "", 
        "[(0, 0.5357142857142857), (1, 0.5357142857142857), (2, 0.5357142857142857), (3, 0.5357142857142857), (4, 0.5357142857142857)]"
       ]
      }, 
      {
       "output_type": "stream", 
       "stream": "stdout", 
       "text": [
        "", 
        "[(0, 0.4642857142857143), (1, 0.5357142857142857), (2, 0.5357142857142857), (3, 0.5357142857142857), (4, 0.5357142857142857)]"
       ]
      }, 
      {
       "output_type": "stream", 
       "stream": "stdout", 
       "text": [
        "", 
        "[(0, 0.42857142857142855), (1, 0.39285714285714285), (2, 0.39285714285714285), (3, 0.39285714285714285), (4, 0.39285714285714285), (5, 0.39285714285714285), (6, 0.39285714285714285)]"
       ]
      }, 
      {
       "output_type": "stream", 
       "stream": "stdout", 
       "text": []
      }, 
      {
       "output_type": "pyout", 
       "prompt_number": 31, 
       "text": [
        "Bagger with 11 classifiers"
       ]
      }
     ], 
     "prompt_number": 31
    }, 
    {
     "cell_type": "code", 
     "collapsed": false, 
     "input": [
      "preds=bag.predict(testdf)", 
      "from pa03.evaluation.eval import fscore", 
      "fscore(preds,testdf['label'])"
     ], 
     "language": "python", 
     "outputs": [
      {
       "output_type": "stream", 
       "stream": "stdout", 
       "text": [
        "[[ 1.  1.  1. ..., -1.  1.  1.]", 
        " [ 1.  1.  1. ..., -1.  1.  1.]", 
        " [ 1.  1.  1. ..., -1.  1.  1.]", 
        " ..., ", 
        " [ 1.  1.  1. ..., -1.  1.  1.]", 
        " [ 1.  1.  1. ..., -1.  1.  1.]", 
        " [ 1.  1.  1. ..., -1.  1.  1.]]", 
        "0.929577464789"
       ]
      }, 
      {
       "output_type": "stream", 
       "stream": "stdout", 
       "text": [
        " 0.942857142857"
       ]
      }, 
      {
       "output_type": "pyout", 
       "prompt_number": 33, 
       "text": [
        "0.93617021276595747"
       ]
      }
     ], 
     "prompt_number": 33
    }, 
    {
     "cell_type": "markdown", 
     "source": [
      "##CF"
     ]
    }, 
    {
     "cell_type": "code", 
     "collapsed": true, 
     "input": [
      "ratings=pd.load('pa03/movie_data/ratings.pda')"
     ], 
     "language": "python", 
     "outputs": [], 
     "prompt_number": 27
    }, 
    {
     "cell_type": "code", 
     "collapsed": false, 
     "input": [
      "ratings"
     ], 
     "language": "python", 
     "outputs": [
      {
       "output_type": "pyout", 
       "prompt_number": 181, 
       "text": [
        "<class 'pandas.core.frame.DataFrame'>", 
        "Int64Index: 10001 entries, 0 to 10000", 
        "Data columns:", 
        "userid         10001  non-null values", 
        "itemid         10001  non-null values", 
        "rating         10001  non-null values", 
        "age            10001  non-null values", 
        "gender         10001  non-null values", 
        "occupation     10001  non-null values", 
        "Action         10001  non-null values", 
        "Adventure      10001  non-null values", 
        "Animation      10001  non-null values", 
        "Children's     10001  non-null values", 
        "Comedy         10001  non-null values", 
        "Crime          10001  non-null values", 
        "Documentary    10001  non-null values", 
        "Drama          10001  non-null values", 
        "Fantasy        10001  non-null values", 
        "Film-Noir      10001  non-null values", 
        "Horror         10001  non-null values", 
        "Musical        10001  non-null values", 
        "Mystery        10001  non-null values", 
        "Romance        10001  non-null values", 
        "Sci-Fi         10001  non-null values", 
        "Thriller       10001  non-null values", 
        "War            10001  non-null values", 
        "Western        10001  non-null values", 
        "decade         9998  non-null values", 
        "isgood         10001  non-null values", 
        "dtypes: int64(22), object(4)"
       ]
      }
     ], 
     "prompt_number": 181
    }, 
    {
     "cell_type": "code", 
     "collapsed": true, 
     "input": [
      "norms=ratings[['userid','rating']].groupby('userid').aggregate(lambda x: np.sqrt(np.sum(x**2)))['rating']"
     ], 
     "language": "python", 
     "outputs": [], 
     "prompt_number": 99
    }, 
    {
     "cell_type": "code", 
     "collapsed": true, 
     "input": [
      "user=1", 
      "htab={}", 
      "utab={}", 
      "for row_indx,(itemid,rating) in ratings.ix[ratings['userid']==1,['itemid','rating']].iterrows():", 
      "    utab[itemid]=rating"
     ], 
     "language": "python", 
     "outputs": [], 
     "prompt_number": 76
    }, 
    {
     "cell_type": "code", 
     "collapsed": true, 
     "input": [
      "for row_indx,(userid,itemid,rating) in ratings.ix[ratings['userid']!=1,['userid','itemid','rating']].iterrows():", 
      "    if itemid in utab:", 
      "        if userid not in htab:", 
      "            htab[userid] = 0", 
      "        htab[userid] += utab[itemid] * rating"
     ], 
     "language": "python", 
     "outputs": [], 
     "prompt_number": 77
    }, 
    {
     "cell_type": "code", 
     "collapsed": false, 
     "input": [
      "norms[25]"
     ], 
     "language": "python", 
     "outputs": [
      {
       "output_type": "pyout", 
       "prompt_number": 101, 
       "text": [
        "19.621416870348583"
       ]
      }
     ], 
     "prompt_number": 101
    }, 
    {
     "cell_type": "code", 
     "collapsed": true, 
     "input": [
      "for (userid,val) in htab.iteritems():", 
      "    nx=norms[1]", 
      "    ny=norms[userid]", 
      "    htab[userid] = htab[userid]/(norms[1] * norms[userid])"
     ], 
     "language": "python", 
     "outputs": [], 
     "prompt_number": 102
    }, 
    {
     "cell_type": "code", 
     "collapsed": false, 
     "input": [
      "hist(htab.values())"
     ], 
     "language": "python", 
     "outputs": [
      {
       "output_type": "pyout", 
       "prompt_number": 112, 
       "text": [
        "(array([22, 56, 52, 49, 48, 38, 24, 14,  5,  2]),", 
        " array([ 0.00257336,  0.0266539 ,  0.05073444,  0.07481499,  0.09889553,", 
        "        0.12297607,  0.14705662,  0.17113716,  0.1952177 ,  0.21929825,", 
        "        0.24337879]),", 
        " <a list of 10 Patch objects>)"
       ]
      }, 
      {
       "output_type": "display_data", 
       "png": "[encoded data removed]"
      }
     ], 
     "prompt_number": 112
    }, 
    {
     "cell_type": "code", 
     "collapsed": true, 
     "input": [
      "indx=np.argsort(-np.array(htab.values()))[:20]", 
      "users=np.array(htab.keys())[indx]"
     ], 
     "language": "python", 
     "outputs": [], 
     "prompt_number": 113
    }, 
    {
     "cell_type": "code", 
     "collapsed": true, 
     "input": [
      "neighborhood={}", 
      "neighborhood[1]=users", 
      "weights={}", 
      "weights[1]=np.array(htab.values())[indx]"
     ], 
     "language": "python", 
     "outputs": [], 
     "prompt_number": 116
    }, 
    {
     "cell_type": "code", 
     "collapsed": false, 
     "input": [
      "ratings.ix[ratings['userid']==1,:4].head()"
     ], 
     "language": "python", 
     "outputs": [
      {
       "html": [
        "<div style=\"max-height:1000px;max-width:1500px;overflow:auto;\">", 
        "<table border=\"1\" class=\"dataframe\">", 
        "  <thead>", 
        "    <tr style=\"text-align: right;\">", 
        "      <th></th>", 
        "      <th>userid</th>", 
        "      <th>itemid</th>", 
        "      <th>rating</th>", 
        "      <th>age</th>", 
        "    </tr>", 
        "  </thead>", 
        "  <tbody>", 
        "    <tr>", 
        "      <td><strong>80 </strong></td>", 
        "      <td> 1</td>", 
        "      <td>  6</td>", 
        "      <td> 5</td>", 
        "      <td> (20, 25]</td>", 
        "    </tr>", 
        "    <tr>", 
        "      <td><strong>220</strong></td>", 
        "      <td> 1</td>", 
        "      <td> 12</td>", 
        "      <td> 5</td>", 
        "      <td> (20, 25]</td>", 
        "    </tr>", 
        "    <tr>", 
        "      <td><strong>276</strong></td>", 
        "      <td> 1</td>", 
        "      <td> 14</td>", 
        "      <td> 5</td>", 
        "      <td> (20, 25]</td>", 
        "    </tr>", 
        "    <tr>", 
        "      <td><strong>335</strong></td>", 
        "      <td> 1</td>", 
        "      <td> 17</td>", 
        "      <td> 3</td>", 
        "      <td> (20, 25]</td>", 
        "    </tr>", 
        "    <tr>", 
        "      <td><strong>350</strong></td>", 
        "      <td> 1</td>", 
        "      <td> 20</td>", 
        "      <td> 4</td>", 
        "      <td> (20, 25]</td>", 
        "    </tr>", 
        "  </tbody>", 
        "</table>", 
        "</div>"
       ], 
       "output_type": "pyout", 
       "prompt_number": 120, 
       "text": [
        "     userid  itemid  rating       age", 
        "80        1       6       5  (20, 25]", 
        "220       1      12       5  (20, 25]", 
        "276       1      14       5  (20, 25]", 
        "335       1      17       3  (20, 25]", 
        "350       1      20       4  (20, 25]"
       ]
      }
     ], 
     "prompt_number": 120
    }, 
    {
     "cell_type": "code", 
     "collapsed": true, 
     "input": [
      "rhash={}", 
      "for row_indx,(userid,itemid,rating) in ratings[['userid','itemid','rating']].iterrows():", 
      "    rhash[(userid,itemid)]=rating"
     ], 
     "language": "python", 
     "outputs": [], 
     "prompt_number": 128
    }, 
    {
     "cell_type": "code", 
     "collapsed": true, 
     "input": [
      "rat=0", 
      "wsum=0", 
      "itemid=14", 
      "for i in range(20):", 
      "    userid=neighborhood[1][i]", 
      "    if (userid,itemid) in rhash:", 
      "        rat += weights[1][i] * rhash[(userid,itemid)]", 
      "        wsum += weights[1][i]", 
      "if (wsum>0):", 
      "    rat=rat/float(wsum)", 
      "    "
     ], 
     "language": "python", 
     "outputs": [], 
     "prompt_number": 134
    }, 
    {
     "cell_type": "code", 
     "collapsed": false, 
     "input": [
      "rat"
     ], 
     "language": "python", 
     "outputs": [
      {
       "output_type": "pyout", 
       "prompt_number": 135, 
       "text": [
        "3.978790493824703"
       ]
      }
     ], 
     "prompt_number": 135
    }, 
    {
     "cell_type": "code", 
     "collapsed": false, 
     "input": [
      "from pa03.util.cfiltering import CFilter", 
      "cf = CFilter(ratings)", 
      "cf"
     ], 
     "language": "python", 
     "outputs": [
      {
       "output_type": "pyout", 
       "prompt_number": 28, 
       "text": [
        "CFilter with 10001 ratings for 385 users"
       ]
      }
     ], 
     "prompt_number": 28
    }, 
    {
     "cell_type": "code", 
     "collapsed": true, 
     "input": [
      "cf_rating = pd.Series(cf.get_cf_rating(ratings))"
     ], 
     "language": "python", 
     "outputs": [], 
     "prompt_number": 29
    }, 
    {
     "cell_type": "code", 
     "collapsed": false, 
     "input": [
      "print cf_rating.shape", 
      "print ratings.shape", 
      "ratings['cf_rating']=cf_rating", 
      "print ratings.shape"
     ], 
     "language": "python", 
     "outputs": [
      {
       "output_type": "stream", 
       "stream": "stdout", 
       "text": [
        "(10001,)", 
        "(10001, 26)", 
        "(10001, 27)"
       ]
      }, 
      {
       "output_type": "stream", 
       "stream": "stdout", 
       "text": []
      }
     ], 
     "prompt_number": 30
    }, 
    {
     "cell_type": "code", 
     "collapsed": false, 
     "input": [
      "ratings.groupby('cf_rating').size().plot(kind='bar')"
     ], 
     "language": "python", 
     "outputs": [
      {
       "output_type": "pyout", 
       "prompt_number": 31, 
       "text": [
        "<matplotlib.axes.AxesSubplot at 0x37edc10>"
       ]
      }, 
      {
       "output_type": "display_data", 
       "png": "[encoded data removed]"
      }
     ], 
     "prompt_number": 31
    }, 
    {
     "cell_type": "code", 
     "collapsed": false, 
     "input": [
      "ratings.columns"
     ], 
     "language": "python", 
     "outputs": [
      {
       "output_type": "pyout", 
       "prompt_number": 188, 
       "text": [
        "Index([userid, itemid, rating, age, gender, occupation, Action, Adventure,", 
        "       Animation, Children's, Comedy, Crime, Documentary, Drama, Fantasy,", 
        "       Film-Noir, Horror, Musical, Mystery, Romance, Sci-Fi, Thriller, War,", 
        "       Western, decade, isgood, cf_rating], dtype=object)"
       ]
      }
     ], 
     "prompt_number": 188
    }, 
    {
     "cell_type": "code", 
     "collapsed": true, 
     "input": [
      "ratings.pop('userid')", 
      "ratings.pop('itemid')", 
      "tmp=ratings.pop('rating')"
     ], 
     "language": "python", 
     "outputs": [], 
     "prompt_number": 32
    }, 
    {
     "cell_type": "code", 
     "collapsed": true, 
     "input": [
      "dt=DTree(ratings,'isgood')", 
      "dt.train(10)"
     ], 
     "language": "python", 
     "outputs": [], 
     "prompt_number": 35
    }, 
    {
     "cell_type": "code", 
     "collapsed": false, 
     "input": [
      "dt.tune(ratings)"
     ], 
     "language": "python", 
     "outputs": [
      {
       "output_type": "stream", 
       "stream": "stdout", 
       "text": [
        "[(0, 0.43185681431856815), (1, 0.43185681431856815), (2, 0.40145985401459855), (3, 0.39776022397760225), (4, 0.38936106389361064), (5, 0.38666133386661333), (6, 0.38026197380261972), (7, 0.37286271372862712), (8, 0.36396360363963604), (9, 0.35376462353764626)]"
       ]
      }
     ], 
     "prompt_number": 36
    }, 
    {
     "cell_type": "code", 
     "collapsed": true, 
     "input": [
      "pred=dt.predict(ratings)"
     ], 
     "language": "python", 
     "outputs": [], 
     "prompt_number": 37
    }, 
    {
     "cell_type": "code", 
     "collapsed": false, 
     "input": [
      "from pa03.evaluation.eval import fscore", 
      "fscore(pred,ratings['isgood'])"
     ], 
     "language": "python", 
     "outputs": [
      {
       "output_type": "stream", 
       "stream": "stdout", 
       "text": [
        "0.71471312918 0.679324188692"
       ]
      }, 
      {
       "output_type": "pyout", 
       "prompt_number": 39, 
       "text": [
        "0.69656946826758148"
       ]
      }
     ], 
     "prompt_number": 39
    }, 
    {
     "cell_type": "code", 
     "collapsed": true, 
     "input": [
      "ratings.pop('cf_rating')", 
      "dt2=DTree(ratings,'isgood')", 
      "dt2.train(5)"
     ], 
     "language": "python", 
     "outputs": [], 
     "prompt_number": 195
    }, 
    {
     "cell_type": "code", 
     "collapsed": true, 
     "input": [
      "pred=dt2.predict(ratings)"
     ], 
     "language": "python", 
     "outputs": [], 
     "prompt_number": 196
    }, 
    {
     "cell_type": "code", 
     "collapsed": false, 
     "input": [
      "fscore(pred,ratings['isgood'])"
     ], 
     "language": "python", 
     "outputs": [
      {
       "output_type": "stream", 
       "stream": "stdout", 
       "text": [
        "0.657162970785 0.660651096957"
       ]
      }, 
      {
       "output_type": "pyout", 
       "prompt_number": 197, 
       "text": [
        "0.65890241750485268"
       ]
      }
     ], 
     "prompt_number": 197
    }, 
    {
     "cell_type": "code", 
     "collapsed": false, 
     "input": [
      "from pa03.ensemble.bagging import Bagger", 
      "from pa03.dectree.DTree import get_tree", 
      "", 
      "bag=Bagger(ratings, 'isgood', get_tree)", 
      "bag.train(11)", 
      "bag"
     ], 
     "language": "python", 
     "outputs": [
      {
       "output_type": "stream", 
       "stream": "stdout", 
       "text": [
        "[(0, 0.4287856071964018), (1, 0.4287856071964018), (2, 0.44127936031984005), (3, 0.440279860069965), (4, 0.44227886056971516), (5, 0.43928035982008995), (6, 0.43728135932033985), (7, 0.4382808595702149), (8, 0.4382808595702149), (9, 0.4382808595702149)]", 
        "[(0, 0.44577711144427784), (1, 0.44577711144427784), (2, 0.45977011494252873), (3, 0.46076961519240378), (4, 0.46176911544227889), (5, 0.46176911544227889), (6, 0.45977011494252873), (7, 0.45877061469265368), (8, 0.46076961519240378), (9, 0.54822588705647179)]"
       ]
      }, 
      {
       "output_type": "stream", 
       "stream": "stdout", 
       "text": [
        "", 
        "[(0, 0.4307846076961519), (1, 0.4307846076961519), (2, 0.44827586206896552), (3, 0.56321839080459768), (4, 0.56271864067966015), (5, 0.56571714142928531), (6, 0.56521739130434778), (7, 0.5617191404297851), (8, 0.56221889055472263), (9, 0.5617191404297851)]"
       ]
      }, 
      {
       "output_type": "stream", 
       "stream": "stdout", 
       "text": [
        "", 
        "[(0, 0.42378810594702648), (1, 0.42378810594702648), (2, 0.43528235882058969), (3, 0.43528235882058969), (4, 0.43878060969515242), (5, 0.43628185907046479), (6, 0.43178410794602701), (7, 0.43428285857071464), (8, 0.43228385807096453), (9, 0.43278360819590206)]"
       ]
      }, 
      {
       "output_type": "stream", 
       "stream": "stdout", 
       "text": [
        "", 
        "[(0, 0.44177911044477763), (1, 0.44177911044477763), (2, 0.46026986506746626), (3, 0.4592703648175912), (4, 0.46026986506746626), (5, 0.4592703648175912), (6, 0.4592703648175912), (7, 0.53673163418290859), (8, 0.53723138430784612), (9, 0.53873063468265869)]"
       ]
      }, 
      {
       "output_type": "stream", 
       "stream": "stdout", 
       "text": [
        "", 
        "[(0, 0.44077961019490253), (1, 0.44077961019490253), (2, 0.44527736131934031), (3, 0.53823088455772117), (4, 0.53873063468265869), (5, 0.53673163418290859), (6, 0.53873063468265869), (7, 0.53473263368315838), (8, 0.53623188405797106), (9, 0.53823088455772117)]"
       ]
      }, 
      {
       "output_type": "stream", 
       "stream": "stdout", 
       "text": [
        "", 
        "[(0, 0.43128435782108948), (1, 0.43128435782108948), (2, 0.44627686156921537), (3, 0.44527736131934031), (4, 0.54572713643178405), (5, 0.544727636181909), (6, 0.54572713643178405), (7, 0.5427286356821589), (8, 0.54572713643178405), (9, 0.54422788605697148)]"
       ]
      }, 
      {
       "output_type": "stream", 
       "stream": "stdout", 
       "text": [
        "", 
        "[(0, 0.43178410794602701), (1, 0.43178410794602701), (2, 0.44827586206896552), (3, 0.45077461269365315), (4, 0.45027486256871563), (5, 0.45077461269365315), (6, 0.45127436281859068), (7, 0.45177411294352826), (8, 0.44827586206896552), (9, 0.45327336331834084)]"
       ]
      }, 
      {
       "output_type": "stream", 
       "stream": "stdout", 
       "text": [
        "", 
        "[(0, 0.43678160919540232), (1, 0.43678160919540232), (2, 0.44677661169415295), (3, 0.44877561219390305), (4, 0.45027486256871563), (5, 0.4497751124437781), (6, 0.44927536231884058), (7, 0.44827586206896552), (8, 0.44877561219390305), (9, 0.44277861069465269)]"
       ]
      }, 
      {
       "output_type": "stream", 
       "stream": "stdout", 
       "text": [
        "", 
        "[(0, 0.42278860569715143), (1, 0.42278860569715143), (2, 0.43578210894552721), (3, 0.43678160919540232), (4, 0.43928035982008995), (5, 0.4382808595702149), (6, 0.440279860069965), (7, 0.43928035982008995), (8, 0.43778110944527737), (9, 0.44177911044477763)]"
       ]
      }, 
      {
       "output_type": "stream", 
       "stream": "stdout", 
       "text": [
        "", 
        "[(0, 0.42178910544727638), (1, 0.42178910544727638), (2, 0.43228385807096453), (3, 0.43128435782108948), (4, 0.43378310844577711), (5, 0.43178410794602701), (6, 0.43378310844577711), (7, 0.43728135932033985), (8, 0.43878060969515242), (9, 0.43628185907046479)]"
       ]
      }, 
      {
       "output_type": "stream", 
       "stream": "stdout", 
       "text": []
      }, 
      {
       "output_type": "pyout", 
       "prompt_number": 40, 
       "text": [
        "Bagger with 11 classifiers"
       ]
      }
     ], 
     "prompt_number": 40
    }, 
    {
     "cell_type": "code", 
     "collapsed": false, 
     "input": [
      "pred=bag.predict(ratings)", 
      "fscore(pred,ratings['isgood'])"
     ], 
     "language": "python", 
     "outputs": [
      {
       "output_type": "stream", 
       "stream": "stdout", 
       "text": [
        "[[ 1.  1.  1. ...,  1.  1.  1.]", 
        " [ 1.  1.  1. ...,  1.  1.  1.]", 
        " [ 1.  1.  1. ...,  1.  1.  1.]", 
        " ..., ", 
        " [ 1.  1.  1. ...,  1.  1.  1.]", 
        " [ 1.  1.  1. ...,  1.  1.  1.]", 
        " [ 1.  1.  1. ...,  1.  1.  1.]]", 
        "1.0 0.568143185681"
       ]
      }, 
      {
       "output_type": "pyout", 
       "prompt_number": 41, 
       "text": [
        "0.72460626155710006"
       ]
      }
     ], 
     "prompt_number": 41
    }, 
    {
     "cell_type": "code", 
     "collapsed": true, 
     "input": [
      "%load_ext autoreload", 
      "%autoreload 2", 
      "import sys", 
      "sys.path.append('pa03')"
     ], 
     "language": "python", 
     "outputs": [], 
     "prompt_number": 1
    }, 
    {
     "cell_type": "code", 
     "collapsed": true, 
     "input": [
      "import pandas as pd", 
      "ratings=pd.load('pa03/movie_data/ratings.pda')", 
      "ratings.pop('userid')", 
      "ratings.pop('itemid')", 
      "tmp=ratings.pop('rating')"
     ], 
     "language": "python", 
     "outputs": [], 
     "prompt_number": 2
    }, 
    {
     "cell_type": "code", 
     "collapsed": true, 
     "input": [
      "from pa03.dectree.DTree import DTree", 
      "dt=DTree(ratings.ix[:50,:],'isgood')", 
      "dt.train(10)"
     ], 
     "language": "python", 
     "outputs": [], 
     "prompt_number": 15
    }, 
    {
     "cell_type": "code", 
     "collapsed": false, 
     "input": [
      "from pa03.evaluation.eval import error_rate", 
      "error_rate(dt.predict(ratings.ix[:10,:],10),ratings.ix[:10,'isgood'])"
     ], 
     "language": "python", 
     "outputs": [
      {
       "output_type": "pyout", 
       "prompt_number": 23, 
       "text": [
        "0.18181818181818182"
       ]
      }
     ], 
     "prompt_number": 23
    }, 
    {
     "cell_type": "code", 
     "collapsed": false, 
     "input": [
      "dt.tune(ratings.ix[:50,:])"
     ], 
     "language": "python", 
     "outputs": [
      {
       "output_type": "stream", 
       "stream": "stdout", 
       "text": [
        "[(0, 0.39215686274509803), (1, 0.33333333333333331), (2, 0.27450980392156865), (3, 0.23529411764705882), (4, 0.21568627450980393), (5, 0.19607843137254902), (6, 0.13725490196078433), (7, 0.11764705882352941), (8, 0.098039215686274508), (9, 0.078431372549019607)]"
       ]
      }
     ], 
     "prompt_number": 25
    }, 
    {
     "cell_type": "markdown", 
     "source": [
      "##Weighted learning"
     ]
    }, 
    {
     "cell_type": "code", 
     "collapsed": false, 
     "input": [
      "df=pd.DataFrame({'label': pd.Series([1,1,-1,-1,-1,1]), 'x': pd.Series([0,0,0,1,1,1])})", 
      "importance=np.array([1,2,3,4,5,6])", 
      "", 
      "df2=df", 
      "df2['importance']=importance", 
      "cnts=df2.groupby(['x','label']).sum()['importance']", 
      "print cnts", 
      "", 
      "feature_values, class_labels = cnts.index.levels", 
      "feature_index, label_index = cnts.index.labels"
     ], 
     "language": "python", 
     "outputs": [
      {
       "output_type": "stream", 
       "stream": "stdout", 
       "text": [
        "x  label", 
        "0  -1       3", 
        "    1       3", 
        "1  -1       9", 
        "    1       6", 
        "Name: importance"
       ]
      }
     ], 
     "prompt_number": 62
    }, 
    {
     "cell_type": "code", 
     "collapsed": false, 
     "input": [
      "indx=feature_index==0", 
      "print cnts[indx]", 
      "j=0", 
      "print cnts[indx][label_index[indx]==j]", 
      "print sum(cnts[indx][label_index[indx]==j])"
     ], 
     "language": "python", 
     "outputs": [
      {
       "output_type": "stream", 
       "stream": "stdout", 
       "text": [
        "x  label", 
        "0  -1       3", 
        "    1       3", 
        "Name: importance", 
        "x  label", 
        "0  -1       3", 
        "Name: importance", 
        "3.0"
       ]
      }, 
      {
       "output_type": "stream", 
       "stream": "stdout", 
       "text": []
      }
     ], 
     "prompt_number": 63
    }, 
    {
     "cell_type": "code", 
     "collapsed": true, 
     "input": [
      "get_props = lambda indx: np.array([sum(cnts[indx][label_index[indx]==j]) for j in range(len(class_labels))])/float(sum(cnts[indx]))"
     ], 
     "language": "python", 
     "outputs": [], 
     "prompt_number": 64
    }, 
    {
     "cell_type": "code", 
     "collapsed": false, 
     "input": [
      "indx=feature_index==0", 
      "get_props(indx)"
     ], 
     "language": "python", 
     "outputs": [
      {
       "output_type": "pyout", 
       "prompt_number": 66, 
       "text": [
        "array([ 0.6,  0.4])"
       ]
      }
     ], 
     "prompt_number": 66
    }, 
    {
     "cell_type": "code", 
     "collapsed": false, 
     "input": [
      "from pa03.dectree.scoring import score_feature", 
      "score_feature(df,'x','label')"
     ], 
     "language": "python", 
     "outputs": [
      {
       "output_type": "pyout", 
       "prompt_number": 67, 
       "text": [
        "(array([0, 1], dtype=int64), array([ 0.44444444,  0.44444444]))"
       ]
      }
     ], 
     "prompt_number": 67
    }, 
    {
     "cell_type": "code", 
     "collapsed": true, 
     "input": [
      "from pa03.dectree.WDTree import weighted_stump as wstump", 
      "ws=wstump(df,'label',importance)"
     ], 
     "language": "python", 
     "outputs": [], 
     "prompt_number": 82
    }, 
    {
     "cell_type": "code", 
     "collapsed": false, 
     "input": [
      "ws"
     ], 
     "language": "python", 
     "outputs": [
      {
       "output_type": "pyout", 
       "prompt_number": 83, 
       "text": [
        "InnerNode (x=0): depth: 0, 1: 0.43 -1: 0.57 (6/6) examples", 
        "Y:   LeafNode depth: 1, 1: 0.50 -1: 0.50 (3/6) examples", 
        "N:   LeafNode depth: 1, 1: 0.40 -1: 0.60 (3/6) examples"
       ]
      }
     ], 
     "prompt_number": 83
    }, 
    {
     "cell_type": "code", 
     "collapsed": false, 
     "input": [
      "typeof(ws)"
     ], 
     "language": "python", 
     "outputs": [
      {
       "ename": "NameError", 
       "evalue": "name 'typeof' is not defined", 
       "output_type": "pyerr", 
       "traceback": [
        "\u001b[0;31m---------------------------------------------------------------------------\u001b[0m\n\u001b[0;31mNameError\u001b[0m                                 Traceback (most recent call last)", 
        "\u001b[0;32m/Users/hcorrada/Teaching/PracticalMachineLearning/Fall2012/hidden-src/pa03/<ipython-input-84-368354dd9e42>\u001b[0m in \u001b[0;36m<module>\u001b[0;34m()\u001b[0m\n\u001b[0;32m----> 1\u001b[0;31m \u001b[0mtypeof\u001b[0m\u001b[0;34m(\u001b[0m\u001b[0mws\u001b[0m\u001b[0;34m)\u001b[0m\u001b[0;34m\u001b[0m\u001b[0m\n\u001b[0m", 
        "\u001b[0;31mNameError\u001b[0m: name 'typeof' is not defined"
       ]
      }
     ], 
     "prompt_number": 84
    }, 
    {
     "cell_type": "code", 
     "collapsed": false, 
     "input": [
      "ws.__class__"
     ], 
     "language": "python", 
     "outputs": [
      {
       "output_type": "pyout", 
       "prompt_number": 85, 
       "text": [
        "pa03.dectree.WDTree.WDTree"
       ]
      }
     ], 
     "prompt_number": 85
    }, 
    {
     "cell_type": "code", 
     "collapsed": true, 
     "input": [
      "ws=wstump(ratings,'isgood',np.ones(ratings.shape[0]))"
     ], 
     "language": "python", 
     "outputs": [], 
     "prompt_number": 86
    }, 
    {
     "cell_type": "code", 
     "collapsed": false, 
     "input": [
      "ws"
     ], 
     "language": "python", 
     "outputs": [
      {
       "output_type": "pyout", 
       "prompt_number": 87, 
       "text": [
        "InnerNode (decade=90): depth: 0, 1: 0.57 -1: 0.43 (10001/10001) examples", 
        "Y:   LeafNode depth: 1, 1: 0.51 -1: 0.49 (7063/10001) examples", 
        "N:   LeafNode depth: 1, 1: 0.70 -1: 0.30 (2938/10001) examples"
       ]
      }
     ], 
     "prompt_number": 87
    }, 
    {
     "cell_type": "code", 
     "collapsed": true, 
     "input": [
      "from pa03.ensemble.boosting import AdaBoostedStumps", 
      "ab=AdaBoostedStumps(ratings,'isgood')", 
      "ab.train()"
     ], 
     "language": "python", 
     "outputs": [], 
     "prompt_number": 92
    }, 
    {
     "cell_type": "code", 
     "collapsed": false, 
     "input": [
      "ab"
     ], 
     "language": "python", 
     "outputs": [
      {
       "output_type": "pyout", 
       "prompt_number": 94, 
       "text": [
        "AdaBoostedStumps with 20 stumps", 
        "0: 0.137", 
        "InnerNode (decade=90): depth: 0, 1: 0.57 -1: 0.43 (10001/10001) examples", 
        "Y:   LeafNode depth: 1, 1: 0.51 -1: 0.49 (7063/10001) examples", 
        "N:   LeafNode depth: 1, 1: 0.70 -1: 0.30 (2938/10001) examples", 
        "", 
        "1: 0.156", 
        "InnerNode (decade=90): depth: 0, 1: 0.50 -1: 0.50 (10001/10001) examples", 
        "Y:   LeafNode depth: 1, 1: 0.45 -1: 0.55 (7063/10001) examples", 
        "N:   LeafNode depth: 1, 1: 0.64 -1: 0.36 (2938/10001) examples", 
        "", 
        "2: 0.079", 
        "InnerNode (Drama=1): depth: 0, 1: 0.53 -1: 0.47 (10001/10001) examples", 
        "Y:   LeafNode depth: 1, 1: 0.59 -1: 0.41 (3955/10001) examples", 
        "N:   LeafNode depth: 1, 1: 0.50 -1: 0.50 (6046/10001) examples", 
        "", 
        "3: 0.104", 
        "InnerNode (Children's=0): depth: 0, 1: 0.54 -1: 0.46 (10001/10001) examples", 
        "Y:   LeafNode depth: 1, 1: 0.55 -1: 0.45 (9305/10001) examples", 
        "N:   LeafNode depth: 1, 1: 0.44 -1: 0.56 (696/10001) examples", 
        "", 
        "4: 0.023", 
        "InnerNode (Horror=0): depth: 0, 1: 0.50 -1: 0.50 (10001/10001) examples", 
        "Y:   LeafNode depth: 1, 1: 0.51 -1: 0.49 (9485/10001) examples", 
        "N:   LeafNode depth: 1, 1: 0.38 -1: 0.62 (516/10001) examples", 
        "", 
        "5: 0.024", 
        "InnerNode (occupation=writer): depth: 0, 1: 0.49 -1: 0.51 (10001/10001) examples", 
        "Y:   LeafNode depth: 1, 1: 0.36 -1: 0.64 (449/10001) examples", 
        "N:   LeafNode depth: 1, 1: 0.49 -1: 0.51 (9552/10001) examples", 
        "", 
        "6: 0.023", 
        "InnerNode (occupation=writer): depth: 0, 1: 0.50 -1: 0.50 (10001/10001) examples", 
        "Y:   LeafNode depth: 1, 1: 0.37 -1: 0.63 (449/10001) examples", 
        "N:   LeafNode depth: 1, 1: 0.51 -1: 0.49 (9552/10001) examples", 
        "", 
        "7: 0.035", 
        "InnerNode (occupation=artist): depth: 0, 1: 0.49 -1: 0.51 (10001/10001) examples", 
        "Y:   LeafNode depth: 1, 1: 0.65 -1: 0.35 (251/10001) examples", 
        "N:   LeafNode depth: 1, 1: 0.49 -1: 0.51 (9750/10001) examples", 
        "", 
        "8: 0.032", 
        "InnerNode (Horror=0): depth: 0, 1: 0.51 -1: 0.49 (10001/10001) examples", 
        "Y:   LeafNode depth: 1, 1: 0.51 -1: 0.49 (9485/10001) examples", 
        "N:   LeafNode depth: 1, 1: 0.41 -1: 0.59 (516/10001) examples", 
        "", 
        "9: 0.049", 
        "InnerNode (decade=90): depth: 0, 1: 0.49 -1: 0.51 (10001/10001) examples", 
        "Y:   LeafNode depth: 1, 1: 0.48 -1: 0.52 (7063/10001) examples", 
        "N:   LeafNode depth: 1, 1: 0.53 -1: 0.47 (2938/10001) examples", 
        "", 
        "10: 0.024", 
        "InnerNode (occupation=writer): depth: 0, 1: 0.50 -1: 0.50 (10001/10001) examples", 
        "Y:   LeafNode depth: 1, 1: 0.40 -1: 0.60 (449/10001) examples", 
        "N:   LeafNode depth: 1, 1: 0.51 -1: 0.49 (9552/10001) examples", 
        "", 
        "11: 0.016", 
        "InnerNode (occupation=executive): depth: 0, 1: 0.49 -1: 0.51 (10001/10001) examples", 
        "Y:   LeafNode depth: 1, 1: 0.40 -1: 0.60 (455/10001) examples", 
        "N:   LeafNode depth: 1, 1: 0.50 -1: 0.50 (9546/10001) examples", 
        "", 
        "12: 0.017", 
        "InnerNode (occupation=executive): depth: 0, 1: 0.50 -1: 0.50 (10001/10001) examples", 
        "Y:   LeafNode depth: 1, 1: 0.41 -1: 0.59 (455/10001) examples", 
        "N:   LeafNode depth: 1, 1: 0.50 -1: 0.50 (9546/10001) examples", 
        "", 
        "13: 0.034", 
        "InnerNode (War=1): depth: 0, 1: 0.49 -1: 0.51 (10001/10001) examples", 
        "Y:   LeafNode depth: 1, 1: 0.55 -1: 0.45 (913/10001) examples", 
        "N:   LeafNode depth: 1, 1: 0.49 -1: 0.51 (9088/10001) examples", 
        "", 
        "14: 0.013", 
        "InnerNode (occupation=artist): depth: 0, 1: 0.51 -1: 0.49 (10001/10001) examples", 
        "Y:   LeafNode depth: 1, 1: 0.63 -1: 0.37 (251/10001) examples", 
        "N:   LeafNode depth: 1, 1: 0.50 -1: 0.50 (9750/10001) examples", 
        "", 
        "15: 0.011", 
        "InnerNode (occupation=artist): depth: 0, 1: 0.50 -1: 0.50 (10001/10001) examples", 
        "Y:   LeafNode depth: 1, 1: 0.62 -1: 0.38 (251/10001) examples", 
        "N:   LeafNode depth: 1, 1: 0.50 -1: 0.50 (9750/10001) examples", 
        "", 
        "16: 0.014", 
        "InnerNode (age=(15, 20]): depth: 0, 1: 0.51 -1: 0.49 (10001/10001) examples", 
        "Y:   LeafNode depth: 1, 1: 0.56 -1: 0.44 (999/10001) examples", 
        "N:   LeafNode depth: 1, 1: 0.50 -1: 0.50 (9002/10001) examples", 
        "", 
        "17: 0.035", 
        "InnerNode (Horror=0): depth: 0, 1: 0.51 -1: 0.49 (10001/10001) examples", 
        "Y:   LeafNode depth: 1, 1: 0.51 -1: 0.49 (9485/10001) examples", 
        "N:   LeafNode depth: 1, 1: 0.43 -1: 0.57 (516/10001) examples", 
        "", 
        "18: 0.010", 
        "InnerNode (occupation=executive): depth: 0, 1: 0.49 -1: 0.51 (10001/10001) examples", 
        "Y:   LeafNode depth: 1, 1: 0.42 -1: 0.58 (455/10001) examples", 
        "N:   LeafNode depth: 1, 1: 0.50 -1: 0.50 (9546/10001) examples", 
        "", 
        "19: 0.014", 
        "InnerNode (occupation=executive): depth: 0, 1: 0.50 -1: 0.50 (10001/10001) examples", 
        "Y:   LeafNode depth: 1, 1: 0.42 -1: 0.58 (455/10001) examples", 
        "N:   LeafNode depth: 1, 1: 0.50 -1: 0.50 (9546/10001) examples"
       ]
      }
     ], 
     "prompt_number": 94
    }, 
    {
     "cell_type": "code", 
     "collapsed": false, 
     "input": [
      "pred=ab.predict(ratings)", 
      "fscore(pred,ratings['isgood'])"
     ], 
     "language": "python", 
     "outputs": [
      {
       "output_type": "stream", 
       "stream": "stdout", 
       "text": [
        "0.719992960225 0.635939685994"
       ]
      }, 
      {
       "output_type": "pyout", 
       "prompt_number": 95, 
       "text": [
        "0.67536112257531988"
       ]
      }
     ], 
     "prompt_number": 95
    }, 
    {
     "cell_type": "code", 
     "collapsed": false, 
     "input": [
      "import pa03.dectree.scoring as sc", 
      "import pa03.dectree.weighted_scoring as wsc", 
      "import pa03.dectree.random_scoring as rsc", 
      "", 
      "print sc.best_split(ratings,np.arange(10),'isgood')", 
      "print wsc.best_split(ratings,np.arange(10),'isgood', np.ones(ratings.shape[0]))", 
      "print rsc.best_split(ratings,np.arange(10), 'isgood', 3)"
     ], 
     "language": "python", 
     "outputs": [
      {
       "output_type": "stream", 
       "stream": "stdout", 
       "text": [
        "((Comedy=0), array([0, 1, 2, 3, 4, 5, 6, 8, 9]), 0.48893972646333261)", 
        "((Comedy=0), array([0, 1, 2, 3, 4, 5, 6, 8, 9]), 0.48893972646333261)"
       ]
      }, 
      {
       "output_type": "stream", 
       "stream": "stdout", 
       "text": [
        "", 
        "((age=(10, 15]), array([0, 1, 2, 3, 4, 5, 6, 7, 8, 9]), 0.48893972646333261)"
       ]
      }, 
      {
       "output_type": "stream", 
       "stream": "stdout", 
       "text": []
      }
     ], 
     "prompt_number": 130
    }, 
    {
     "cell_type": "code", 
     "collapsed": false, 
     "input": [
      "from pa03.dectree.RTree import get_tree", 
      "rt=get_tree(ratings,'isgood')"
     ], 
     "language": "python", 
     "outputs": [
      {
       "output_type": "stream", 
       "stream": "stdout", 
       "text": [
        "[ 0.49009956  0.49056791  0.49021801  0.48958452  0.48765955]", 
        "[ 0.48495295  0.48726903  0.48770507  0.48779901  0.48780798]"
       ]
      }, 
      {
       "output_type": "stream", 
       "stream": "stdout", 
       "text": [
        "", 
        "[ 0.49440825  0.49300444  0.49503368  0.49434202  0.49344955]"
       ]
      }, 
      {
       "output_type": "stream", 
       "stream": "stdout", 
       "text": [
        "", 
        "[ 0.49838188  0.48524272  0.4580977   0.49153223  0.47904957]"
       ]
      }, 
      {
       "output_type": "stream", 
       "stream": "stdout", 
       "text": [
        "", 
        "[ 0.49724858  0.47175286  0.49993959  0.49993959  0.49993959]"
       ]
      }, 
      {
       "output_type": "stream", 
       "stream": "stdout", 
       "text": [
        "", 
        "[ 0.43636364  0.49494949  0.4040404   0.38787879  0.45454545]"
       ]
      }, 
      {
       "output_type": "stream", 
       "stream": "stdout", 
       "text": [
        "", 
        "[ 0.  0.  0.  0.]", 
        "[ 0.41666667  0.34444444  0.38095238  0.44444444  0.31746032]"
       ]
      }, 
      {
       "output_type": "stream", 
       "stream": "stdout", 
       "text": [
        "", 
        "[ 0.37142857  0.          0.37142857  0.34285714  0.37142857]"
       ]
      }, 
      {
       "output_type": "stream", 
       "stream": "stdout", 
       "text": [
        "", 
        "[ 0.  0.  0.  0.  0.]", 
        "[ 0.3         0.3         0.          0.26666667  0.3       ]"
       ]
      }, 
      {
       "output_type": "stream", 
       "stream": "stdout", 
       "text": [
        "", 
        "[ 0.33333333  0.33333333  0.33333333  0.          0.33333333]", 
        "[ 0.5         0.49923896  0.5         0.4569378   0.49382716]"
       ]
      }, 
      {
       "output_type": "stream", 
       "stream": "stdout", 
       "text": [
        "", 
        "[ 0.5         0.5         0.5         0.5         0.33333333]", 
        "[ 0.  0.  0.  0.  0.]"
       ]
      }, 
      {
       "output_type": "stream", 
       "stream": "stdout", 
       "text": [
        "", 
        "[ 0.  0.]", 
        "[ 0.48        0.48767123  0.48684211  0.45238095  0.49863014]"
       ]
      }, 
      {
       "output_type": "stream", 
       "stream": "stdout", 
       "text": [
        "", 
        "[ 0.43589744  0.43589744  0.43589744  0.43589744  0.43589744]", 
        "[ 0.42140468  0.45192308  0.44307692  0.44307692  0.44307692]"
       ]
      }, 
      {
       "output_type": "stream", 
       "stream": "stdout", 
       "text": [
        "", 
        "[ 0.42666667  0.42956522  0.42666667  0.42666667  0.42666667]", 
        "[ 0.47344606  0.47833572  0.47058824  0.48379352  0.47058824]"
       ]
      }, 
      {
       "output_type": "stream", 
       "stream": "stdout", 
       "text": [
        "", 
        "[ 0.45        0.45        0.4         0.44444444  0.475     ]"
       ]
      }, 
      {
       "output_type": "stream", 
       "stream": "stdout", 
       "text": [
        "", 
        "[ 0.41666667  0.42857143  0.38095238  0.42857143  0.41666667]"
       ]
      }, 
      {
       "output_type": "stream", 
       "stream": "stdout", 
       "text": [
        "", 
        "[ 0.45239969  0.45731707  0.44287548  0.45731707  0.44390244]"
       ]
      }, 
      {
       "output_type": "stream", 
       "stream": "stdout", 
       "text": [
        "", 
        "[ 0.44871795  0.44871795  0.45394737  0.45238095  0.46857143]"
       ]
      }, 
      {
       "output_type": "stream", 
       "stream": "stdout", 
       "text": [
        "", 
        "[ 0.44444444  0.44444444  0.44444444  0.44444444  0.5       ]"
       ]
      }, 
      {
       "output_type": "stream", 
       "stream": "stdout", 
       "text": [
        "", 
        "[ 0.25        0.33333333  0.25        0.33333333  0.25      ]"
       ]
      }, 
      {
       "output_type": "stream", 
       "stream": "stdout", 
       "text": [
        "", 
        "[ 0.33333333  0.33333333  0.          0.          0.33333333]"
       ]
      }, 
      {
       "output_type": "stream", 
       "stream": "stdout", 
       "text": [
        "", 
        "[ 0.  0.  0.  0.]"
       ]
      }, 
      {
       "output_type": "stream", 
       "stream": "stdout", 
       "text": [
        "", 
        "[ 0.41666667  0.33333333  0.          0.4         0.4       ]"
       ]
      }, 
      {
       "output_type": "stream", 
       "stream": "stdout", 
       "text": [
        "", 
        "[ 0.          0.          0.26666667  0.4         0.3       ]"
       ]
      }, 
      {
       "output_type": "stream", 
       "stream": "stdout", 
       "text": [
        "", 
        "[ 0.4871126   0.48970712  0.49065859  0.48907397  0.48793265]"
       ]
      }, 
      {
       "output_type": "stream", 
       "stream": "stdout", 
       "text": [
        "", 
        "[ 0.428       0.428       0.30909091  0.35478261  0.42603175]"
       ]
      }, 
      {
       "output_type": "stream", 
       "stream": "stdout", 
       "text": [
        "", 
        "[ 0.31313131  0.36842105  0.31578947  0.31578947  0.36111111]"
       ]
      }, 
      {
       "output_type": "stream", 
       "stream": "stdout", 
       "text": [
        "", 
        "[ 0.29148629  0.34529915  0.30769231  0.2745098   0.33986928]"
       ]
      }, 
      {
       "output_type": "stream", 
       "stream": "stdout", 
       "text": [
        "", 
        "[ 0.33333333  0.33333333  0.33333333  0.33333333  0.33333333]"
       ]
      }, 
      {
       "output_type": "stream", 
       "stream": "stdout", 
       "text": [
        "", 
        "[ 0.33333333  0.33333333  0.33333333  0.          0.        ]"
       ]
      }, 
      {
       "output_type": "stream", 
       "stream": "stdout", 
       "text": [
        "", 
        "[ 0.  0.  0.  0.  0.]"
       ]
      }, 
      {
       "output_type": "stream", 
       "stream": "stdout", 
       "text": [
        "", 
        "[ 0.24175824  0.23571429  0.23376623  0.23571429  0.23376623]"
       ]
      }, 
      {
       "output_type": "stream", 
       "stream": "stdout", 
       "text": [
        "", 
        "[ 0.33333333  0.25        0.25        0.25        0.25      ]"
       ]
      }, 
      {
       "output_type": "stream", 
       "stream": "stdout", 
       "text": [
        "", 
        "[ 0.  0.  0.  0.]"
       ]
      }, 
      {
       "output_type": "stream", 
       "stream": "stdout", 
       "text": [
        "", 
        "[ 0.175       0.17777778  0.175       0.17777778  0.1       ]"
       ]
      }, 
      {
       "output_type": "stream", 
       "stream": "stdout", 
       "text": [
        "", 
        "[ 0.19047619  0.18518519  0.19444444  0.19047619  0.19047619]"
       ]
      }, 
      {
       "output_type": "stream", 
       "stream": "stdout", 
       "text": [
        "", 
        "[ 0.  0.  0.  0.  0.]"
       ]
      }, 
      {
       "output_type": "stream", 
       "stream": "stdout", 
       "text": [
        "", 
        "[ 0.4         0.4         0.4         0.26666667  0.26666667]"
       ]
      }, 
      {
       "output_type": "stream", 
       "stream": "stdout", 
       "text": [
        "", 
        "[ 0.33333333  0.33333333  0.33333333  0.33333333  0.        ]"
       ]
      }, 
      {
       "output_type": "stream", 
       "stream": "stdout", 
       "text": [
        "", 
        "[ 0.33333333  0.          0.33333333  0.33333333  0.        ]"
       ]
      }, 
      {
       "output_type": "stream", 
       "stream": "stdout", 
       "text": [
        "", 
        "[ 0.49113404  0.49153748  0.49367607  0.49082343  0.4939059 ]"
       ]
      }, 
      {
       "output_type": "stream", 
       "stream": "stdout", 
       "text": [
        "", 
        "[ 0.4605475   0.44879433  0.45766938  0.4555102   0.44408163]"
       ]
      }, 
      {
       "output_type": "stream", 
       "stream": "stdout", 
       "text": [
        "", 
        "[ 0.4440753   0.44812925  0.44812925  0.44886621  0.44812925]"
       ]
      }, 
      {
       "output_type": "stream", 
       "stream": "stdout", 
       "text": [
        "", 
        "[ 0.42020202  0.41666667  0.41055718  0.41055718  0.4173998 ]"
       ]
      }, 
      {
       "output_type": "stream", 
       "stream": "stdout", 
       "text": [
        "", 
        "[ 0.29464286  0.36666667  0.42916667  0.41666667  0.41964286]"
       ]
      }, 
      {
       "output_type": "stream", 
       "stream": "stdout", 
       "text": [
        "", 
        "[ 0.38095238  0.44444444  0.42857143  0.22222222  0.43589744]"
       ]
      }, 
      {
       "output_type": "stream", 
       "stream": "stdout", 
       "text": [
        "", 
        "[ 0.40441176  0.39215686  0.39215686  0.40441176  0.40441176]"
       ]
      }, 
      {
       "output_type": "stream", 
       "stream": "stdout", 
       "text": [
        "", 
        "[ 0.44        0.44444444  0.44444444  0.42857143  0.38888889]"
       ]
      }, 
      {
       "output_type": "stream", 
       "stream": "stdout", 
       "text": [
        "", 
        "[ 0.45        0.44090909  0.49107143  0.48717949  0.49107143]"
       ]
      }, 
      {
       "output_type": "stream", 
       "stream": "stdout", 
       "text": [
        "", 
        "[ 0.46666667  0.33333333  0.5         0.5         0.5       ]"
       ]
      }, 
      {
       "output_type": "stream", 
       "stream": "stdout", 
       "text": [
        "", 
        "[ 0.4         0.26666667  0.33333333  0.41666667  0.33333333]"
       ]
      }, 
      {
       "output_type": "stream", 
       "stream": "stdout", 
       "text": [
        "", 
        "[ 0.35714286  0.42857143  0.42857143  0.36666667  0.35714286]"
       ]
      }, 
      {
       "output_type": "stream", 
       "stream": "stdout", 
       "text": [
        "", 
        "[ 0.38095238  0.37142857  0.38095238  0.4047619   0.38095238]"
       ]
      }, 
      {
       "output_type": "stream", 
       "stream": "stdout", 
       "text": [
        "", 
        "[ 0.49267632  0.48718156  0.49660201  0.49655507  0.49655507]"
       ]
      }, 
      {
       "output_type": "stream", 
       "stream": "stdout", 
       "text": [
        "", 
        "[ 0.49341085  0.49973545  0.49388265  0.49860394  0.4995005 ]"
       ]
      }, 
      {
       "output_type": "stream", 
       "stream": "stdout", 
       "text": [
        "", 
        "[ 0.4891362   0.47401247  0.48921649  0.49006359  0.48187961]"
       ]
      }, 
      {
       "output_type": "stream", 
       "stream": "stdout", 
       "text": [
        "", 
        "[ 0.          0.          0.33333333  0.33333333  0.25      ]"
       ]
      }, 
      {
       "output_type": "stream", 
       "stream": "stdout", 
       "text": [
        "", 
        "[ 0.          0.          0.33333333  0.          0.        ]"
       ]
      }, 
      {
       "output_type": "stream", 
       "stream": "stdout", 
       "text": [
        "", 
        "[ 0.48487395  0.46512605  0.47981859  0.48203463  0.48163265]"
       ]
      }, 
      {
       "output_type": "stream", 
       "stream": "stdout", 
       "text": [
        "", 
        "[ 0.46213394  0.47209653  0.45677362  0.47802024  0.45303455]"
       ]
      }, 
      {
       "output_type": "stream", 
       "stream": "stdout", 
       "text": [
        "", 
        "[ 0.19871795  0.21428571  0.21428571  0.2         0.21666667]"
       ]
      }, 
      {
       "output_type": "stream", 
       "stream": "stdout", 
       "text": [
        "", 
        "[ 0.31746032  0.3015873   0.31746032  0.3015873   0.2962963 ]"
       ]
      }, 
      {
       "output_type": "stream", 
       "stream": "stdout", 
       "text": [
        "", 
        "[ 0.16666667  0.25        0.25        0.26666667  0.26666667]"
       ]
      }, 
      {
       "output_type": "stream", 
       "stream": "stdout", 
       "text": [
        "", 
        "[ 0.          0.          0.          0.33333333  0.        ]"
       ]
      }, 
      {
       "output_type": "stream", 
       "stream": "stdout", 
       "text": [
        "", 
        "[ 0.49125154  0.4912492   0.49113849  0.48061136  0.48822373]"
       ]
      }, 
      {
       "output_type": "stream", 
       "stream": "stdout", 
       "text": [
        "", 
        "[ 0.29340659  0.28717949  0.29340659  0.28960623  0.29448329]"
       ]
      }, 
      {
       "output_type": "stream", 
       "stream": "stdout", 
       "text": [
        "", 
        "[ 0.41258741  0.41258741  0.41538462  0.34871795  0.34871795]"
       ]
      }, 
      {
       "output_type": "stream", 
       "stream": "stdout", 
       "text": [
        "", 
        "[ 0.44444444  0.2962963   0.41666667  0.44444444  0.41666667]"
       ]
      }, 
      {
       "output_type": "stream", 
       "stream": "stdout", 
       "text": [
        "", 
        "[ 0.2007326   0.20192308  0.20192308  0.17948718  0.1978022 ]"
       ]
      }, 
      {
       "output_type": "stream", 
       "stream": "stdout", 
       "text": [
        "", 
        "[ 0.21590909  0.21052632  0.2125      0.21578947  0.2173913 ]"
       ]
      }, 
      {
       "output_type": "stream", 
       "stream": "stdout", 
       "text": [
        "", 
        "[ 0.49516908  0.48275862  0.4966443   0.49960599  0.49810795]"
       ]
      }, 
      {
       "output_type": "stream", 
       "stream": "stdout", 
       "text": [
        "", 
        "[ 0.44444444  0.4         0.4         0.4         0.4       ]"
       ]
      }, 
      {
       "output_type": "stream", 
       "stream": "stdout", 
       "text": [
        "", 
        "[ 0.4         0.26666667  0.46666667  0.26666667  0.26666667]"
       ]
      }, 
      {
       "output_type": "stream", 
       "stream": "stdout", 
       "text": [
        "", 
        "[ 0.49195234  0.49822585  0.48909465  0.49768519  0.48909465]"
       ]
      }, 
      {
       "output_type": "stream", 
       "stream": "stdout", 
       "text": [
        "", 
        "[ 0.41456583  0.39750446  0.35294118  0.40441176  0.41456583]"
       ]
      }, 
      {
       "output_type": "stream", 
       "stream": "stdout", 
       "text": [
        "", 
        "[ 0.495781    0.49664305  0.4920929   0.49268429  0.49184252]"
       ]
      }, 
      {
       "output_type": "stream", 
       "stream": "stdout", 
       "text": [
        "", 
        "[ 0.48255921  0.48379735  0.4839785   0.48359323  0.48284732]"
       ]
      }, 
      {
       "output_type": "stream", 
       "stream": "stdout", 
       "text": [
        "", 
        "[ 0.48683225  0.4853114   0.49003934  0.48367549  0.47840488]"
       ]
      }, 
      {
       "output_type": "stream", 
       "stream": "stdout", 
       "text": [
        "", 
        "[ 0.48284314  0.48550725  0.48122066  0.47474747  0.47652582]"
       ]
      }, 
      {
       "output_type": "stream", 
       "stream": "stdout", 
       "text": [
        "", 
        "[ 0.38181818  0.39393939  0.4040404   0.43636364  0.46212121]"
       ]
      }, 
      {
       "output_type": "stream", 
       "stream": "stdout", 
       "text": [
        "", 
        "[ 0.44444444  0.4         0.4         0.475       0.41904762]"
       ]
      }, 
      {
       "output_type": "stream", 
       "stream": "stdout", 
       "text": [
        "", 
        "[ 0.38095238  0.38095238  0.42857143  0.44444444  0.44444444]"
       ]
      }, 
      {
       "output_type": "stream", 
       "stream": "stdout", 
       "text": [
        "", 
        "[ 0.48571429  0.48571429  0.38095238  0.42857143  0.48571429]"
       ]
      }, 
      {
       "output_type": "stream", 
       "stream": "stdout", 
       "text": [
        "", 
        "[ 0.3         0.4         0.46666667  0.46666667  0.46666667]"
       ]
      }, 
      {
       "output_type": "stream", 
       "stream": "stdout", 
       "text": [
        "", 
        "[ 0.  0.  0.  0.  0.]"
       ]
      }, 
      {
       "output_type": "stream", 
       "stream": "stdout", 
       "text": [
        "", 
        "[ 0.47814208  0.48313548  0.48612863  0.42172036  0.4882231 ]"
       ]
      }, 
      {
       "output_type": "stream", 
       "stream": "stdout", 
       "text": [
        "", 
        "[ 0.          0.33333333  0.5         0.5         0.33333333]"
       ]
      }, 
      {
       "output_type": "stream", 
       "stream": "stdout", 
       "text": [
        "", 
        "[ 0.  0.  0.  0.]"
       ]
      }, 
      {
       "output_type": "stream", 
       "stream": "stdout", 
       "text": [
        "", 
        "[ 0.  0.  0.  0.  0.]"
       ]
      }, 
      {
       "output_type": "stream", 
       "stream": "stdout", 
       "text": [
        "", 
        "[ 0.48120301  0.48120301  0.48311817  0.48606811  0.48667966]"
       ]
      }, 
      {
       "output_type": "stream", 
       "stream": "stdout", 
       "text": [
        "", 
        "[ 0.48394241  0.49277846  0.48568873  0.3874449   0.48394241]"
       ]
      }, 
      {
       "output_type": "stream", 
       "stream": "stdout", 
       "text": [
        "", 
        "[ 0.33333333  0.33333333  0.25        0.25        0.33333333]"
       ]
      }, 
      {
       "output_type": "stream", 
       "stream": "stdout", 
       "text": [
        "", 
        "[ 0.48582996  0.47401247  0.497003    0.48582996  0.49140271]"
       ]
      }, 
      {
       "output_type": "stream", 
       "stream": "stdout", 
       "text": [
        "", 
        "[ 0.4974359   0.45714286  0.4969697   0.45714286  0.48888889]", 
        "[ 0.45833333  0.38541667  0.45833333  0.49621212  0.49473684]"
       ]
      }, 
      {
       "output_type": "stream", 
       "stream": "stdout", 
       "text": [
        "", 
        "[ 0.35714286  0.3956044   0.33571429  0.32142857  0.3956044 ]"
       ]
      }, 
      {
       "output_type": "stream", 
       "stream": "stdout", 
       "text": [
        "", 
        "[ 0.42564103  0.41025641  0.46853147  0.44871795  0.47179487]"
       ]
      }, 
      {
       "output_type": "stream", 
       "stream": "stdout", 
       "text": [
        "", 
        "[ 0.3961039   0.38181818  0.38181818  0.29090909  0.39393939]"
       ]
      }, 
      {
       "output_type": "stream", 
       "stream": "stdout", 
       "text": [
        "", 
        "[ 0.48003714  0.47977673  0.48007097  0.4754493   0.47958109]"
       ]
      }, 
      {
       "output_type": "stream", 
       "stream": "stdout", 
       "text": [
        "", 
        "[ 0.49295799  0.47595286  0.47304338  0.49399484  0.48624292]"
       ]
      }, 
      {
       "output_type": "stream", 
       "stream": "stdout", 
       "text": [
        "", 
        "[ 0.48523543  0.49092963  0.4709638   0.49424003  0.48288705]"
       ]
      }, 
      {
       "output_type": "stream", 
       "stream": "stdout", 
       "text": [
        "", 
        "[ 0.49366556  0.47809239  0.4725      0.48369512  0.48570482]"
       ]
      }, 
      {
       "output_type": "stream", 
       "stream": "stdout", 
       "text": [
        "", 
        "[ 0.49317183  0.4871106   0.46850538  0.4960501   0.49421965]"
       ]
      }, 
      {
       "output_type": "stream", 
       "stream": "stdout", 
       "text": [
        "", 
        "[ 0.49584424  0.48755589  0.4705742   0.49777716  0.49435577]"
       ]
      }, 
      {
       "output_type": "stream", 
       "stream": "stdout", 
       "text": [
        "", 
        "[ 0.49982194  0.49229895  0.48302469  0.4998142   0.49768519]"
       ]
      }, 
      {
       "output_type": "stream", 
       "stream": "stdout", 
       "text": [
        "", 
        "[ 0.24175824  0.20238095  0.24175824  0.20238095  0.23809524]"
       ]
      }, 
      {
       "output_type": "stream", 
       "stream": "stdout", 
       "text": [
        "", 
        "[ 0.39529412  0.39529412  0.39529412  0.39415766  0.39529412]"
       ]
      }, 
      {
       "output_type": "stream", 
       "stream": "stdout", 
       "text": [
        "", 
        "[ 0.46666667  0.46666667  0.46666667  0.45833333  0.35714286]"
       ]
      }, 
      {
       "output_type": "stream", 
       "stream": "stdout", 
       "text": [
        "", 
        "[ 0.32890365  0.33023256  0.32256675  0.32200358  0.32274532]"
       ]
      }, 
      {
       "output_type": "stream", 
       "stream": "stdout", 
       "text": [
        "", 
        "[ 0.25        0.          0.33333333  0.33333333  0.25      ]"
       ]
      }, 
      {
       "output_type": "stream", 
       "stream": "stdout", 
       "text": [
        "", 
        "[ 0.45333333  0.47368421  0.47368421  0.29333333  0.49      ]"
       ]
      }, 
      {
       "output_type": "stream", 
       "stream": "stdout", 
       "text": [
        "", 
        "[ 0.49824561  0.47368421  0.46423752  0.47368421  0.49473684]"
       ]
      }, 
      {
       "output_type": "stream", 
       "stream": "stdout", 
       "text": [
        "", 
        "[ 0.30769231  0.48888889  0.48888889  0.47058824  0.5       ]"
       ]
      }, 
      {
       "output_type": "stream", 
       "stream": "stdout", 
       "text": [
        "", 
        "[ 0.33333333  0.33333333  0.33333333  0.33333333  0.33333333]"
       ]
      }, 
      {
       "output_type": "stream", 
       "stream": "stdout", 
       "text": [
        "", 
        "[ 0.33333333  0.33333333  0.          0.          0.        ]"
       ]
      }, 
      {
       "output_type": "stream", 
       "stream": "stdout", 
       "text": [
        "", 
        "[ 0.46153846  0.46153846  0.4         0.45        0.3       ]"
       ]
      }, 
      {
       "output_type": "stream", 
       "stream": "stdout", 
       "text": [
        "", 
        "[ 0.41958042  0.30769231  0.44871795  0.42490842  0.4957265 ]"
       ]
      }, 
      {
       "output_type": "stream", 
       "stream": "stdout", 
       "text": [
        "", 
        "[ 0.46387523  0.46335775  0.46369382  0.46333695  0.46379276]"
       ]
      }, 
      {
       "output_type": "stream", 
       "stream": "stdout", 
       "text": [
        "", 
        "[ 0.3396179   0.3487395   0.35764706  0.35533516  0.33647059]", 
        "[ 0.3397619   0.34285714  0.31877193  0.31877193  0.3397619 ]"
       ]
      }, 
      {
       "output_type": "stream", 
       "stream": "stdout", 
       "text": [
        "", 
        "[ 0.34743751  0.35854342  0.35978836  0.36004646  0.34391534]"
       ]
      }, 
      {
       "output_type": "stream", 
       "stream": "stdout", 
       "text": [
        "", 
        "[ 0.26067123  0.31182796  0.30798771  0.2688172   0.29922136]"
       ]
      }, 
      {
       "output_type": "stream", 
       "stream": "stdout", 
       "text": [
        "", 
        "[ 0.35714286  0.40816327  0.39849624  0.4         0.40740741]"
       ]
      }, 
      {
       "output_type": "stream", 
       "stream": "stdout", 
       "text": [
        "", 
        "[ 0.43636364  0.43636364  0.45454545  0.38181818  0.38181818]"
       ]
      }, 
      {
       "output_type": "stream", 
       "stream": "stdout", 
       "text": [
        "", 
        "[ 0.375       0.4         0.4         0.41904762  0.31111111]"
       ]
      }, 
      {
       "output_type": "stream", 
       "stream": "stdout", 
       "text": [
        "", 
        "[ 0.21428571  0.2         0.2         0.2         0.2       ]"
       ]
      }, 
      {
       "output_type": "stream", 
       "stream": "stdout", 
       "text": [
        "", 
        "[ 0.2         0.26666667  0.          0.3         0.3       ]"
       ]
      }, 
      {
       "output_type": "stream", 
       "stream": "stdout", 
       "text": [
        "", 
        "[ 0.33333333  0.25        0.33333333  0.          0.        ]"
       ]
      }, 
      {
       "output_type": "stream", 
       "stream": "stdout", 
       "text": [
        "", 
        "[ 0.46680465  0.46805781  0.46761597  0.4641363   0.46795742]"
       ]
      }, 
      {
       "output_type": "stream", 
       "stream": "stdout", 
       "text": [
        "", 
        "[ 0.46364692  0.46384253  0.44972187  0.46364692  0.46216385]"
       ]
      }, 
      {
       "output_type": "stream", 
       "stream": "stdout", 
       "text": [
        "", 
        "[ 0.45667299  0.46345811  0.46852425  0.45320856  0.46764706]"
       ]
      }, 
      {
       "output_type": "stream", 
       "stream": "stdout", 
       "text": [
        "", 
        "[ 0.46053946  0.45924765  0.44444444  0.45324675  0.4624018 ]"
       ]
      }, 
      {
       "output_type": "stream", 
       "stream": "stdout", 
       "text": [
        "", 
        "[ 0.48181818  0.46251994  0.48333333  0.48165869  0.45021645]"
       ]
      }, 
      {
       "output_type": "stream", 
       "stream": "stdout", 
       "text": [
        "", 
        "[ 0.38181818  0.36363636  0.34090909  0.37373737  0.39393939]"
       ]
      }, 
      {
       "output_type": "stream", 
       "stream": "stdout", 
       "text": [
        "", 
        "[ 0.38095238  0.23809524  0.4047619   0.34285714  0.23809524]"
       ]
      }, 
      {
       "output_type": "stream", 
       "stream": "stdout", 
       "text": [
        "", 
        "[ 0.3         0.26666667  0.46666667  0.3         0.46666667]"
       ]
      }, 
      {
       "output_type": "stream", 
       "stream": "stdout", 
       "text": [
        "", 
        "[ 0.          0.33333333  0.          0.33333333  0.25      ]"
       ]
      }, 
      {
       "output_type": "stream", 
       "stream": "stdout", 
       "text": [
        "", 
        "[ 0.46761493  0.4651015   0.46733486  0.46761736  0.46773709]"
       ]
      }, 
      {
       "output_type": "stream", 
       "stream": "stdout", 
       "text": [
        "", 
        "[ 0.3689687   0.37118518  0.3664462   0.36960158  0.3704644 ]"
       ]
      }, 
      {
       "output_type": "stream", 
       "stream": "stdout", 
       "text": [
        "", 
        "[ 0.37292505  0.37290258  0.37275006  0.37093189  0.36898221]"
       ]
      }, 
      {
       "output_type": "stream", 
       "stream": "stdout", 
       "text": [
        "", 
        "[ 0.36153327  0.36556268  0.36538462  0.35479405  0.36448598]", 
        "[ 0.41538462  0.42490842  0.39316239  0.41153846  0.39194139]"
       ]
      }, 
      {
       "output_type": "stream", 
       "stream": "stdout", 
       "text": [
        "", 
        "[ 0.35294118  0.35294118  0.34509804  0.34117647  0.29946524]", 
        "[ 0.26373626  0.32867133  0.32867133  0.32307692  0.32867133]"
       ]
      }, 
      {
       "output_type": "stream", 
       "stream": "stdout", 
       "text": [
        "", 
        "[ 0.33333333  0.33333333  0.33333333  0.          0.33333333]", 
        "[ 0.47938253  0.47928786  0.47958809  0.47797374  0.47959686]"
       ]
      }, 
      {
       "output_type": "stream", 
       "stream": "stdout", 
       "text": [
        "", 
        "[ 0.48579545  0.4375      0.4787234   0.48432056  0.47554348]"
       ]
      }, 
      {
       "output_type": "stream", 
       "stream": "stdout", 
       "text": [
        "", 
        "[ 0.4047619   0.42857143  0.48571429  0.42857143  0.42857143]"
       ]
      }, 
      {
       "output_type": "stream", 
       "stream": "stdout", 
       "text": [
        "", 
        "[ 0.49218261  0.4848385   0.48292683  0.48292683  0.49254743]"
       ]
      }, 
      {
       "output_type": "stream", 
       "stream": "stdout", 
       "text": [
        "", 
        "[ 0.47571991  0.4780818   0.47808413  0.4771348   0.47930435]"
       ]
      }, 
      {
       "output_type": "stream", 
       "stream": "stdout", 
       "text": [
        "", 
        "[ 0.33506494  0.34546703  0.35040431  0.35454545  0.35646741]"
       ]
      }, 
      {
       "output_type": "stream", 
       "stream": "stdout", 
       "text": [
        "", 
        "[ 0.4842798   0.4842798   0.48093992  0.48191391  0.48563498]"
       ]
      }, 
      {
       "output_type": "stream", 
       "stream": "stdout", 
       "text": [
        "", 
        "[ 0.49108968  0.4902445   0.49120168  0.49104675  0.48961179]"
       ]
      }, 
      {
       "output_type": "stream", 
       "stream": "stdout", 
       "text": [
        "", 
        "[ 0.49132235  0.49622195  0.49273157  0.49577233  0.49626776]"
       ]
      }, 
      {
       "output_type": "stream", 
       "stream": "stdout", 
       "text": [
        "", 
        "[ 0.47571059  0.47201064  0.47426038  0.45940824  0.47658158]"
       ]
      }, 
      {
       "output_type": "stream", 
       "stream": "stdout", 
       "text": [
        "", 
        "[ 0.44973545  0.46560847  0.46560847  0.47321429  0.46560847]"
       ]
      }, 
      {
       "output_type": "stream", 
       "stream": "stdout", 
       "text": [
        "", 
        "[ 0.47101449  0.38888889  0.47101449  0.45652174  0.45652174]"
       ]
      }, 
      {
       "output_type": "stream", 
       "stream": "stdout", 
       "text": [
        "", 
        "[ 0.48695652  0.46245059  0.48494983  0.46245059  0.39565217]", 
        "[ 0.44871795  0.46153846  0.41025641  0.47307692  0.33566434]"
       ]
      }, 
      {
       "output_type": "stream", 
       "stream": "stdout", 
       "text": [
        "", 
        "[ 0.4         0.4         0.42424242  0.36363636  0.36363636]"
       ]
      }, 
      {
       "output_type": "stream", 
       "stream": "stdout", 
       "text": [
        "", 
        "[ 0.36969697  0.38181818  0.36969697  0.36363636  0.38181818]"
       ]
      }, 
      {
       "output_type": "stream", 
       "stream": "stdout", 
       "text": [
        "", 
        "[ 0.41666667  0.44444444  0.44444444  0.375       0.5       ]"
       ]
      }, 
      {
       "output_type": "stream", 
       "stream": "stdout", 
       "text": [
        "", 
        "[ 0.41666667  0.41666667  0.49206349  0.44444444  0.48148148]"
       ]
      }, 
      {
       "output_type": "stream", 
       "stream": "stdout", 
       "text": [
        "", 
        "[ 0.48571429  0.42857143  0.48571429  0.38095238  0.48571429]"
       ]
      }, 
      {
       "output_type": "stream", 
       "stream": "stdout", 
       "text": [
        "", 
        "[ 0.33333333  0.33333333  0.33333333  0.33333333  0.        ]"
       ]
      }, 
      {
       "output_type": "stream", 
       "stream": "stdout", 
       "text": [
        "", 
        "[ 0.33333333  0.33333333  0.33333333  0.          0.33333333]"
       ]
      }, 
      {
       "output_type": "stream", 
       "stream": "stdout", 
       "text": [
        "", 
        "[ 0.47252423  0.47557812  0.47385185  0.47393162  0.47471318]"
       ]
      }, 
      {
       "output_type": "stream", 
       "stream": "stdout", 
       "text": [
        "", 
        "[ 0.42626655  0.43268366  0.43192268  0.41547414  0.41938059]"
       ]
      }, 
      {
       "output_type": "stream", 
       "stream": "stdout", 
       "text": [
        "", 
        "[ 0.41666667  0.49206349  0.48148148  0.44444444  0.44444444]", 
        "[ 0.33333333  0.33333333  0.33333333  0.33333333  0.33333333]"
       ]
      }, 
      {
       "output_type": "stream", 
       "stream": "stdout", 
       "text": [
        "", 
        "[ 0.  0.  0.  0.]", 
        "[ 0.4   0.4   0.25  0.4   0.4 ]"
       ]
      }, 
      {
       "output_type": "stream", 
       "stream": "stdout", 
       "text": [
        "", 
        "[ 0.26666667  0.3         0.4         0.3         0.46666667]", 
        "[ 0.33333333  0.25        0.33333333  0.25        0.        ]"
       ]
      }, 
      {
       "output_type": "stream", 
       "stream": "stdout", 
       "text": [
        "", 
        "[ 0.42543522  0.42222633  0.39384967  0.42655164  0.42365487]"
       ]
      }, 
      {
       "output_type": "stream", 
       "stream": "stdout", 
       "text": [
        "", 
        "[ 0.43185703  0.43185703  0.43146029  0.38616939  0.42519231]"
       ]
      }, 
      {
       "output_type": "stream", 
       "stream": "stdout", 
       "text": [
        "", 
        "[ 0.40473928  0.40412529  0.40553956  0.4006734   0.39646465]"
       ]
      }, 
      {
       "output_type": "stream", 
       "stream": "stdout", 
       "text": [
        "", 
        "[ 0.40455803  0.40624672  0.40749306  0.39996883  0.39996883]"
       ]
      }, 
      {
       "output_type": "stream", 
       "stream": "stdout", 
       "text": [
        "", 
        "[ 0.26666667  0.3         0.3         0.3         0.3       ]"
       ]
      }, 
      {
       "output_type": "stream", 
       "stream": "stdout", 
       "text": [
        "", 
        "[ 0.49068409  0.49596774  0.49509352  0.49440273  0.4898202 ]"
       ]
      }, 
      {
       "output_type": "stream", 
       "stream": "stdout", 
       "text": [
        "", 
        "[ 0.    0.25  0.25  0.25  0.25]", 
        "[ 0.  0.  0.  0.  0.]"
       ]
      }, 
      {
       "output_type": "stream", 
       "stream": "stdout", 
       "text": [
        "", 
        "[ 0.49623188  0.4915942   0.49411765  0.49301175  0.4968661 ]"
       ]
      }, 
      {
       "output_type": "stream", 
       "stream": "stdout", 
       "text": [
        "", 
        "[ 0.43636364  0.49904762  0.47142857  0.49818182  0.45913043]", 
        "[ 0.41666667  0.46153846  0.46153846  0.48888889  0.45      ]"
       ]
      }, 
      {
       "output_type": "stream", 
       "stream": "stdout", 
       "text": [
        "", 
        "[ 0.48333333  0.48333333  0.41666667  0.48333333  0.42424242]"
       ]
      }, 
      {
       "output_type": "stream", 
       "stream": "stdout", 
       "text": [
        "", 
        "[ 0.45454545  0.44805195  0.4040404   0.43636364  0.44805195]"
       ]
      }, 
      {
       "output_type": "stream", 
       "stream": "stdout", 
       "text": [
        "", 
        "[ 0.44444444  0.47619048  0.5         0.375       0.47619048]", 
        "[ 0.49722694  0.48329519  0.48968421  0.49520468  0.49703569]"
       ]
      }, 
      {
       "output_type": "stream", 
       "stream": "stdout", 
       "text": [
        "", 
        "[ 0.17777778  0.19047619  0.19444444  0.18518519  0.19444444]", 
        "[ 0.23809524  0.23809524  0.23809524  0.23809524  0.21428571]"
       ]
      }, 
      {
       "output_type": "stream", 
       "stream": "stdout", 
       "text": [
        "", 
        "[ 0.47879617  0.4867462   0.48543962  0.48397618  0.48673199]"
       ]
      }, 
      {
       "output_type": "stream", 
       "stream": "stdout", 
       "text": [
        "", 
        "[ 0.38095238  0.4         0.41666667  0.43333333  0.42857143]"
       ]
      }, 
      {
       "output_type": "stream", 
       "stream": "stdout", 
       "text": [
        "", 
        "[ 0.48519949  0.48120301  0.46403526  0.48861284  0.47490347]"
       ]
      }, 
      {
       "output_type": "stream", 
       "stream": "stdout", 
       "text": [
        "", 
        "[ 0.49836547  0.49702716  0.49903628  0.49608413  0.49845325]"
       ]
      }, 
      {
       "output_type": "stream", 
       "stream": "stdout", 
       "text": [
        "", 
        "[ 0.46738695  0.46721154  0.46510957  0.43477871  0.46652712]"
       ]
      }, 
      {
       "output_type": "stream", 
       "stream": "stdout", 
       "text": [
        "", 
        "[ 0.45320856  0.46085193  0.43627451  0.44919786  0.43333333]"
       ]
      }, 
      {
       "output_type": "stream", 
       "stream": "stdout", 
       "text": [
        "", 
        "[ 0.37710438  0.41025641  0.37891738  0.40740741  0.38271605]"
       ]
      }, 
      {
       "output_type": "stream", 
       "stream": "stdout", 
       "text": [
        "", 
        "[ 0.42105263  0.42424242  0.35080214  0.45021645  0.4338118 ]"
       ]
      }, 
      {
       "output_type": "stream", 
       "stream": "stdout", 
       "text": [
        "", 
        "[ 0.46315789  0.43333333  0.46315789  0.4         0.44210526]"
       ]
      }, 
      {
       "output_type": "stream", 
       "stream": "stdout", 
       "text": [
        "", 
        "[ 0.44497608  0.46130031  0.41447368  0.3877193   0.4502924 ]"
       ]
      }, 
      {
       "output_type": "stream", 
       "stream": "stdout", 
       "text": [
        "", 
        "[ 0.28571429  0.4047619   0.23809524  0.38095238  0.37142857]"
       ]
      }, 
      {
       "output_type": "stream", 
       "stream": "stdout", 
       "text": [
        "", 
        "[ 0.22222222  0.16666667  0.25        0.          0.22222222]"
       ]
      }, 
      {
       "output_type": "stream", 
       "stream": "stdout", 
       "text": [
        "", 
        "[ 0.2         0.26666667  0.3         0.26666667  0.26666667]", 
        "[ 0.          0.33333333  0.33333333  0.33333333  0.33333333]"
       ]
      }, 
      {
       "output_type": "stream", 
       "stream": "stdout", 
       "text": [
        "", 
        "[ 0.4634666   0.46548876  0.4660648   0.46574484  0.46488856]"
       ]
      }, 
      {
       "output_type": "stream", 
       "stream": "stdout", 
       "text": [
        "", 
        "[ 0.46496396  0.46360377  0.4660879   0.43716177  0.46669655]"
       ]
      }, 
      {
       "output_type": "stream", 
       "stream": "stdout", 
       "text": [
        "", 
        "[ 0.44110276  0.44110276  0.46498599  0.39097744  0.44444444]"
       ]
      }, 
      {
       "output_type": "stream", 
       "stream": "stdout", 
       "text": [
        "", 
        "[ 0.33333333  0.33333333  0.33333333  0.33333333  0.33333333]"
       ]
      }, 
      {
       "output_type": "stream", 
       "stream": "stdout", 
       "text": [
        "", 
        "[ 0.33333333  0.33333333  0.          0.33333333  0.33333333]"
       ]
      }, 
      {
       "output_type": "stream", 
       "stream": "stdout", 
       "text": [
        "", 
        "[ 0.46323529  0.47593583  0.39215686  0.39215686  0.43921569]"
       ]
      }, 
      {
       "output_type": "stream", 
       "stream": "stdout", 
       "text": [
        "", 
        "[ 0.42857143  0.42857143  0.43589744  0.42857143  0.44444444]"
       ]
      }, 
      {
       "output_type": "stream", 
       "stream": "stdout", 
       "text": [
        "", 
        "[ 0.42178874  0.4049053   0.4049053   0.41998578  0.42178363]"
       ]
      }, 
      {
       "output_type": "stream", 
       "stream": "stdout", 
       "text": [
        "", 
        "[ 0.44894895  0.45056236  0.43826179  0.44894895  0.44894895]"
       ]
      }, 
      {
       "output_type": "stream", 
       "stream": "stdout", 
       "text": [
        "", 
        "[ 0.45396825  0.43809524  0.45396825  0.43809524  0.45659722]"
       ]
      }, 
      {
       "output_type": "stream", 
       "stream": "stdout", 
       "text": [
        "", 
        "[ 0.37229437  0.37786775  0.36630037  0.37422037  0.38131868]"
       ]
      }, 
      {
       "output_type": "stream", 
       "stream": "stdout", 
       "text": [
        "", 
        "[ 0.33359073  0.39039039  0.37494637  0.39374669  0.39374669]"
       ]
      }, 
      {
       "output_type": "stream", 
       "stream": "stdout", 
       "text": [
        "", 
        "[ 0.44705882  0.46251994  0.42424242  0.39669421  0.43371212]"
       ]
      }, 
      {
       "output_type": "stream", 
       "stream": "stdout", 
       "text": [
        "", 
        "[ 0.  0.]"
       ]
      }, 
      {
       "output_type": "stream", 
       "stream": "stdout", 
       "text": [
        "", 
        "[ 0.45333333  0.44210526  0.41052632  0.44        0.45      ]"
       ]
      }, 
      {
       "output_type": "stream", 
       "stream": "stdout", 
       "text": [
        "", 
        "[ 0.4502924   0.42105263  0.42105263  0.46130031  0.43343653]"
       ]
      }, 
      {
       "output_type": "stream", 
       "stream": "stdout", 
       "text": [
        "", 
        "[ 0.33333333  0.33333333  0.33333333  0.          0.33333333]"
       ]
      }, 
      {
       "output_type": "stream", 
       "stream": "stdout", 
       "text": [
        "", 
        "[ 0.46428571  0.42857143  0.45833333  0.41666667  0.45833333]"
       ]
      }, 
      {
       "output_type": "stream", 
       "stream": "stdout", 
       "text": [
        "", 
        "[ 0.49942078  0.49918193  0.497069    0.48868064  0.4999815 ]"
       ]
      }, 
      {
       "output_type": "stream", 
       "stream": "stdout", 
       "text": [
        "", 
        "[ 0.46753247  0.44777803  0.47860963  0.47107438  0.45943911]"
       ]
      }, 
      {
       "output_type": "stream", 
       "stream": "stdout", 
       "text": [
        "", 
        "[ 0.19444444  0.33333333  0.33333333  0.31746032  0.14814815]"
       ]
      }, 
      {
       "output_type": "stream", 
       "stream": "stdout", 
       "text": [
        "", 
        "[ 0.35714286  0.36666667  0.33333333  0.16666667  0.33333333]"
       ]
      }, 
      {
       "output_type": "stream", 
       "stream": "stdout", 
       "text": [
        "", 
        "[ 0.23809524  0.38095238  0.38095238  0.38095238  0.37142857]"
       ]
      }, 
      {
       "output_type": "stream", 
       "stream": "stdout", 
       "text": [
        "", 
        "[ 0.26666667  0.4         0.41666667  0.22222222  0.33333333]"
       ]
      }, 
      {
       "output_type": "stream", 
       "stream": "stdout", 
       "text": [
        "", 
        "[ 0.44342857  0.48403361  0.46060606  0.46060606  0.46060606]"
       ]
      }, 
      {
       "output_type": "stream", 
       "stream": "stdout", 
       "text": [
        "", 
        "[ 0.4457478   0.46909091  0.44479578  0.47727273  0.47727273]"
       ]
      }, 
      {
       "output_type": "stream", 
       "stream": "stdout", 
       "text": [
        "", 
        "[ 0.44720497  0.45548654  0.49275362  0.48768116  0.46796339]"
       ]
      }, 
      {
       "output_type": "stream", 
       "stream": "stdout", 
       "text": [
        "", 
        "[ 0.42328042  0.47142857  0.47478992  0.42328042  0.47619048]"
       ]
      }, 
      {
       "output_type": "stream", 
       "stream": "stdout", 
       "text": [
        "", 
        "[ 0.28571429  0.31111111  0.31111111  0.275       0.32      ]"
       ]
      }, 
      {
       "output_type": "stream", 
       "stream": "stdout", 
       "text": [
        "", 
        "[ 0.19444444  0.19444444  0.18518519  0.19444444  0.11111111]"
       ]
      }, 
      {
       "output_type": "stream", 
       "stream": "stdout", 
       "text": [
        "[ 0.49975309  0.49940334  0.49913508  0.49943607  0.49566093]", 
        "[ 0.49259259  0.49748514  0.49104938  0.49748514  0.48695109]", 
        "[ 0.49924051  0.49874422  0.46124501  0.49926023  0.49334632]"
       ]
      }, 
      {
       "output_type": "stream", 
       "stream": "stdout", 
       "text": [
        "", 
        "[ 0.43076923  0.5         0.48571429  0.49264706  0.49494949]"
       ]
      }, 
      {
       "output_type": "stream", 
       "stream": "stdout", 
       "text": [
        "", 
        "[ 0.4973545   0.49968254  0.42996454  0.49155146  0.49986989]"
       ]
      }, 
      {
       "output_type": "stream", 
       "stream": "stdout", 
       "text": [
        "", 
        "[ 0.44444444  0.49206349  0.49206349  0.38095238  0.34444444]"
       ]
      }, 
      {
       "output_type": "stream", 
       "stream": "stdout", 
       "text": [
        "", 
        "[ 0.38095238  0.4047619   0.34285714  0.19047619  0.28571429]"
       ]
      }, 
      {
       "output_type": "stream", 
       "stream": "stdout", 
       "text": [
        "", 
        "[ 0.33333333  0.41666667  0.41666667  0.          0.41666667]"
       ]
      }, 
      {
       "output_type": "stream", 
       "stream": "stdout", 
       "text": [
        "", 
        "[ 0.49907919  0.49997576  0.49667465  0.49809886  0.49722736]"
       ]
      }, 
      {
       "output_type": "stream", 
       "stream": "stdout", 
       "text": [
        "", 
        "[ 0.34391534  0.33777778  0.34343434  0.34419382  0.34322987]"
       ]
      }, 
      {
       "output_type": "stream", 
       "stream": "stdout", 
       "text": [
        "", 
        "[ 0.23809524  0.22857143  0.22857143  0.23809524  0.23809524]"
       ]
      }, 
      {
       "output_type": "stream", 
       "stream": "stdout", 
       "text": [
        "", 
        "[ 0.25        0.          0.33333333  0.33333333  0.        ]"
       ]
      }, 
      {
       "output_type": "stream", 
       "stream": "stdout", 
       "text": [
        "", 
        "[ 0.36136318  0.33001422  0.35846373  0.35989975  0.34449761]"
       ]
      }, 
      {
       "output_type": "stream", 
       "stream": "stdout", 
       "text": [
        "", 
        "[ 0.36774194  0.37419355  0.34285714  0.359375    0.37142857]"
       ]
      }, 
      {
       "output_type": "stream", 
       "stream": "stdout", 
       "text": [
        "", 
        "[ 0.49076204  0.49514257  0.49783905  0.49810541  0.49794498]"
       ]
      }, 
      {
       "output_type": "stream", 
       "stream": "stdout", 
       "text": [
        "", 
        "[ 0.47767462  0.47850354  0.476838    0.46397533  0.47740981]"
       ]
      }, 
      {
       "output_type": "stream", 
       "stream": "stdout", 
       "text": [
        "", 
        "[ 0.41978022  0.49444444  0.375       0.48333333  0.41978022]", 
        "[ 0.44937276  0.4712963   0.47318262  0.46330492  0.46985816]"
       ]
      }, 
      {
       "output_type": "stream", 
       "stream": "stdout", 
       "text": [
        "", 
        "[ 0.49990276  0.49708821  0.49787973  0.4980231   0.49999657]"
       ]
      }, 
      {
       "output_type": "stream", 
       "stream": "stdout", 
       "text": [
        "", 
        "[ 0.42638855  0.40613027  0.3891547   0.41862721  0.42414861]", 
        "[ 0.49421591  0.49917338  0.49745008  0.49919267  0.4985783 ]"
       ]
      }, 
      {
       "output_type": "stream", 
       "stream": "stdout", 
       "text": [
        "", 
        "[ 0.48875557  0.49012802  0.49026493  0.49005697  0.48890299]"
       ]
      }, 
      {
       "output_type": "stream", 
       "stream": "stdout", 
       "text": [
        "", 
        "[ 0.46429893  0.48908829  0.49200603  0.45404412  0.48406863]"
       ]
      }, 
      {
       "output_type": "stream", 
       "stream": "stdout", 
       "text": [
        "", 
        "[ 0.35714286  0.45833333  0.42857143  0.42857143  0.4375    ]"
       ]
      }, 
      {
       "output_type": "stream", 
       "stream": "stdout", 
       "text": [
        "", 
        "[ 0.22222222  0.          0.22222222  0.26666667  0.        ]"
       ]
      }, 
      {
       "output_type": "stream", 
       "stream": "stdout", 
       "text": [
        "", 
        "[ 0.33333333  0.          0.33333333  0.33333333  0.33333333]"
       ]
      }, 
      {
       "output_type": "stream", 
       "stream": "stdout", 
       "text": [
        "", 
        "[ 0.33333333  0.33333333  0.          0.          0.33333333]"
       ]
      }, 
      {
       "output_type": "stream", 
       "stream": "stdout", 
       "text": [
        "", 
        "[ 0.49106754  0.48813559  0.49356725  0.49482759  0.48363636]"
       ]
      }, 
      {
       "output_type": "stream", 
       "stream": "stdout", 
       "text": [
        "", 
        "[ 0.4025974   0.40759241  0.37815126  0.40336134  0.32424812]"
       ]
      }, 
      {
       "output_type": "stream", 
       "stream": "stdout", 
       "text": [
        "", 
        "[ 0.41025641  0.41037037  0.36684303  0.33777778  0.41025641]"
       ]
      }, 
      {
       "output_type": "stream", 
       "stream": "stdout", 
       "text": [
        "", 
        "[ 0.38502674  0.46280992  0.33939394  0.39646465  0.45021645]"
       ]
      }, 
      {
       "output_type": "stream", 
       "stream": "stdout", 
       "text": [
        "", 
        "[ 0.37151703  0.34008097  0.37151703  0.34008097  0.41447368]"
       ]
      }, 
      {
       "output_type": "stream", 
       "stream": "stdout", 
       "text": [
        "", 
        "[ 0.46153846  0.30769231  0.32307692  0.49450549  0.41958042]"
       ]
      }, 
      {
       "output_type": "stream", 
       "stream": "stdout", 
       "text": [
        "", 
        "[ 0.33333333  0.33333333  0.33333333  0.33333333  0.        ]"
       ]
      }, 
      {
       "output_type": "stream", 
       "stream": "stdout", 
       "text": [
        "", 
        "[ 0.21428571  0.33333333  0.33333333  0.33333333  0.33333333]"
       ]
      }, 
      {
       "output_type": "stream", 
       "stream": "stdout", 
       "text": [
        "", 
        "[ 0.22857143  0.23809524  0.23809524  0.23809524  0.        ]"
       ]
      }, 
      {
       "output_type": "stream", 
       "stream": "stdout", 
       "text": [
        "", 
        "[ 0.43333333  0.42603175  0.4173913   0.3647619   0.39666667]"
       ]
      }, 
      {
       "output_type": "stream", 
       "stream": "stdout", 
       "text": [
        "", 
        "[ 0.34285714  0.34285714  0.42857143  0.38095238  0.42857143]"
       ]
      }, 
      {
       "output_type": "stream", 
       "stream": "stdout", 
       "text": [
        "", 
        "[ 0.3         0.26666667  0.26666667  0.3         0.26666667]"
       ]
      }, 
      {
       "output_type": "stream", 
       "stream": "stdout", 
       "text": [
        "", 
        "[ 0.          0.          0.33333333  0.          0.        ]"
       ]
      }, 
      {
       "output_type": "stream", 
       "stream": "stdout", 
       "text": [
        "", 
        "[ 0.38194444  0.33986928  0.38194444  0.39506173  0.38611111]"
       ]
      }, 
      {
       "output_type": "stream", 
       "stream": "stdout", 
       "text": [
        "", 
        "[ 0.4         0.4         0.3         0.46666667  0.3       ]"
       ]
      }, 
      {
       "output_type": "stream", 
       "stream": "stdout", 
       "text": [
        "", 
        "[ 0.          0.33333333  0.33333333  0.25        0.25      ]"
       ]
      }, 
      {
       "output_type": "stream", 
       "stream": "stdout", 
       "text": [
        "", 
        "[ 0.  0.  0.  0.  0.]"
       ]
      }, 
      {
       "output_type": "stream", 
       "stream": "stdout", 
       "text": [
        "", 
        "[ 0.34615385  0.31923077  0.35470085  0.25641026  0.33566434]"
       ]
      }, 
      {
       "output_type": "stream", 
       "stream": "stdout", 
       "text": [
        "", 
        "[ 0.33333333  0.33333333  0.33333333  0.19444444  0.33333333]"
       ]
      }, 
      {
       "output_type": "stream", 
       "stream": "stdout", 
       "text": [
        "", 
        "[ 0.35714286  0.35714286  0.21428571  0.33333333  0.35714286]", 
        "[ 0.33333333  0.33333333  0.33333333  0.          0.33333333]"
       ]
      }, 
      {
       "output_type": "stream", 
       "stream": "stdout", 
       "text": [
        "", 
        "[ 0.33333333  0.33333333  0.33333333  0.33333333  0.        ]"
       ]
      }, 
      {
       "output_type": "stream", 
       "stream": "stdout", 
       "text": [
        "", 
        "[ 0.48945442  0.48898856  0.48912943  0.48937823  0.48992296]"
       ]
      }, 
      {
       "output_type": "stream", 
       "stream": "stdout", 
       "text": [
        "", 
        "[ 0.49527491  0.49503055  0.49039152  0.49502864  0.49520399]"
       ]
      }, 
      {
       "output_type": "stream", 
       "stream": "stdout", 
       "text": [
        "", 
        "[ 0.34561966  0.34343434  0.33333333  0.31818182  0.34419382]"
       ]
      }, 
      {
       "output_type": "stream", 
       "stream": "stdout", 
       "text": [
        "", 
        "[ 0.36969697  0.38787879  0.29090909  0.34090909  0.36363636]"
       ]
      }, 
      {
       "output_type": "stream", 
       "stream": "stdout", 
       "text": [
        "", 
        "[ 0.35714286  0.35714286  0.33333333  0.375       0.21428571]", 
        "[ 0.34285714  0.34285714  0.4047619   0.4047619   0.38095238]"
       ]
      }, 
      {
       "output_type": "stream", 
       "stream": "stdout", 
       "text": [
        "", 
        "[ 0.          0.33333333  0.25        0.25        0.25      ]"
       ]
      }, 
      {
       "output_type": "stream", 
       "stream": "stdout", 
       "text": [
        "", 
        "[ 0.33333333  0.33333333  0.          0.33333333  0.        ]"
       ]
      }, 
      {
       "output_type": "stream", 
       "stream": "stdout", 
       "text": [
        "", 
        "[ 0.33333333  0.          0.          0.          0.        ]"
       ]
      }, 
      {
       "output_type": "stream", 
       "stream": "stdout", 
       "text": [
        "", 
        "[ 0.  0.  0.  0.  0.]"
       ]
      }, 
      {
       "output_type": "stream", 
       "stream": "stdout", 
       "text": [
        "", 
        "[ 0.31960784  0.32442068  0.31415643  0.30392157  0.30134159]"
       ]
      }, 
      {
       "output_type": "stream", 
       "stream": "stdout", 
       "text": [
        "", 
        "[ 0.27536232  0.27536232  0.27536232  0.26315789  0.26610644]"
       ]
      }, 
      {
       "output_type": "stream", 
       "stream": "stdout", 
       "text": [
        "", 
        "[ 0.2705314   0.28458498  0.28729753  0.27459954  0.27639752]"
       ]
      }, 
      {
       "output_type": "stream", 
       "stream": "stdout", 
       "text": [
        "", 
        "[ 0.38095238  0.38095238  0.37142857  0.37142857  0.38095238]"
       ]
      }, 
      {
       "output_type": "stream", 
       "stream": "stdout", 
       "text": [
        "", 
        "[ 0.21428571  0.21666667  0.21428571  0.21666667  0.17857143]"
       ]
      }, 
      {
       "output_type": "stream", 
       "stream": "stdout", 
       "text": [
        "", 
        "[ 0.41904762  0.31111111  0.4         0.375       0.34285714]"
       ]
      }, 
      {
       "output_type": "stream", 
       "stream": "stdout", 
       "text": [
        "", 
        "[ 0.35714286  0.375       0.375       0.42857143  0.42857143]"
       ]
      }, 
      {
       "output_type": "stream", 
       "stream": "stdout", 
       "text": [
        "", 
        "[ 0.34285714  0.37142857  0.34285714  0.38095238  0.38095238]", 
        "[ 0.49338965  0.49643542  0.49556078  0.49245089  0.49609327]"
       ]
      }, 
      {
       "output_type": "stream", 
       "stream": "stdout", 
       "text": [
        "", 
        "[ 0.46825397  0.40079365  0.40079365  0.47222222  0.40079365]"
       ]
      }, 
      {
       "output_type": "stream", 
       "stream": "stdout", 
       "text": [
        "", 
        "[ 0.46212121  0.38181818  0.36363636  0.41818182  0.38181818]"
       ]
      }, 
      {
       "output_type": "stream", 
       "stream": "stdout", 
       "text": [
        "", 
        "[ 0.34285714  0.4         0.4         0.4         0.36666667]"
       ]
      }, 
      {
       "output_type": "stream", 
       "stream": "stdout", 
       "text": [
        "", 
        "[ 0.33333333  0.41666667  0.41666667  0.41666667  0.41666667]", 
        "[ 0.21428571  0.38095238  0.48571429  0.4047619   0.42857143]"
       ]
      }, 
      {
       "output_type": "stream", 
       "stream": "stdout", 
       "text": [
        "", 
        "[ 0.33333333  0.33333333  0.25        0.33333333  0.        ]"
       ]
      }, 
      {
       "output_type": "stream", 
       "stream": "stdout", 
       "text": [
        "", 
        "[ 0.49624231  0.49544803  0.4965973   0.49661311  0.49189777]"
       ]
      }, 
      {
       "output_type": "stream", 
       "stream": "stdout", 
       "text": [
        "", 
        "[ 0.47840756  0.47316239  0.47746698  0.47661123  0.46552322]"
       ]
      }, 
      {
       "output_type": "stream", 
       "stream": "stdout", 
       "text": [
        "", 
        "[ 0.45943662  0.47427861  0.44902564  0.45360269  0.46107769]"
       ]
      }, 
      {
       "output_type": "stream", 
       "stream": "stdout", 
       "text": [
        "", 
        "[ 0.4856385   0.48522589  0.48422425  0.47733333  0.45592186]"
       ]
      }, 
      {
       "output_type": "stream", 
       "stream": "stdout", 
       "text": [
        "", 
        "[ 0.31111111  0.275       0.24        0.31111111  0.3       ]"
       ]
      }, 
      {
       "output_type": "stream", 
       "stream": "stdout", 
       "text": [
        "", 
        "[ 0.33333333  0.33333333  0.          0.          0.        ]"
       ]
      }, 
      {
       "output_type": "stream", 
       "stream": "stdout", 
       "text": [
        "", 
        "[ 0.  0.  0.  0.  0.]"
       ]
      }, 
      {
       "output_type": "stream", 
       "stream": "stdout", 
       "text": [
        "", 
        "[ 0.49712953  0.4971125   0.49713779  0.49608031  0.49646126]"
       ]
      }, 
      {
       "output_type": "stream", 
       "stream": "stdout", 
       "text": [
        "", 
        "[ 0.47723757  0.49001649  0.4880019   0.4900018   0.49123237]"
       ]
      }, 
      {
       "output_type": "stream", 
       "stream": "stdout", 
       "text": [
        "", 
        "[ 0.44780235  0.4916558   0.48490616  0.48753727  0.49018895]"
       ]
      }, 
      {
       "output_type": "stream", 
       "stream": "stdout", 
       "text": [
        "", 
        "[ 0.48891326  0.48218029  0.48888889  0.48834423  0.47187929]"
       ]
      }, 
      {
       "output_type": "stream", 
       "stream": "stdout", 
       "text": [
        "", 
        "[ 0.49442196  0.49306337  0.4943665   0.49441279  0.49396655]"
       ]
      }, 
      {
       "output_type": "stream", 
       "stream": "stdout", 
       "text": [
        "", 
        "[ 0.49515844  0.49491196  0.4933973   0.49390375  0.49454501]"
       ]
      }, 
      {
       "output_type": "stream", 
       "stream": "stdout", 
       "text": [
        "", 
        "[ 0.46702421  0.48942879  0.48979427  0.49056258  0.47070131]"
       ]
      }, 
      {
       "output_type": "stream", 
       "stream": "stdout", 
       "text": [
        "", 
        "[ 0.48566632  0.48804348  0.48801003  0.48799532  0.48671981]"
       ]
      }, 
      {
       "output_type": "stream", 
       "stream": "stdout", 
       "text": [
        "", 
        "[ 0.46823699  0.48195505  0.48195505  0.48181783  0.4822749 ]"
       ]
      }, 
      {
       "output_type": "stream", 
       "stream": "stdout", 
       "text": [
        "", 
        "[ 0.46910635  0.46975639  0.45911047  0.46997829  0.4701622 ]"
       ]
      }, 
      {
       "output_type": "stream", 
       "stream": "stdout", 
       "text": [
        "", 
        "[ 0.38095238  0.28571429  0.38095238  0.34285714  0.37142857]"
       ]
      }, 
      {
       "output_type": "stream", 
       "stream": "stdout", 
       "text": [
        "", 
        "[ 0.25        0.22222222  0.26666667  0.          0.26666667]"
       ]
      }, 
      {
       "output_type": "stream", 
       "stream": "stdout", 
       "text": [
        "", 
        "[ 0.          0.33333333  0.33333333  0.          0.33333333]"
       ]
      }, 
      {
       "output_type": "stream", 
       "stream": "stdout", 
       "text": [
        "", 
        "[ 0.46181122  0.47064771  0.46662512  0.4715321   0.4669189 ]"
       ]
      }, 
      {
       "output_type": "stream", 
       "stream": "stdout", 
       "text": [
        "", 
        "[ 0.33650794  0.32967033  0.32900433  0.28571429  0.32142857]"
       ]
      }, 
      {
       "output_type": "stream", 
       "stream": "stdout", 
       "text": [
        "", 
        "[ 0.35        0.36363636  0.35        0.36363636  0.35      ]"
       ]
      }, 
      {
       "output_type": "stream", 
       "stream": "stdout", 
       "text": [
        "", 
        "[ 0.47490613  0.47626728  0.47617417  0.4761035   0.47215215]"
       ]
      }, 
      {
       "output_type": "stream", 
       "stream": "stdout", 
       "text": [
        "", 
        "[ 0.47262333  0.46025856  0.47280874  0.47279363  0.46537796]"
       ]
      }, 
      {
       "output_type": "stream", 
       "stream": "stdout", 
       "text": [
        "", 
        "[ 0.49122807  0.49122807  0.47368421  0.46783626  0.49845201]"
       ]
      }, 
      {
       "output_type": "stream", 
       "stream": "stdout", 
       "text": [
        "", 
        "[ 0.48520187  0.48570302  0.48576623  0.4857537   0.48569404]"
       ]
      }, 
      {
       "output_type": "stream", 
       "stream": "stdout", 
       "text": [
        "", 
        "[ 0.48437213  0.48523244  0.48310755  0.48506636  0.48458037]"
       ]
      }, 
      {
       "output_type": "stream", 
       "stream": "stdout", 
       "text": [
        "", 
        "[ 0.48563785  0.48577086  0.48410794  0.48340692  0.4855598 ]"
       ]
      }, 
      {
       "output_type": "stream", 
       "stream": "stdout", 
       "text": [
        "", 
        "[ 0.42614098  0.45866542  0.45648148  0.43567377  0.45712836]"
       ]
      }, 
      {
       "output_type": "stream", 
       "stream": "stdout", 
       "text": [
        "", 
        "[ 0.48710652  0.48825567  0.48869664  0.48871996  0.48855376]"
       ]
      }, 
      {
       "output_type": "stream", 
       "stream": "stdout", 
       "text": [
        "", 
        "[ 0.4815398   0.47480544  0.48240051  0.48122101  0.46810869]"
       ]
      }, 
      {
       "output_type": "stream", 
       "stream": "stdout", 
       "text": [
        "", 
        "[ 0.48632901  0.48658344  0.48545824  0.4685378   0.48328267]"
       ]
      }, 
      {
       "output_type": "stream", 
       "stream": "stdout", 
       "text": [
        "", 
        "[ 0.41501976  0.44949833  0.42318841  0.42318841  0.44268775]"
       ]
      }, 
      {
       "output_type": "stream", 
       "stream": "stdout", 
       "text": [
        "", 
        "[ 0.48876066  0.48829441  0.48644643  0.48445961  0.48841759]"
       ]
      }, 
      {
       "output_type": "stream", 
       "stream": "stdout", 
       "text": [
        "", 
        "[ 0.375       0.42857143  0.42857143  0.46666667  0.4375    ]", 
        "[ 0.4         0.26666667  0.46666667  0.4         0.3       ]"
       ]
      }, 
      {
       "output_type": "stream", 
       "stream": "stdout", 
       "text": [
        "", 
        "[ 0.5         0.          0.33333333  0.33333333  0.33333333]", 
        "[ 0.48680675  0.48908966  0.48897661  0.48808366  0.48878349]"
       ]
      }, 
      {
       "output_type": "stream", 
       "stream": "stdout", 
       "text": [
        "", 
        "[ 0.49804441  0.49817024  0.49606497  0.49733283  0.49812246]"
       ]
      }, 
      {
       "output_type": "stream", 
       "stream": "stdout", 
       "text": [
        "", 
        "[ 0.48671408  0.4855776   0.48704219  0.47923284  0.47762179]", 
        "[ 0.48592433  0.48538012  0.48417132  0.48417132  0.48484848]"
       ]
      }, 
      {
       "output_type": "stream", 
       "stream": "stdout", 
       "text": [
        "", 
        "[ 0.46222222  0.48976608  0.47008547  0.49275362  0.47863248]"
       ]
      }, 
      {
       "output_type": "stream", 
       "stream": "stdout", 
       "text": [
        "", 
        "[ 0.4939361   0.49727056  0.49834143  0.49877752  0.49736519]"
       ]
      }, 
      {
       "output_type": "stream", 
       "stream": "stdout", 
       "text": [
        "", 
        "[ 0.47784531  0.47574939  0.47699158  0.47768709  0.47555713]"
       ]
      }, 
      {
       "output_type": "stream", 
       "stream": "stdout", 
       "text": [
        "", 
        "[ 0.49961499  0.49892113  0.49982043  0.49972972  0.49962756]"
       ]
      }, 
      {
       "output_type": "stream", 
       "stream": "stdout", 
       "text": [
        "", 
        "[ 0.47671737  0.47666048  0.47614393  0.47665053  0.47669184]"
       ]
      }, 
      {
       "output_type": "stream", 
       "stream": "stdout", 
       "text": [
        "", 
        "[ 0.4569954   0.47506645  0.47380159  0.47518431  0.47475319]"
       ]
      }, 
      {
       "output_type": "stream", 
       "stream": "stdout", 
       "text": [
        "", 
        "[ 0.40078895  0.40407446  0.40078895  0.40080972  0.40117629]"
       ]
      }, 
      {
       "output_type": "stream", 
       "stream": "stdout", 
       "text": [
        "", 
        "[ 0.48327418  0.48308819  0.48327359  0.47956741  0.48209879]"
       ]
      }, 
      {
       "output_type": "stream", 
       "stream": "stdout", 
       "text": [
        "", 
        "[ 0.4765776   0.47682628  0.47548292  0.47684088  0.47711639]"
       ]
      }, 
      {
       "output_type": "stream", 
       "stream": "stdout", 
       "text": [
        "", 
        "[ 0.47045018  0.46995334  0.47034687  0.46946143  0.46895104]"
       ]
      }, 
      {
       "output_type": "stream", 
       "stream": "stdout", 
       "text": [
        "", 
        "[ 0.47614185  0.4785357   0.47847245  0.47850062  0.47783578]"
       ]
      }, 
      {
       "output_type": "stream", 
       "stream": "stdout", 
       "text": []
      }
     ], 
     "prompt_number": 143
    }, 
    {
     "cell_type": "code", 
     "collapsed": false, 
     "input": [
      "rt"
     ], 
     "language": "python", 
     "outputs": [
      {
       "output_type": "pyout", 
       "prompt_number": 144, 
       "text": [
        "InnerNode (age=(30, 35]): depth: 0, 1: 0.57 -1: 0.43 (10001/10001) examples", 
        "Y:   InnerNode (gender=F): depth: 1, 1: 0.58 -1: 0.42 (1608/10001) examples", 
        "Y:     InnerNode (occupation=educator): depth: 2, 1: 0.55 -1: 0.45 (457/10001) examples", 
        "Y:       InnerNode (Adventure=0): depth: 3, 1: 0.50 -1: 0.50 (103/10001) examples", 
        "Y:         InnerNode (Action=1): depth: 4, 1: 0.49 -1: 0.51 (93/10001) examples", 
        "Y:           InnerNode (Drama=1): depth: 5, 1: 0.45 -1: 0.55 (11/10001) examples", 
        "Y:             InnerNode (Thriller=0): depth: 6, 1: 0.50 -1: 0.50 (2/10001) examples", 
        "Y:               LeafNode depth: 7, 1: 1.00 (1/10001) examples", 
        "N:               LeafNode depth: 7, -1: 1.00 (1/10001) examples", 
        "N:             InnerNode (Sci-Fi=0): depth: 6, 1: 0.44 -1: 0.56 (9/10001) examples", 
        "Y:               InnerNode (Romance=1): depth: 7, 1: 0.29 -1: 0.71 (7/10001) examples", 
        "Y:                 InnerNode (Thriller=0): depth: 8, 1: 0.50 -1: 0.50 (2/10001) examples", 
        "Y:                   LeafNode depth: 9, 1: 1.00 (1/10001) examples", 
        "N:                   LeafNode depth: 9, -1: 1.00 (1/10001) examples", 
        "N:                 InnerNode (War=0): depth: 8, 1: 0.20 -1: 0.80 (5/10001) examples", 
        "Y:                   InnerNode (cf_rating=(3.5, 3.75]): depth: 9, 1: 0.25 -1: 0.75 (4/10001) examples", 
        "Y:                     LeafNode depth: 10, 1: 1.00 (1/10001) examples", 
        "N:                     LeafNode depth: 10, -1: 1.00 (3/10001) examples", 
        "N:                   LeafNode depth: 9, -1: 1.00 (1/10001) examples", 
        "N:               LeafNode depth: 7, 1: 1.00 (2/10001) examples", 
        "N:           InnerNode (Children's=1): depth: 5, 1: 0.50 -1: 0.50 (82/10001) examples", 
        "Y:             InnerNode (Drama=0): depth: 6, 1: 0.50 -1: 0.50 (4/10001) examples", 
        "Y:               InnerNode (Animation=0): depth: 7, 1: 0.50 -1: 0.50 (2/10001) examples", 
        "Y:                 LeafNode depth: 8, -1: 1.00 (1/10001) examples", 
        "N:                 LeafNode depth: 8, 1: 1.00 (1/10001) examples", 
        "N:               InnerNode (Comedy=0): depth: 7, 1: 0.50 -1: 0.50 (2/10001) examples", 
        "Y:                 LeafNode depth: 8, -1: 1.00 (1/10001) examples", 
        "N:                 LeafNode depth: 8, 1: 1.00 (1/10001) examples", 
        "N:             InnerNode (Comedy=1): depth: 6, 1: 0.50 -1: 0.50 (78/10001) examples", 
        "Y:               InnerNode (Animation=0): depth: 7, 1: 0.67 -1: 0.33 (27/10001) examples", 
        "Y:                 InnerNode (Drama=0): depth: 8, 1: 0.65 -1: 0.35 (26/10001) examples", 
        "Y:                   InnerNode (Horror=0): depth: 9, 1: 0.68 -1: 0.32 (25/10001) examples", 
        "Y:                     LeafNode depth: 10, 1: 0.67 -1: 0.33 (24/10001) examples", 
        "N:                     LeafNode depth: 10, 1: 1.00 (1/10001) examples", 
        "N:                   LeafNode depth: 9, -1: 1.00 (1/10001) examples", 
        "N:                 LeafNode depth: 8, 1: 1.00 (1/10001) examples", 
        "N:               InnerNode (Drama=0): depth: 7, 1: 0.41 -1: 0.59 (51/10001) examples", 
        "Y:                 InnerNode (Film-Noir=0): depth: 8, 1: 0.60 -1: 0.40 (10/10001) examples", 
        "Y:                   InnerNode (Horror=0): depth: 9, 1: 0.67 -1: 0.33 (9/10001) examples", 
        "Y:                     LeafNode depth: 10, 1: 0.71 -1: 0.29 (7/10001) examples", 
        "N:                     LeafNode depth: 10, 1: 0.50 -1: 0.50 (2/10001) examples", 
        "N:                   LeafNode depth: 9, -1: 1.00 (1/10001) examples", 
        "N:                 InnerNode (Horror=0): depth: 8, 1: 0.37 -1: 0.63 (41/10001) examples", 
        "Y:                   InnerNode (Crime=0): depth: 9, 1: 0.38 -1: 0.62 (40/10001) examples", 
        "Y:                     LeafNode depth: 10, 1: 0.39 -1: 0.61 (38/10001) examples", 
        "N:                     LeafNode depth: 10, -1: 1.00 (2/10001) examples", 
        "N:                   LeafNode depth: 9, -1: 1.00 (1/10001) examples", 
        "N:         InnerNode (Action=0): depth: 4, 1: 0.50 -1: 0.50 (10/10001) examples", 
        "Y:           InnerNode (Children's=0): depth: 5, 1: 0.75 -1: 0.25 (4/10001) examples", 
        "Y:             LeafNode depth: 6, 1: 1.00 (1/10001) examples", 
        "N:             InnerNode (Musical=0): depth: 6, 1: 0.67 -1: 0.33 (3/10001) examples", 
        "Y:               InnerNode (Romance=0): depth: 7, 1: 0.50 -1: 0.50 (2/10001) examples", 
        "Y:                 LeafNode depth: 8, -1: 1.00 (1/10001) examples", 
        "N:                 LeafNode depth: 8, 1: 1.00 (1/10001) examples", 
        "N:               LeafNode depth: 7, 1: 1.00 (1/10001) examples", 
        "N:           InnerNode (Crime=0): depth: 5, 1: 0.33 -1: 0.67 (6/10001) examples", 
        "Y:             InnerNode (Romance=0): depth: 6, 1: 0.40 -1: 0.60 (5/10001) examples", 
        "Y:               LeafNode depth: 7, -1: 1.00 (3/10001) examples", 
        "N:               LeafNode depth: 7, 1: 1.00 (2/10001) examples", 
        "N:             LeafNode depth: 6, -1: 1.00 (1/10001) examples", 
        "N:       InnerNode (occupation=administrator): depth: 3, 1: 0.56 -1: 0.44 (354/10001) examples", 
        "Y:         InnerNode (Adventure=0): depth: 4, 1: 0.68 -1: 0.32 (25/10001) examples", 
        "Y:           InnerNode (Action=0): depth: 5, 1: 0.75 -1: 0.25 (20/10001) examples", 
        "Y:             InnerNode (Crime=1): depth: 6, 1: 0.78 -1: 0.22 (18/10001) examples", 
        "Y:               InnerNode (Comedy=0): depth: 7, 1: 0.50 -1: 0.50 (4/10001) examples", 
        "Y:                 InnerNode (Film-Noir=1): depth: 8, 1: 0.67 -1: 0.33 (3/10001) examples", 
        "Y:                   LeafNode depth: 9, 1: 1.00 (1/10001) examples", 
        "N:                   InnerNode (Drama=0): depth: 9, 1: 0.50 -1: 0.50 (2/10001) examples", 
        "Y:                     LeafNode depth: 10, -1: 1.00 (1/10001) examples", 
        "N:                     LeafNode depth: 10, 1: 1.00 (1/10001) examples", 
        "N:                 LeafNode depth: 8, -1: 1.00 (1/10001) examples", 
        "N:               InnerNode (Drama=0): depth: 7, 1: 0.86 -1: 0.14 (14/10001) examples", 
        "Y:                 InnerNode (Comedy=1): depth: 8, 1: 0.75 -1: 0.25 (4/10001) examples", 
        "Y:                   InnerNode (Romance=0): depth: 9, 1: 0.50 -1: 0.50 (2/10001) examples", 
        "Y:                     LeafNode depth: 10, -1: 1.00 (1/10001) examples", 
        "N:                     LeafNode depth: 10, 1: 1.00 (1/10001) examples", 
        "N:                   LeafNode depth: 9, 1: 1.00 (2/10001) examples", 
        "N:                 InnerNode (Thriller=0): depth: 8, 1: 0.90 -1: 0.10 (10/10001) examples", 
        "Y:                   InnerNode (Comedy=1): depth: 9, 1: 0.89 -1: 0.11 (9/10001) examples", 
        "Y:                     LeafNode depth: 10, 1: 1.00 (2/10001) examples", 
        "N:                     LeafNode depth: 10, 1: 0.86 -1: 0.14 (7/10001) examples", 
        "N:                   LeafNode depth: 9, 1: 1.00 (1/10001) examples", 
        "N:             InnerNode (Crime=0): depth: 6, 1: 0.50 -1: 0.50 (2/10001) examples", 
        "Y:               LeafNode depth: 7, -1: 1.00 (1/10001) examples", 
        "N:               LeafNode depth: 7, 1: 1.00 (1/10001) examples", 
        "N:           InnerNode (Children's=1): depth: 5, 1: 0.40 -1: 0.60 (5/10001) examples", 
        "Y:             LeafNode depth: 6, -1: 1.00 (1/10001) examples", 
        "N:             InnerNode (Romance=0): depth: 6, 1: 0.50 -1: 0.50 (4/10001) examples", 
        "Y:               InnerNode (Comedy=1): depth: 7, 1: 0.67 -1: 0.33 (3/10001) examples", 
        "Y:                 LeafNode depth: 8, -1: 1.00 (1/10001) examples", 
        "N:                 LeafNode depth: 8, 1: 1.00 (2/10001) examples", 
        "N:               LeafNode depth: 7, -1: 1.00 (1/10001) examples", 
        "N:         InnerNode (occupation=none): depth: 4, 1: 0.56 -1: 0.44 (329/10001) examples", 
        "Y:           InnerNode (Children's=0): depth: 5, 1: 0.64 -1: 0.36 (50/10001) examples", 
        "Y:             InnerNode (Action=0): depth: 6, 1: 0.65 -1: 0.35 (49/10001) examples", 
        "Y:               InnerNode (Comedy=0): depth: 7, 1: 0.70 -1: 0.30 (33/10001) examples", 
        "Y:                 InnerNode (Adventure=0): depth: 8, 1: 0.69 -1: 0.31 (16/10001) examples", 
        "Y:                   InnerNode (Drama=1): depth: 9, 1: 0.67 -1: 0.33 (15/10001) examples", 
        "Y:                     LeafNode depth: 10, 1: 0.67 -1: 0.33 (9/10001) examples", 
        "N:                     LeafNode depth: 10, 1: 0.67 -1: 0.33 (6/10001) examples", 
        "N:                   LeafNode depth: 9, 1: 1.00 (1/10001) examples", 
        "N:                 InnerNode (Drama=1): depth: 8, 1: 0.71 -1: 0.29 (17/10001) examples", 
        "Y:                   LeafNode depth: 9, 1: 1.00 (2/10001) examples", 
        "N:                   InnerNode (decade=50): depth: 9, 1: 0.67 -1: 0.33 (15/10001) examples", 
        "Y:                     LeafNode depth: 10, 1: 1.00 (1/10001) examples", 
        "N:                     LeafNode depth: 10, 1: 0.64 -1: 0.36 (14/10001) examples", 
        "N:               InnerNode (Adventure=1): depth: 7, 1: 0.56 -1: 0.44 (16/10001) examples", 
        "Y:                 InnerNode (Comedy=1): depth: 8, 1: 0.50 -1: 0.50 (8/10001) examples", 
        "Y:                   LeafNode depth: 9, 1: 1.00 (2/10001) examples", 
        "N:                   InnerNode (Crime=1): depth: 9, 1: 0.33 -1: 0.67 (6/10001) examples", 
        "Y:                     LeafNode depth: 10, -1: 1.00 (2/10001) examples", 
        "N:                     LeafNode depth: 10, 1: 0.50 -1: 0.50 (4/10001) examples", 
        "N:                 InnerNode (Comedy=0): depth: 8, 1: 0.62 -1: 0.38 (8/10001) examples", 
        "Y:                   InnerNode (Crime=1): depth: 9, 1: 0.71 -1: 0.29 (7/10001) examples", 
        "Y:                     LeafNode depth: 10, 1: 1.00 (1/10001) examples", 
        "N:                     LeafNode depth: 10, 1: 0.67 -1: 0.33 (6/10001) examples", 
        "N:                   LeafNode depth: 9, -1: 1.00 (1/10001) examples", 
        "N:             LeafNode depth: 6, -1: 1.00 (1/10001) examples", 
        "N:           InnerNode (occupation=librarian): depth: 5, 1: 0.54 -1: 0.46 (279/10001) examples", 
        "Y:             InnerNode (Action=0): depth: 6, 1: 0.49 -1: 0.51 (90/10001) examples", 
        "Y:               InnerNode (Adventure=1): depth: 7, 1: 0.57 -1: 0.43 (74/10001) examples", 
        "Y:                 InnerNode (Animation=0): depth: 8, 1: 0.25 -1: 0.75 (4/10001) examples", 
        "Y:                   InnerNode (Children's=0): depth: 9, 1: 0.33 -1: 0.67 (3/10001) examples", 
        "Y:                     LeafNode depth: 10, 1: 1.00 (1/10001) examples", 
        "N:                     LeafNode depth: 10, -1: 1.00 (2/10001) examples", 
        "N:                   LeafNode depth: 9, -1: 1.00 (1/10001) examples", 
        "N:                 InnerNode (Children's=1): depth: 8, 1: 0.59 -1: 0.41 (70/10001) examples", 
        "Y:                   LeafNode depth: 9, -1: 1.00 (2/10001) examples", 
        "N:                   InnerNode (Documentary=0): depth: 9, 1: 0.60 -1: 0.40 (68/10001) examples", 
        "Y:                     LeafNode depth: 10, 1: 0.60 -1: 0.40 (67/10001) examples", 
        "N:                     LeafNode depth: 10, 1: 1.00 (1/10001) examples", 
        "N:               InnerNode (Adventure=0): depth: 7, 1: 0.12 -1: 0.88 (16/10001) examples", 
        "Y:                 InnerNode (Drama=0): depth: 8, 1: 0.22 -1: 0.78 (9/10001) examples", 
        "Y:                   InnerNode (Comedy=0): depth: 9, 1: 0.17 -1: 0.83 (6/10001) examples", 
        "Y:                     LeafNode depth: 10, 1: 0.25 -1: 0.75 (4/10001) examples", 
        "N:                     LeafNode depth: 10, -1: 1.00 (2/10001) examples", 
        "N:                   InnerNode (Crime=0): depth: 9, 1: 0.33 -1: 0.67 (3/10001) examples", 
        "Y:                     LeafNode depth: 10, -1: 1.00 (2/10001) examples", 
        "N:                     LeafNode depth: 10, 1: 1.00 (1/10001) examples", 
        "N:                 LeafNode depth: 8, -1: 1.00 (7/10001) examples", 
        "N:             InnerNode (occupation=programmer): depth: 6, 1: 0.57 -1: 0.43 (189/10001) examples", 
        "Y:               InnerNode (Action=1): depth: 7, 1: 0.82 -1: 0.18 (39/10001) examples", 
        "Y:                 InnerNode (Drama=1): depth: 8, 1: 0.69 -1: 0.31 (13/10001) examples", 
        "Y:                   LeafNode depth: 9, 1: 1.00 (4/10001) examples", 
        "N:                   InnerNode (Adventure=1): depth: 9, 1: 0.56 -1: 0.44 (9/10001) examples", 
        "Y:                     LeafNode depth: 10, 1: 0.33 -1: 0.67 (3/10001) examples", 
        "N:                     LeafNode depth: 10, 1: 0.67 -1: 0.33 (6/10001) examples", 
        "N:                 InnerNode (Children's=1): depth: 8, 1: 0.88 -1: 0.12 (26/10001) examples", 
        "Y:                   LeafNode depth: 9, 1: 1.00 (2/10001) examples", 
        "N:                   InnerNode (Adventure=1): depth: 9, 1: 0.88 -1: 0.12 (24/10001) examples", 
        "Y:                     LeafNode depth: 10, 1: 1.00 (2/10001) examples", 
        "N:                     LeafNode depth: 10, 1: 0.86 -1: 0.14 (22/10001) examples", 
        "N:               InnerNode (occupation=marketing): depth: 7, 1: 0.50 -1: 0.50 (150/10001) examples", 
        "Y:                 InnerNode (Children's=1): depth: 8, 1: 0.33 -1: 0.67 (6/10001) examples", 
        "Y:                   LeafNode depth: 9, -1: 1.00 (1/10001) examples", 
        "N:                   InnerNode (Comedy=1): depth: 9, 1: 0.40 -1: 0.60 (5/10001) examples", 
        "Y:                     LeafNode depth: 10, 1: 0.33 -1: 0.67 (3/10001) examples", 
        "N:                     LeafNode depth: 10, 1: 0.50 -1: 0.50 (2/10001) examples", 
        "N:                 InnerNode (occupation=writer): depth: 8, 1: 0.51 -1: 0.49 (144/10001) examples", 
        "Y:                   InnerNode (Adventure=0): depth: 9, 1: 0.71 -1: 0.29 (17/10001) examples", 
        "Y:                     LeafNode depth: 10, 1: 0.69 -1: 0.31 (16/10001) examples", 
        "N:                     LeafNode depth: 10, 1: 1.00 (1/10001) examples", 
        "N:                   InnerNode (Adventure=0): depth: 9, 1: 0.48 -1: 0.52 (127/10001) examples", 
        "Y:                     LeafNode depth: 10, 1: 0.47 -1: 0.53 (110/10001) examples", 
        "N:                     LeafNode depth: 10, 1: 0.53 -1: 0.47 (17/10001) examples", 
        "N:     InnerNode (occupation=administrator): depth: 2, 1: 0.59 -1: 0.41 (1151/10001) examples", 
        "Y:       InnerNode (Animation=0): depth: 3, 1: 0.43 -1: 0.57 (74/10001) examples", 
        "Y:         InnerNode (Adventure=1): depth: 4, 1: 0.42 -1: 0.58 (72/10001) examples", 
        "Y:           InnerNode (Action=0): depth: 5, 1: 0.36 -1: 0.64 (11/10001) examples", 
        "Y:             LeafNode depth: 6, -1: 1.00 (1/10001) examples", 
        "N:             InnerNode (Comedy=1): depth: 6, 1: 0.40 -1: 0.60 (10/10001) examples", 
        "Y:               LeafNode depth: 7, 1: 1.00 (1/10001) examples", 
        "N:               InnerNode (Crime=0): depth: 7, 1: 0.33 -1: 0.67 (9/10001) examples", 
        "Y:                 InnerNode (Romance=0): depth: 8, 1: 0.43 -1: 0.57 (7/10001) examples", 
        "Y:                   InnerNode (Sci-Fi=0): depth: 9, 1: 0.40 -1: 0.60 (5/10001) examples", 
        "Y:                     LeafNode depth: 10, 1: 0.50 -1: 0.50 (4/10001) examples", 
        "N:                     LeafNode depth: 10, -1: 1.00 (1/10001) examples", 
        "N:                   InnerNode (Sci-Fi=0): depth: 9, 1: 0.50 -1: 0.50 (2/10001) examples", 
        "Y:                     LeafNode depth: 10, -1: 1.00 (1/10001) examples", 
        "N:                     LeafNode depth: 10, 1: 1.00 (1/10001) examples", 
        "N:                 LeafNode depth: 8, -1: 1.00 (2/10001) examples", 
        "N:           InnerNode (Children's=1): depth: 5, 1: 0.43 -1: 0.57 (61/10001) examples", 
        "Y:             InnerNode (Comedy=0): depth: 6, 1: 0.50 -1: 0.50 (4/10001) examples", 
        "Y:               InnerNode (decade=50): depth: 7, 1: 0.50 -1: 0.50 (2/10001) examples", 
        "Y:                 LeafNode depth: 8, 1: 1.00 (1/10001) examples", 
        "N:                 LeafNode depth: 8, -1: 1.00 (1/10001) examples", 
        "N:               InnerNode (Mystery=0): depth: 7, 1: 0.50 -1: 0.50 (2/10001) examples", 
        "Y:                 LeafNode depth: 8, 1: 1.00 (1/10001) examples", 
        "N:                 LeafNode depth: 8, -1: 1.00 (1/10001) examples", 
        "N:             InnerNode (Action=0): depth: 6, 1: 0.42 -1: 0.58 (57/10001) examples", 
        "Y:               InnerNode (Crime=1): depth: 7, 1: 0.44 -1: 0.56 (43/10001) examples", 
        "Y:                 InnerNode (Film-Noir=0): depth: 8, 1: 0.25 -1: 0.75 (4/10001) examples", 
        "Y:                   LeafNode depth: 9, -1: 1.00 (3/10001) examples", 
        "N:                   LeafNode depth: 9, 1: 1.00 (1/10001) examples", 
        "N:                 InnerNode (Comedy=1): depth: 8, 1: 0.46 -1: 0.54 (39/10001) examples", 
        "Y:                   InnerNode (Drama=1): depth: 9, 1: 0.47 -1: 0.53 (15/10001) examples", 
        "Y:                     LeafNode depth: 10, 1: 0.33 -1: 0.67 (3/10001) examples", 
        "N:                     LeafNode depth: 10, 1: 0.50 -1: 0.50 (12/10001) examples", 
        "N:                   InnerNode (Documentary=1): depth: 9, 1: 0.46 -1: 0.54 (24/10001) examples", 
        "Y:                     LeafNode depth: 10, -1: 1.00 (1/10001) examples", 
        "N:                     LeafNode depth: 10, 1: 0.48 -1: 0.52 (23/10001) examples", 
        "N:               InnerNode (Horror=1): depth: 7, 1: 0.36 -1: 0.64 (14/10001) examples", 
        "Y:                 LeafNode depth: 8, -1: 1.00 (1/10001) examples", 
        "N:                 InnerNode (Drama=1): depth: 8, 1: 0.38 -1: 0.62 (13/10001) examples", 
        "Y:                   LeafNode depth: 9, 1: 1.00 (2/10001) examples", 
        "N:                   InnerNode (Romance=1): depth: 9, 1: 0.27 -1: 0.73 (11/10001) examples", 
        "Y:                     LeafNode depth: 10, 1: 0.25 -1: 0.75 (4/10001) examples", 
        "N:                     LeafNode depth: 10, 1: 0.29 -1: 0.71 (7/10001) examples", 
        "N:         LeafNode depth: 4, 1: 1.00 (2/10001) examples", 
        "N:       InnerNode (occupation=entertainment): depth: 3, 1: 0.60 -1: 0.40 (1077/10001) examples", 
        "Y:         InnerNode (Adventure=0): depth: 4, 1: 0.45 -1: 0.55 (199/10001) examples", 
        "Y:           InnerNode (Animation=0): depth: 5, 1: 0.45 -1: 0.55 (179/10001) examples", 
        "Y:             InnerNode (Children's=0): depth: 6, 1: 0.45 -1: 0.55 (175/10001) examples", 
        "Y:               InnerNode (Comedy=0): depth: 7, 1: 0.46 -1: 0.54 (173/10001) examples", 
        "Y:                 InnerNode (Crime=0): depth: 8, 1: 0.53 -1: 0.47 (122/10001) examples", 
        "Y:                   InnerNode (Documentary=0): depth: 9, 1: 0.49 -1: 0.51 (108/10001) examples", 
        "Y:                     LeafNode depth: 10, 1: 0.49 -1: 0.51 (104/10001) examples", 
        "N:                     LeafNode depth: 10, 1: 0.50 -1: 0.50 (4/10001) examples", 
        "N:                   InnerNode (Action=1): depth: 9, 1: 0.86 -1: 0.14 (14/10001) examples", 
        "Y:                     LeafNode depth: 10, 1: 1.00 (1/10001) examples", 
        "N:                     LeafNode depth: 10, 1: 0.85 -1: 0.15 (13/10001) examples", 
        "N:                 InnerNode (Drama=1): depth: 8, 1: 0.27 -1: 0.73 (51/10001) examples", 
        "Y:                   InnerNode (cf_rating=(4, 4.25]): depth: 9, 1: 0.62 -1: 0.38 (8/10001) examples", 
        "Y:                     LeafNode depth: 10, 1: 0.50 -1: 0.50 (2/10001) examples", 
        "N:                     LeafNode depth: 10, 1: 0.67 -1: 0.33 (6/10001) examples", 
        "N:                   InnerNode (Fantasy=1): depth: 9, 1: 0.21 -1: 0.79 (43/10001) examples", 
        "Y:                     LeafNode depth: 10, -1: 1.00 (1/10001) examples", 
        "N:                     LeafNode depth: 10, 1: 0.21 -1: 0.79 (42/10001) examples", 
        "N:               LeafNode depth: 7, -1: 1.00 (2/10001) examples", 
        "N:             InnerNode (Children's=1): depth: 6, 1: 0.25 -1: 0.75 (4/10001) examples", 
        "Y:               LeafNode depth: 7, -1: 1.00 (3/10001) examples", 
        "N:               LeafNode depth: 7, 1: 1.00 (1/10001) examples", 
        "N:           InnerNode (Animation=1): depth: 5, 1: 0.45 -1: 0.55 (20/10001) examples", 
        "Y:             LeafNode depth: 6, -1: 1.00 (1/10001) examples", 
        "N:             InnerNode (Children's=0): depth: 6, 1: 0.47 -1: 0.53 (19/10001) examples", 
        "Y:               InnerNode (Action=0): depth: 7, 1: 0.50 -1: 0.50 (18/10001) examples", 
        "Y:                 InnerNode (Drama=0): depth: 8, 1: 0.50 -1: 0.50 (4/10001) examples", 
        "Y:                   InnerNode (Sci-Fi=0): depth: 9, 1: 0.67 -1: 0.33 (3/10001) examples", 
        "Y:                     LeafNode depth: 10, 1: 1.00 (2/10001) examples", 
        "N:                     LeafNode depth: 10, -1: 1.00 (1/10001) examples", 
        "N:                   LeafNode depth: 9, -1: 1.00 (1/10001) examples", 
        "N:                 InnerNode (Fantasy=0): depth: 8, 1: 0.50 -1: 0.50 (14/10001) examples", 
        "Y:                   InnerNode (Crime=1): depth: 9, 1: 0.54 -1: 0.46 (13/10001) examples", 
        "Y:                     LeafNode depth: 10, -1: 1.00 (1/10001) examples", 
        "N:                     LeafNode depth: 10, 1: 0.58 -1: 0.42 (12/10001) examples", 
        "N:                   LeafNode depth: 9, -1: 1.00 (1/10001) examples", 
        "N:               LeafNode depth: 7, -1: 1.00 (1/10001) examples", 
        "N:         InnerNode (occupation=executive): depth: 4, 1: 0.63 -1: 0.37 (878/10001) examples", 
        "Y:           InnerNode (Animation=0): depth: 5, 1: 0.76 -1: 0.24 (51/10001) examples", 
        "Y:             InnerNode (Adventure=0): depth: 6, 1: 0.78 -1: 0.22 (50/10001) examples", 
        "Y:               InnerNode (Comedy=0): depth: 7, 1: 0.76 -1: 0.24 (42/10001) examples", 
        "Y:                 InnerNode (Action=0): depth: 8, 1: 0.81 -1: 0.19 (31/10001) examples", 
        "Y:                   InnerNode (Crime=0): depth: 9, 1: 0.71 -1: 0.29 (21/10001) examples", 
        "Y:                     LeafNode depth: 10, 1: 0.67 -1: 0.33 (18/10001) examples", 
        "N:                     LeafNode depth: 10, 1: 1.00 (3/10001) examples", 
        "N:                   LeafNode depth: 9, 1: 1.00 (10/10001) examples", 
        "N:                 InnerNode (Children's=1): depth: 8, 1: 0.64 -1: 0.36 (11/10001) examples", 
        "Y:                   LeafNode depth: 9, -1: 1.00 (1/10001) examples", 
        "N:                   InnerNode (Romance=0): depth: 9, 1: 0.70 -1: 0.30 (10/10001) examples", 
        "Y:                     LeafNode depth: 10, 1: 0.75 -1: 0.25 (8/10001) examples", 
        "N:                     LeafNode depth: 10, 1: 0.50 -1: 0.50 (2/10001) examples", 
        "N:               InnerNode (Action=1): depth: 7, 1: 0.88 -1: 0.12 (8/10001) examples", 
        "Y:                 InnerNode (Drama=0): depth: 8, 1: 0.80 -1: 0.20 (5/10001) examples", 
        "Y:                   InnerNode (Mystery=1): depth: 9, 1: 0.75 -1: 0.25 (4/10001) examples", 
        "Y:                     LeafNode depth: 10, -1: 1.00 (1/10001) examples", 
        "N:                     LeafNode depth: 10, 1: 1.00 (3/10001) examples", 
        "N:                   LeafNode depth: 9, 1: 1.00 (1/10001) examples", 
        "N:                 LeafNode depth: 8, 1: 1.00 (3/10001) examples", 
        "N:             LeafNode depth: 6, -1: 1.00 (1/10001) examples", 
        "N:           InnerNode (occupation=lawyer): depth: 5, 1: 0.63 -1: 0.37 (827/10001) examples", 
        "Y:             InnerNode (Adventure=0): depth: 6, 1: 0.63 -1: 0.37 (41/10001) examples", 
        "Y:               InnerNode (Children's=1): depth: 7, 1: 0.62 -1: 0.38 (34/10001) examples", 
        "Y:                 LeafNode depth: 8, -1: 1.00 (1/10001) examples", 
        "N:                 InnerNode (Comedy=0): depth: 8, 1: 0.64 -1: 0.36 (33/10001) examples", 
        "Y:                   InnerNode (Documentary=0): depth: 9, 1: 0.59 -1: 0.41 (22/10001) examples", 
        "Y:                     LeafNode depth: 10, 1: 0.57 -1: 0.43 (21/10001) examples", 
        "N:                     LeafNode depth: 10, 1: 1.00 (1/10001) examples", 
        "N:                   InnerNode (Crime=0): depth: 9, 1: 0.73 -1: 0.27 (11/10001) examples", 
        "Y:                     LeafNode depth: 10, 1: 0.70 -1: 0.30 (10/10001) examples", 
        "N:                     LeafNode depth: 10, 1: 1.00 (1/10001) examples", 
        "N:               InnerNode (Action=1): depth: 7, 1: 0.71 -1: 0.29 (7/10001) examples", 
        "Y:                 InnerNode (Animation=1): depth: 8, 1: 0.60 -1: 0.40 (5/10001) examples", 
        "Y:                   LeafNode depth: 9, -1: 1.00 (1/10001) examples", 
        "N:                   InnerNode (Comedy=0): depth: 9, 1: 0.75 -1: 0.25 (4/10001) examples", 
        "Y:                     LeafNode depth: 10, 1: 1.00 (3/10001) examples", 
        "N:                     LeafNode depth: 10, -1: 1.00 (1/10001) examples", 
        "N:                 LeafNode depth: 8, 1: 1.00 (2/10001) examples", 
        "N:             InnerNode (occupation=educator): depth: 6, 1: 0.63 -1: 0.37 (786/10001) examples", 
        "Y:               InnerNode (Adventure=0): depth: 7, 1: 0.75 -1: 0.25 (138/10001) examples", 
        "Y:                 InnerNode (Children's=0): depth: 8, 1: 0.75 -1: 0.25 (121/10001) examples", 
        "Y:                   InnerNode (Animation=1): depth: 9, 1: 0.76 -1: 0.24 (108/10001) examples", 
        "Y:                     LeafNode depth: 10, -1: 1.00 (1/10001) examples", 
        "N:                     LeafNode depth: 10, 1: 0.77 -1: 0.23 (107/10001) examples", 
        "N:                   InnerNode (Drama=0): depth: 9, 1: 0.69 -1: 0.31 (13/10001) examples", 
        "Y:                     LeafNode depth: 10, 1: 0.78 -1: 0.22 (9/10001) examples", 
        "N:                     LeafNode depth: 10, 1: 0.50 -1: 0.50 (4/10001) examples", 
        "N:                 InnerNode (Comedy=0): depth: 8, 1: 0.76 -1: 0.24 (17/10001) examples", 
        "Y:                   InnerNode (Action=0): depth: 9, 1: 0.77 -1: 0.23 (13/10001) examples", 
        "Y:                     LeafNode depth: 10, 1: 0.50 -1: 0.50 (2/10001) examples", 
        "N:                     LeafNode depth: 10, 1: 0.82 -1: 0.18 (11/10001) examples", 
        "N:                   InnerNode (Children's=1): depth: 9, 1: 0.75 -1: 0.25 (4/10001) examples", 
        "Y:                     LeafNode depth: 10, 1: 1.00 (1/10001) examples", 
        "N:                     LeafNode depth: 10, 1: 0.67 -1: 0.33 (3/10001) examples", 
        "N:               InnerNode (occupation=marketing): depth: 7, 1: 0.60 -1: 0.40 (648/10001) examples", 
        "Y:                 InnerNode (Action=1): depth: 8, 1: 0.56 -1: 0.44 (48/10001) examples", 
        "Y:                   InnerNode (Adventure=0): depth: 9, 1: 0.57 -1: 0.43 (7/10001) examples", 
        "Y:                     LeafNode depth: 10, 1: 0.60 -1: 0.40 (5/10001) examples", 
        "N:                     LeafNode depth: 10, 1: 0.50 -1: 0.50 (2/10001) examples", 
        "N:                   InnerNode (Children's=0): depth: 9, 1: 0.56 -1: 0.44 (41/10001) examples", 
        "Y:                     LeafNode depth: 10, 1: 0.57 -1: 0.42 (40/10001) examples", 
        "N:                     LeafNode depth: 10, -1: 1.00 (1/10001) examples", 
        "N:                 InnerNode (occupation=artist): depth: 8, 1: 0.60 -1: 0.40 (600/10001) examples", 
        "Y:                   InnerNode (Action=0): depth: 9, 1: 0.77 -1: 0.23 (56/10001) examples", 
        "Y:                     LeafNode depth: 10, 1: 0.80 -1: 0.20 (46/10001) examples", 
        "N:                     LeafNode depth: 10, 1: 0.60 -1: 0.40 (10/10001) examples", 
        "N:                   InnerNode (occupation=none): depth: 9, 1: 0.58 -1: 0.42 (544/10001) examples", 
        "Y:                     LeafNode depth: 10, 1: 0.78 -1: 0.22 (9/10001) examples", 
        "N:                     LeafNode depth: 10, 1: 0.58 -1: 0.42 (535/10001) examples", 
        "N:   InnerNode (age=(35, 40]): depth: 1, 1: 0.57 -1: 0.43 (8393/10001) examples", 
        "Y:     InnerNode (gender=F): depth: 2, 1: 0.54 -1: 0.46 (1090/10001) examples", 
        "Y:       InnerNode (occupation=librarian): depth: 3, 1: 0.61 -1: 0.39 (268/10001) examples", 
        "Y:         InnerNode (Action=0): depth: 4, 1: 0.61 -1: 0.39 (28/10001) examples", 
        "Y:           InnerNode (Adventure=1): depth: 5, 1: 0.58 -1: 0.42 (24/10001) examples", 
        "Y:             LeafNode depth: 6, 1: 1.00 (1/10001) examples", 
        "N:             InnerNode (Comedy=0): depth: 6, 1: 0.57 -1: 0.43 (23/10001) examples", 
        "Y:               InnerNode (Crime=0): depth: 7, 1: 0.62 -1: 0.38 (13/10001) examples", 
        "Y:                 InnerNode (Children's=1): depth: 8, 1: 0.67 -1: 0.33 (12/10001) examples", 
        "Y:                   LeafNode depth: 9, -1: 1.00 (1/10001) examples", 
        "N:                   InnerNode (Film-Noir=1): depth: 9, 1: 0.73 -1: 0.27 (11/10001) examples", 
        "Y:                     LeafNode depth: 10, 1: 1.00 (1/10001) examples", 
        "N:                     LeafNode depth: 10, 1: 0.70 -1: 0.30 (10/10001) examples", 
        "N:                 LeafNode depth: 8, -1: 1.00 (1/10001) examples", 
        "N:               InnerNode (Sci-Fi=1): depth: 7, 1: 0.50 -1: 0.50 (10/10001) examples", 
        "Y:                 LeafNode depth: 8, -1: 1.00 (1/10001) examples", 
        "N:                 InnerNode (Drama=0): depth: 8, 1: 0.56 -1: 0.44 (9/10001) examples", 
        "Y:                   InnerNode (decade=40): depth: 9, 1: 0.43 -1: 0.57 (7/10001) examples", 
        "Y:                     LeafNode depth: 10, -1: 1.00 (1/10001) examples", 
        "N:                     LeafNode depth: 10, 1: 0.50 -1: 0.50 (6/10001) examples", 
        "N:                   LeafNode depth: 9, 1: 1.00 (2/10001) examples", 
        "N:           InnerNode (Thriller=0): depth: 5, 1: 0.75 -1: 0.25 (4/10001) examples", 
        "Y:             LeafNode depth: 6, 1: 1.00 (1/10001) examples", 
        "N:             InnerNode (cf_rating=(4, 4.25]): depth: 6, 1: 0.67 -1: 0.33 (3/10001) examples", 
        "Y:               LeafNode depth: 7, -1: 1.00 (1/10001) examples", 
        "N:               LeafNode depth: 7, 1: 1.00 (2/10001) examples", 
        "N:         InnerNode (occupation=administrator): depth: 4, 1: 0.61 -1: 0.39 (240/10001) examples", 
        "Y:           InnerNode (Adventure=1): depth: 5, 1: 0.68 -1: 0.32 (116/10001) examples", 
        "Y:             InnerNode (Action=0): depth: 6, 1: 0.56 -1: 0.44 (9/10001) examples", 
        "Y:               InnerNode (Comedy=0): depth: 7, 1: 0.67 -1: 0.33 (3/10001) examples", 
        "Y:                 InnerNode (Sci-Fi=0): depth: 8, 1: 0.50 -1: 0.50 (2/10001) examples", 
        "Y:                   LeafNode depth: 9, -1: 1.00 (1/10001) examples", 
        "N:                   LeafNode depth: 9, 1: 1.00 (1/10001) examples", 
        "N:                 LeafNode depth: 8, 1: 1.00 (1/10001) examples", 
        "N:               InnerNode (Comedy=0): depth: 7, 1: 0.50 -1: 0.50 (6/10001) examples", 
        "Y:                 InnerNode (Children's=0): depth: 8, 1: 0.60 -1: 0.40 (5/10001) examples", 
        "Y:                   InnerNode (Sci-Fi=0): depth: 9, 1: 0.75 -1: 0.25 (4/10001) examples", 
        "Y:                     LeafNode depth: 10, 1: 0.50 -1: 0.50 (2/10001) examples", 
        "N:                     LeafNode depth: 10, 1: 1.00 (2/10001) examples", 
        "N:                   LeafNode depth: 9, -1: 1.00 (1/10001) examples", 
        "N:                 LeafNode depth: 8, -1: 1.00 (1/10001) examples", 
        "N:             InnerNode (Animation=0): depth: 6, 1: 0.69 -1: 0.31 (107/10001) examples", 
        "Y:               InnerNode (Children's=1): depth: 7, 1: 0.68 -1: 0.32 (104/10001) examples", 
        "Y:                 LeafNode depth: 8, -1: 1.00 (5/10001) examples", 
        "N:                 InnerNode (Crime=0): depth: 8, 1: 0.72 -1: 0.28 (99/10001) examples", 
        "Y:                   InnerNode (Comedy=1): depth: 9, 1: 0.71 -1: 0.29 (94/10001) examples", 
        "Y:                     LeafNode depth: 10, 1: 0.70 -1: 0.30 (33/10001) examples", 
        "N:                     LeafNode depth: 10, 1: 0.72 -1: 0.28 (61/10001) examples", 
        "N:                   InnerNode (Comedy=0): depth: 9, 1: 0.80 -1: 0.20 (5/10001) examples", 
        "Y:                     LeafNode depth: 10, 1: 0.75 -1: 0.25 (4/10001) examples", 
        "N:                     LeafNode depth: 10, 1: 1.00 (1/10001) examples", 
        "N:               LeafNode depth: 7, 1: 1.00 (3/10001) examples", 
        "N:           InnerNode (occupation=programmer): depth: 5, 1: 0.54 -1: 0.46 (124/10001) examples", 
        "Y:             InnerNode (Comedy=0): depth: 6, 1: 0.75 -1: 0.25 (4/10001) examples", 
        "Y:               InnerNode (Romance=0): depth: 7, 1: 0.50 -1: 0.50 (2/10001) examples", 
        "Y:                 LeafNode depth: 8, 1: 1.00 (1/10001) examples", 
        "N:                 LeafNode depth: 8, -1: 1.00 (1/10001) examples", 
        "N:               LeafNode depth: 7, 1: 1.00 (2/10001) examples", 
        "N:             InnerNode (occupation=executive): depth: 6, 1: 0.53 -1: 0.47 (120/10001) examples", 
        "Y:               InnerNode (Action=0): depth: 7, 1: 0.52 -1: 0.48 (25/10001) examples", 
        "Y:                 InnerNode (Animation=0): depth: 8, 1: 0.50 -1: 0.50 (14/10001) examples", 
        "Y:                   InnerNode (Drama=0): depth: 9, 1: 0.42 -1: 0.58 (12/10001) examples", 
        "Y:                     LeafNode depth: 10, 1: 0.44 -1: 0.56 (9/10001) examples", 
        "N:                     LeafNode depth: 10, 1: 0.33 -1: 0.67 (3/10001) examples", 
        "N:                   LeafNode depth: 9, 1: 1.00 (2/10001) examples", 
        "N:                 InnerNode (Comedy=0): depth: 8, 1: 0.55 -1: 0.45 (11/10001) examples", 
        "Y:                   InnerNode (Crime=1): depth: 9, 1: 0.50 -1: 0.50 (10/10001) examples", 
        "Y:                     LeafNode depth: 10, 1: 1.00 (1/10001) examples", 
        "N:                     LeafNode depth: 10, 1: 0.44 -1: 0.56 (9/10001) examples", 
        "N:                   LeafNode depth: 9, 1: 1.00 (1/10001) examples", 
        "N:               InnerNode (occupation=marketing): depth: 7, 1: 0.54 -1: 0.46 (95/10001) examples", 
        "Y:                 InnerNode (Action=0): depth: 8, 1: 0.11 -1: 0.89 (9/10001) examples", 
        "Y:                   InnerNode (Crime=0): depth: 9, 1: 0.14 -1: 0.86 (7/10001) examples", 
        "Y:                     LeafNode depth: 10, 1: 0.17 -1: 0.83 (6/10001) examples", 
        "N:                     LeafNode depth: 10, -1: 1.00 (1/10001) examples", 
        "N:                   LeafNode depth: 9, -1: 1.00 (2/10001) examples", 
        "N:                 InnerNode (occupation=artist): depth: 8, 1: 0.58 -1: 0.42 (86/10001) examples", 
        "Y:                   InnerNode (Action=0): depth: 9, 1: 0.67 -1: 0.33 (9/10001) examples", 
        "Y:                     LeafNode depth: 10, 1: 0.60 -1: 0.40 (5/10001) examples", 
        "N:                     LeafNode depth: 10, 1: 0.75 -1: 0.25 (4/10001) examples", 
        "N:                   InnerNode (Action=0): depth: 9, 1: 0.57 -1: 0.43 (77/10001) examples", 
        "Y:                     LeafNode depth: 10, 1: 0.60 -1: 0.40 (68/10001) examples", 
        "N:                     LeafNode depth: 10, 1: 0.33 -1: 0.67 (9/10001) examples", 
        "N:       InnerNode (occupation=engineer): depth: 3, 1: 0.52 -1: 0.48 (822/10001) examples", 
        "Y:         InnerNode (Adventure=1): depth: 4, 1: 0.63 -1: 0.37 (153/10001) examples", 
        "Y:           InnerNode (Children's=0): depth: 5, 1: 0.62 -1: 0.38 (34/10001) examples", 
        "Y:             InnerNode (Action=0): depth: 6, 1: 0.70 -1: 0.30 (27/10001) examples", 
        "Y:               LeafNode depth: 7, 1: 1.00 (5/10001) examples", 
        "N:               InnerNode (Crime=0): depth: 7, 1: 0.64 -1: 0.36 (22/10001) examples", 
        "Y:                 InnerNode (Musical=1): depth: 8, 1: 0.60 -1: 0.40 (20/10001) examples", 
        "Y:                   LeafNode depth: 9, -1: 1.00 (1/10001) examples", 
        "N:                   InnerNode (Mystery=1): depth: 9, 1: 0.63 -1: 0.37 (19/10001) examples", 
        "Y:                     LeafNode depth: 10, -1: 1.00 (1/10001) examples", 
        "N:                     LeafNode depth: 10, 1: 0.67 -1: 0.33 (18/10001) examples", 
        "N:                 LeafNode depth: 8, 1: 1.00 (2/10001) examples", 
        "N:             InnerNode (Comedy=0): depth: 6, 1: 0.29 -1: 0.71 (7/10001) examples", 
        "Y:               InnerNode (Drama=1): depth: 7, 1: 0.17 -1: 0.83 (6/10001) examples", 
        "Y:                 LeafNode depth: 8, -1: 1.00 (1/10001) examples", 
        "N:                 InnerNode (Animation=0): depth: 8, 1: 0.20 -1: 0.80 (5/10001) examples", 
        "Y:                   InnerNode (Musical=0): depth: 9, 1: 0.25 -1: 0.75 (4/10001) examples", 
        "Y:                     LeafNode depth: 10, 1: 0.33 -1: 0.67 (3/10001) examples", 
        "N:                     LeafNode depth: 10, -1: 1.00 (1/10001) examples", 
        "N:                   LeafNode depth: 9, -1: 1.00 (1/10001) examples", 
        "N:               LeafNode depth: 7, 1: 1.00 (1/10001) examples", 
        "N:           InnerNode (Action=0): depth: 5, 1: 0.63 -1: 0.37 (119/10001) examples", 
        "Y:             InnerNode (Children's=1): depth: 6, 1: 0.63 -1: 0.37 (97/10001) examples", 
        "Y:               InnerNode (Comedy=1): depth: 7, 1: 0.38 -1: 0.62 (21/10001) examples", 
        "Y:                 InnerNode (Fantasy=0): depth: 8, 1: 0.25 -1: 0.75 (4/10001) examples", 
        "Y:                   InnerNode (cf_rating=(2.75, 3]): depth: 9, 1: 0.33 -1: 0.67 (3/10001) examples", 
        "Y:                     LeafNode depth: 10, 1: 1.00 (1/10001) examples", 
        "N:                     LeafNode depth: 10, -1: 1.00 (2/10001) examples", 
        "N:                   LeafNode depth: 9, -1: 1.00 (1/10001) examples", 
        "N:                 InnerNode (Drama=0): depth: 8, 1: 0.41 -1: 0.59 (17/10001) examples", 
        "Y:                   InnerNode (Musical=0): depth: 9, 1: 0.33 -1: 0.67 (15/10001) examples", 
        "Y:                     LeafNode depth: 10, 1: 0.25 -1: 0.75 (4/10001) examples", 
        "N:                     LeafNode depth: 10, 1: 0.36 -1: 0.64 (11/10001) examples", 
        "N:                   LeafNode depth: 9, 1: 1.00 (2/10001) examples", 
        "N:               InnerNode (Comedy=1): depth: 7, 1: 0.70 -1: 0.30 (76/10001) examples", 
        "Y:                 InnerNode (Drama=0): depth: 8, 1: 0.65 -1: 0.35 (37/10001) examples", 
        "Y:                   InnerNode (Crime=1): depth: 9, 1: 0.64 -1: 0.36 (36/10001) examples", 
        "Y:                     LeafNode depth: 10, 1: 1.00 (1/10001) examples", 
        "N:                     LeafNode depth: 10, 1: 0.63 -1: 0.37 (35/10001) examples", 
        "N:                   LeafNode depth: 9, 1: 1.00 (1/10001) examples", 
        "N:                 InnerNode (Documentary=0): depth: 8, 1: 0.74 -1: 0.26 (39/10001) examples", 
        "Y:                   InnerNode (Crime=0): depth: 9, 1: 0.73 -1: 0.27 (37/10001) examples", 
        "Y:                     LeafNode depth: 10, 1: 0.75 -1: 0.25 (36/10001) examples", 
        "N:                     LeafNode depth: 10, -1: 1.00 (1/10001) examples", 
        "N:                   LeafNode depth: 9, 1: 1.00 (2/10001) examples", 
        "N:             InnerNode (Crime=1): depth: 6, 1: 0.64 -1: 0.36 (22/10001) examples", 
        "Y:               InnerNode (decade=70): depth: 7, 1: 0.50 -1: 0.50 (2/10001) examples", 
        "Y:                 LeafNode depth: 8, -1: 1.00 (1/10001) examples", 
        "N:                 LeafNode depth: 8, 1: 1.00 (1/10001) examples", 
        "N:               InnerNode (Drama=0): depth: 7, 1: 0.65 -1: 0.35 (20/10001) examples", 
        "Y:                 InnerNode (Comedy=1): depth: 8, 1: 0.63 -1: 0.37 (19/10001) examples", 
        "Y:                   InnerNode (Western=1): depth: 9, 1: 0.67 -1: 0.33 (3/10001) examples", 
        "Y:                     LeafNode depth: 10, 1: 1.00 (1/10001) examples", 
        "N:                     LeafNode depth: 10, 1: 0.50 -1: 0.50 (2/10001) examples", 
        "N:                   InnerNode (Mystery=1): depth: 9, 1: 0.62 -1: 0.38 (16/10001) examples", 
        "Y:                     LeafNode depth: 10, 1: 1.00 (1/10001) examples", 
        "N:                     LeafNode depth: 10, 1: 0.60 -1: 0.40 (15/10001) examples", 
        "N:                 LeafNode depth: 8, 1: 1.00 (1/10001) examples", 
        "N:         InnerNode (occupation=executive): depth: 4, 1: 0.50 -1: 0.50 (669/10001) examples", 
        "Y:           InnerNode (Action=1): depth: 5, 1: 0.41 -1: 0.59 (44/10001) examples", 
        "Y:             InnerNode (Crime=0): depth: 6, 1: 0.22 -1: 0.78 (9/10001) examples", 
        "Y:               InnerNode (Comedy=1): depth: 7, 1: 0.25 -1: 0.75 (8/10001) examples", 
        "Y:                 LeafNode depth: 8, -1: 1.00 (1/10001) examples", 
        "N:                 InnerNode (Adventure=0): depth: 8, 1: 0.29 -1: 0.71 (7/10001) examples", 
        "Y:                   InnerNode (Mystery=1): depth: 9, 1: 0.33 -1: 0.67 (6/10001) examples", 
        "Y:                     LeafNode depth: 10, 1: 1.00 (1/10001) examples", 
        "N:                     LeafNode depth: 10, 1: 0.20 -1: 0.80 (5/10001) examples", 
        "N:                   LeafNode depth: 9, -1: 1.00 (1/10001) examples", 
        "N:               LeafNode depth: 7, -1: 1.00 (1/10001) examples", 
        "N:             InnerNode (Adventure=0): depth: 6, 1: 0.46 -1: 0.54 (35/10001) examples", 
        "Y:               InnerNode (Comedy=0): depth: 7, 1: 0.42 -1: 0.58 (33/10001) examples", 
        "Y:                 InnerNode (Crime=0): depth: 8, 1: 0.52 -1: 0.48 (23/10001) examples", 
        "Y:                   InnerNode (Drama=0): depth: 9, 1: 0.48 -1: 0.52 (21/10001) examples", 
        "Y:                     LeafNode depth: 10, 1: 0.25 -1: 0.75 (4/10001) examples", 
        "N:                     LeafNode depth: 10, 1: 0.53 -1: 0.47 (17/10001) examples", 
        "N:                   LeafNode depth: 9, 1: 1.00 (2/10001) examples", 
        "N:                 InnerNode (Drama=1): depth: 8, 1: 0.20 -1: 0.80 (10/10001) examples", 
        "Y:                   LeafNode depth: 9, 1: 1.00 (1/10001) examples", 
        "N:                   InnerNode (cf_rating=(2, 2.25]): depth: 9, 1: 0.11 -1: 0.89 (9/10001) examples", 
        "Y:                     LeafNode depth: 10, -1: 1.00 (1/10001) examples", 
        "N:                     LeafNode depth: 10, 1: 0.12 -1: 0.88 (8/10001) examples", 
        "N:               LeafNode depth: 7, 1: 1.00 (2/10001) examples", 
        "N:           InnerNode (occupation=librarian): depth: 5, 1: 0.50 -1: 0.50 (625/10001) examples", 
        "Y:             InnerNode (Animation=0): depth: 6, 1: 0.53 -1: 0.47 (81/10001) examples", 
        "Y:               InnerNode (Adventure=0): depth: 7, 1: 0.52 -1: 0.48 (79/10001) examples", 
        "Y:                 InnerNode (Action=0): depth: 8, 1: 0.50 -1: 0.50 (72/10001) examples", 
        "Y:                   InnerNode (Comedy=0): depth: 9, 1: 0.49 -1: 0.51 (63/10001) examples", 
        "Y:                     LeafNode depth: 10, 1: 0.49 -1: 0.51 (43/10001) examples", 
        "N:                     LeafNode depth: 10, 1: 0.50 -1: 0.50 (20/10001) examples", 
        "N:                   InnerNode (Drama=0): depth: 9, 1: 0.56 -1: 0.44 (9/10001) examples", 
        "Y:                     LeafNode depth: 10, 1: 0.25 -1: 0.75 (4/10001) examples", 
        "N:                     LeafNode depth: 10, 1: 0.80 -1: 0.20 (5/10001) examples", 
        "N:                 InnerNode (Children's=1): depth: 8, 1: 0.71 -1: 0.29 (7/10001) examples", 
        "Y:                   LeafNode depth: 9, 1: 1.00 (1/10001) examples", 
        "N:                   InnerNode (Comedy=1): depth: 9, 1: 0.67 -1: 0.33 (6/10001) examples", 
        "Y:                     LeafNode depth: 10, -1: 1.00 (2/10001) examples", 
        "N:                     LeafNode depth: 10, 1: 1.00 (4/10001) examples", 
        "N:               LeafNode depth: 7, 1: 1.00 (2/10001) examples", 
        "N:             InnerNode (occupation=educator): depth: 6, 1: 0.50 -1: 0.50 (544/10001) examples", 
        "Y:               InnerNode (Action=1): depth: 7, 1: 0.78 -1: 0.22 (45/10001) examples", 
        "Y:                 InnerNode (Adventure=1): depth: 8, 1: 0.86 -1: 0.14 (7/10001) examples", 
        "Y:                   LeafNode depth: 9, 1: 1.00 (3/10001) examples", 
        "N:                   InnerNode (Comedy=1): depth: 9, 1: 0.75 -1: 0.25 (4/10001) examples", 
        "Y:                     LeafNode depth: 10, 1: 1.00 (1/10001) examples", 
        "N:                     LeafNode depth: 10, 1: 0.67 -1: 0.33 (3/10001) examples", 
        "N:                 InnerNode (Adventure=1): depth: 8, 1: 0.76 -1: 0.24 (38/10001) examples", 
        "Y:                   LeafNode depth: 9, 1: 1.00 (2/10001) examples", 
        "N:                   InnerNode (Comedy=0): depth: 9, 1: 0.75 -1: 0.25 (36/10001) examples", 
        "Y:                     LeafNode depth: 10, 1: 0.70 -1: 0.30 (23/10001) examples", 
        "N:                     LeafNode depth: 10, 1: 0.85 -1: 0.15 (13/10001) examples", 
        "N:               InnerNode (occupation=administrator): depth: 7, 1: 0.47 -1: 0.53 (499/10001) examples", 
        "Y:                 InnerNode (Adventure=1): depth: 8, 1: 0.40 -1: 0.60 (116/10001) examples", 
        "Y:                   InnerNode (Children's=0): depth: 9, 1: 0.45 -1: 0.55 (20/10001) examples", 
        "Y:                     LeafNode depth: 10, 1: 0.50 -1: 0.50 (18/10001) examples", 
        "N:                     LeafNode depth: 10, -1: 1.00 (2/10001) examples", 
        "N:                   InnerNode (Action=0): depth: 9, 1: 0.39 -1: 0.61 (96/10001) examples", 
        "Y:                     LeafNode depth: 10, 1: 0.37 -1: 0.63 (81/10001) examples", 
        "N:                     LeafNode depth: 10, 1: 0.47 -1: 0.53 (15/10001) examples", 
        "N:                 InnerNode (occupation=healthcare): depth: 8, 1: 0.50 -1: 0.50 (383/10001) examples", 
        "Y:                   InnerNode (Adventure=0): depth: 9, 1: 0.32 -1: 0.68 (38/10001) examples", 
        "Y:                     LeafNode depth: 10, 1: 0.32 -1: 0.68 (34/10001) examples", 
        "N:                     LeafNode depth: 10, 1: 0.25 -1: 0.75 (4/10001) examples", 
        "N:                   InnerNode (occupation=artist): depth: 9, 1: 0.52 -1: 0.48 (345/10001) examples", 
        "Y:                     LeafNode depth: 10, 1: 0.72 -1: 0.28 (43/10001) examples", 
        "N:                     LeafNode depth: 10, 1: 0.49 -1: 0.51 (302/10001) examples", 
        "N:     InnerNode (age=(10, 15]): depth: 2, 1: 0.57 -1: 0.43 (7303/10001) examples", 
        "Y:       InnerNode (occupation=none): depth: 3, 1: 0.44 -1: 0.56 (68/10001) examples", 
        "Y:         InnerNode (Action=0): depth: 4, 1: 0.38 -1: 0.62 (8/10001) examples", 
        "Y:           InnerNode (Animation=1): depth: 5, 1: 0.17 -1: 0.83 (6/10001) examples", 
        "Y:             LeafNode depth: 6, -1: 1.00 (2/10001) examples", 
        "N:             InnerNode (Comedy=1): depth: 6, 1: 0.25 -1: 0.75 (4/10001) examples", 
        "Y:               LeafNode depth: 7, -1: 1.00 (1/10001) examples", 
        "N:               InnerNode (Sci-Fi=0): depth: 7, 1: 0.33 -1: 0.67 (3/10001) examples", 
        "Y:                 LeafNode depth: 8, -1: 1.00 (2/10001) examples", 
        "N:                 LeafNode depth: 8, 1: 1.00 (1/10001) examples", 
        "N:           LeafNode depth: 5, 1: 1.00 (2/10001) examples", 
        "N:         InnerNode (occupation=student): depth: 4, 1: 0.45 -1: 0.55 (60/10001) examples", 
        "Y:           InnerNode (Adventure=0): depth: 5, 1: 0.29 -1: 0.71 (35/10001) examples", 
        "Y:             InnerNode (Action=1): depth: 6, 1: 0.30 -1: 0.70 (27/10001) examples", 
        "Y:               LeafNode depth: 7, -1: 1.00 (5/10001) examples", 
        "N:               InnerNode (Animation=0): depth: 7, 1: 0.36 -1: 0.64 (22/10001) examples", 
        "Y:                 InnerNode (gender=M): depth: 8, 1: 0.37 -1: 0.63 (19/10001) examples", 
        "Y:                   LeafNode depth: 9, -1: 1.00 (6/10001) examples", 
        "N:                   InnerNode (Comedy=1): depth: 9, 1: 0.54 -1: 0.46 (13/10001) examples", 
        "Y:                     LeafNode depth: 10, -1: 1.00 (3/10001) examples", 
        "N:                     LeafNode depth: 10, 1: 0.70 -1: 0.30 (10/10001) examples", 
        "N:                 InnerNode (cf_rating=(4.75, 5]): depth: 8, 1: 0.33 -1: 0.67 (3/10001) examples", 
        "Y:                   LeafNode depth: 9, 1: 1.00 (1/10001) examples", 
        "N:                   LeafNode depth: 9, -1: 1.00 (2/10001) examples", 
        "N:             InnerNode (gender=F): depth: 6, 1: 0.25 -1: 0.75 (8/10001) examples", 
        "Y:               LeafNode depth: 7, 1: 1.00 (1/10001) examples", 
        "N:               InnerNode (Mystery=0): depth: 7, 1: 0.14 -1: 0.86 (7/10001) examples", 
        "Y:                 LeafNode depth: 8, -1: 1.00 (6/10001) examples", 
        "N:                 LeafNode depth: 8, 1: 1.00 (1/10001) examples", 
        "N:           InnerNode (Action=1): depth: 5, 1: 0.68 -1: 0.32 (25/10001) examples", 
        "Y:             InnerNode (occupation=entertainment): depth: 6, 1: 0.57 -1: 0.43 (7/10001) examples", 
        "Y:               LeafNode depth: 7, -1: 1.00 (2/10001) examples", 
        "N:               InnerNode (Adventure=1): depth: 7, 1: 0.80 -1: 0.20 (5/10001) examples", 
        "Y:                 LeafNode depth: 8, 1: 1.00 (2/10001) examples", 
        "N:                 InnerNode (Comedy=0): depth: 8, 1: 0.67 -1: 0.33 (3/10001) examples", 
        "Y:                   LeafNode depth: 9, 1: 1.00 (2/10001) examples", 
        "N:                   LeafNode depth: 9, -1: 1.00 (1/10001) examples", 
        "N:             InnerNode (occupation=other): depth: 6, 1: 0.72 -1: 0.28 (18/10001) examples", 
        "Y:               InnerNode (Children's=0): depth: 7, 1: 0.60 -1: 0.40 (5/10001) examples", 
        "Y:                 InnerNode (Animation=0): depth: 8, 1: 0.75 -1: 0.25 (4/10001) examples", 
        "Y:                   InnerNode (Film-Noir=0): depth: 9, 1: 0.50 -1: 0.50 (2/10001) examples", 
        "Y:                     LeafNode depth: 10, 1: 1.00 (1/10001) examples", 
        "N:                     LeafNode depth: 10, -1: 1.00 (1/10001) examples", 
        "N:                   LeafNode depth: 9, 1: 1.00 (2/10001) examples", 
        "N:                 LeafNode depth: 8, -1: 1.00 (1/10001) examples", 
        "N:               InnerNode (Drama=1): depth: 7, 1: 0.77 -1: 0.23 (13/10001) examples", 
        "Y:                 InnerNode (Romance=1): depth: 8, 1: 0.78 -1: 0.22 (9/10001) examples", 
        "Y:                   LeafNode depth: 9, 1: 1.00 (1/10001) examples", 
        "N:                   InnerNode (Sci-Fi=0): depth: 9, 1: 0.75 -1: 0.25 (8/10001) examples", 
        "Y:                     LeafNode depth: 10, 1: 0.71 -1: 0.29 (7/10001) examples", 
        "N:                     LeafNode depth: 10, 1: 1.00 (1/10001) examples", 
        "N:                 InnerNode (Horror=1): depth: 8, 1: 0.75 -1: 0.25 (4/10001) examples", 
        "Y:                   LeafNode depth: 9, 1: 1.00 (1/10001) examples", 
        "N:                   InnerNode (cf_rating=(4.25, 4.5]): depth: 9, 1: 0.67 -1: 0.33 (3/10001) examples", 
        "Y:                     LeafNode depth: 10, -1: 1.00 (1/10001) examples", 
        "N:                     LeafNode depth: 10, 1: 1.00 (2/10001) examples", 
        "N:       InnerNode (age=(20, 25]): depth: 3, 1: 0.57 -1: 0.43 (7235/10001) examples", 
        "Y:         InnerNode (occupation=administrator): depth: 4, 1: 0.55 -1: 0.45 (1595/10001) examples", 
        "Y:           InnerNode (Action=1): depth: 5, 1: 0.78 -1: 0.22 (45/10001) examples", 
        "Y:             InnerNode (Adventure=0): depth: 6, 1: 0.73 -1: 0.27 (11/10001) examples", 
        "Y:               InnerNode (Mystery=0): depth: 7, 1: 0.75 -1: 0.25 (8/10001) examples", 
        "Y:                 InnerNode (gender=F): depth: 8, 1: 0.71 -1: 0.29 (7/10001) examples", 
        "Y:                   InnerNode (Drama=0): depth: 9, 1: 0.75 -1: 0.25 (4/10001) examples", 
        "Y:                     LeafNode depth: 10, 1: 0.67 -1: 0.33 (3/10001) examples", 
        "N:                     LeafNode depth: 10, 1: 1.00 (1/10001) examples", 
        "N:                   InnerNode (Sci-Fi=0): depth: 9, 1: 0.67 -1: 0.33 (3/10001) examples", 
        "Y:                     LeafNode depth: 10, 1: 0.50 -1: 0.50 (2/10001) examples", 
        "N:                     LeafNode depth: 10, 1: 1.00 (1/10001) examples", 
        "N:                 LeafNode depth: 8, 1: 1.00 (1/10001) examples", 
        "N:               InnerNode (gender=M): depth: 7, 1: 0.67 -1: 0.33 (3/10001) examples", 
        "Y:                 InnerNode (Sci-Fi=0): depth: 8, 1: 0.50 -1: 0.50 (2/10001) examples", 
        "Y:                   LeafNode depth: 9, 1: 1.00 (1/10001) examples", 
        "N:                   LeafNode depth: 9, -1: 1.00 (1/10001) examples", 
        "N:                 LeafNode depth: 8, 1: 1.00 (1/10001) examples", 
        "N:             InnerNode (Comedy=0): depth: 6, 1: 0.79 -1: 0.21 (34/10001) examples", 
        "Y:               InnerNode (Adventure=1): depth: 7, 1: 0.83 -1: 0.17 (24/10001) examples", 
        "Y:                 LeafNode depth: 8, 1: 1.00 (1/10001) examples", 
        "N:                 InnerNode (gender=F): depth: 8, 1: 0.83 -1: 0.17 (23/10001) examples", 
        "Y:                   InnerNode (Romance=0): depth: 9, 1: 0.71 -1: 0.29 (7/10001) examples", 
        "Y:                     LeafNode depth: 10, 1: 1.00 (2/10001) examples", 
        "N:                     LeafNode depth: 10, 1: 0.60 -1: 0.40 (5/10001) examples", 
        "N:                   InnerNode (Film-Noir=0): depth: 9, 1: 0.88 -1: 0.12 (16/10001) examples", 
        "Y:                     LeafNode depth: 10, 1: 0.86 -1: 0.14 (14/10001) examples", 
        "N:                     LeafNode depth: 10, 1: 1.00 (2/10001) examples", 
        "N:               InnerNode (gender=M): depth: 7, 1: 0.70 -1: 0.30 (10/10001) examples", 
        "Y:                 LeafNode depth: 8, 1: 1.00 (2/10001) examples", 
        "N:                 InnerNode (Drama=0): depth: 8, 1: 0.62 -1: 0.38 (8/10001) examples", 
        "Y:                   InnerNode (Romance=0): depth: 9, 1: 0.71 -1: 0.29 (7/10001) examples", 
        "Y:                     LeafNode depth: 10, 1: 0.50 -1: 0.50 (2/10001) examples", 
        "N:                     LeafNode depth: 10, 1: 0.80 -1: 0.20 (5/10001) examples", 
        "N:                   LeafNode depth: 9, -1: 1.00 (1/10001) examples", 
        "N:           InnerNode (occupation=educator): depth: 5, 1: 0.54 -1: 0.46 (1550/10001) examples", 
        "Y:             InnerNode (gender=M): depth: 6, 1: 0.61 -1: 0.39 (18/10001) examples", 
        "Y:               InnerNode (Crime=0): depth: 7, 1: 0.64 -1: 0.36 (11/10001) examples", 
        "Y:                 InnerNode (Comedy=0): depth: 8, 1: 0.70 -1: 0.30 (10/10001) examples", 
        "Y:                   InnerNode (Drama=0): depth: 9, 1: 0.67 -1: 0.33 (9/10001) examples", 
        "Y:                     LeafNode depth: 10, 1: 1.00 (1/10001) examples", 
        "N:                     LeafNode depth: 10, 1: 0.62 -1: 0.38 (8/10001) examples", 
        "N:                   LeafNode depth: 9, 1: 1.00 (1/10001) examples", 
        "N:                 LeafNode depth: 8, -1: 1.00 (1/10001) examples", 
        "N:               InnerNode (Action=0): depth: 7, 1: 0.57 -1: 0.43 (7/10001) examples", 
        "Y:                 LeafNode depth: 8, 1: 1.00 (3/10001) examples", 
        "N:                 InnerNode (Romance=0): depth: 8, 1: 0.25 -1: 0.75 (4/10001) examples", 
        "Y:                   LeafNode depth: 9, -1: 1.00 (3/10001) examples", 
        "N:                   LeafNode depth: 9, 1: 1.00 (1/10001) examples", 
        "N:             InnerNode (occupation=entertainment): depth: 6, 1: 0.54 -1: 0.46 (1532/10001) examples", 
        "Y:               InnerNode (Animation=0): depth: 7, 1: 0.60 -1: 0.40 (78/10001) examples", 
        "Y:                 InnerNode (Adventure=0): depth: 8, 1: 0.61 -1: 0.39 (75/10001) examples", 
        "Y:                   InnerNode (Comedy=0): depth: 9, 1: 0.58 -1: 0.42 (65/10001) examples", 
        "Y:                     LeafNode depth: 10, 1: 0.56 -1: 0.44 (48/10001) examples", 
        "N:                     LeafNode depth: 10, 1: 0.65 -1: 0.35 (17/10001) examples", 
        "N:                   InnerNode (Children's=0): depth: 9, 1: 0.80 -1: 0.20 (10/10001) examples", 
        "Y:                     LeafNode depth: 10, 1: 0.78 -1: 0.22 (9/10001) examples", 
        "N:                     LeafNode depth: 10, 1: 1.00 (1/10001) examples", 
        "N:                 InnerNode (Children's=0): depth: 8, 1: 0.33 -1: 0.67 (3/10001) examples", 
        "Y:                   LeafNode depth: 9, -1: 1.00 (1/10001) examples", 
        "N:                   InnerNode (Adventure=0): depth: 9, 1: 0.50 -1: 0.50 (2/10001) examples", 
        "Y:                     LeafNode depth: 10, 1: 1.00 (1/10001) examples", 
        "N:                     LeafNode depth: 10, -1: 1.00 (1/10001) examples", 
        "N:               InnerNode (occupation=engineer): depth: 7, 1: 0.54 -1: 0.46 (1454/10001) examples", 
        "Y:                 InnerNode (Action=0): depth: 8, 1: 0.43 -1: 0.57 (184/10001) examples", 
        "Y:                   InnerNode (Adventure=0): depth: 9, 1: 0.44 -1: 0.56 (130/10001) examples", 
        "Y:                     LeafNode depth: 10, 1: 0.45 -1: 0.55 (125/10001) examples", 
        "N:                     LeafNode depth: 10, 1: 0.20 -1: 0.80 (5/10001) examples", 
        "N:                   InnerNode (Comedy=0): depth: 9, 1: 0.43 -1: 0.57 (54/10001) examples", 
        "Y:                     LeafNode depth: 10, 1: 0.44 -1: 0.56 (48/10001) examples", 
        "N:                     LeafNode depth: 10, 1: 0.33 -1: 0.67 (6/10001) examples", 
        "N:                 InnerNode (gender=M): depth: 8, 1: 0.55 -1: 0.45 (1270/10001) examples", 
        "Y:                   InnerNode (occupation=librarian): depth: 9, 1: 0.55 -1: 0.45 (978/10001) examples", 
        "Y:                     LeafNode depth: 10, 1: 0.61 -1: 0.39 (56/10001) examples", 
        "N:                     LeafNode depth: 10, 1: 0.55 -1: 0.45 (922/10001) examples", 
        "N:                   InnerNode (occupation=artist): depth: 9, 1: 0.57 -1: 0.43 (292/10001) examples", 
        "Y:                     LeafNode depth: 10, 1: 0.87 -1: 0.13 (30/10001) examples", 
        "N:                     LeafNode depth: 10, 1: 0.53 -1: 0.47 (262/10001) examples", 
        "N:         InnerNode (age=(15, 20]): depth: 4, 1: 0.58 -1: 0.42 (5640/10001) examples", 
        "Y:           InnerNode (gender=F): depth: 5, 1: 0.59 -1: 0.41 (999/10001) examples", 
        "Y:             InnerNode (occupation=other): depth: 6, 1: 0.62 -1: 0.38 (246/10001) examples", 
        "Y:               InnerNode (Adventure=1): depth: 7, 1: 0.71 -1: 0.29 (7/10001) examples", 
        "Y:                 LeafNode depth: 8, -1: 1.00 (1/10001) examples", 
        "N:                 InnerNode (Comedy=1): depth: 8, 1: 0.83 -1: 0.17 (6/10001) examples", 
        "Y:                   LeafNode depth: 9, 1: 1.00 (3/10001) examples", 
        "N:                   InnerNode (Drama=0): depth: 9, 1: 0.67 -1: 0.33 (3/10001) examples", 
        "Y:                     LeafNode depth: 10, -1: 1.00 (1/10001) examples", 
        "N:                     LeafNode depth: 10, 1: 1.00 (2/10001) examples", 
        "N:               InnerNode (occupation=artist): depth: 7, 1: 0.62 -1: 0.38 (239/10001) examples", 
        "Y:                 InnerNode (Adventure=1): depth: 8, 1: 0.79 -1: 0.21 (14/10001) examples", 
        "Y:                   LeafNode depth: 9, 1: 1.00 (2/10001) examples", 
        "N:                   InnerNode (Animation=0): depth: 9, 1: 0.75 -1: 0.25 (12/10001) examples", 
        "Y:                     LeafNode depth: 10, 1: 0.73 -1: 0.27 (11/10001) examples", 
        "N:                     LeafNode depth: 10, 1: 1.00 (1/10001) examples", 
        "N:                 InnerNode (Adventure=0): depth: 8, 1: 0.61 -1: 0.39 (225/10001) examples", 
        "Y:                   InnerNode (occupation=student): depth: 9, 1: 0.62 -1: 0.38 (206/10001) examples", 
        "Y:                     LeafNode depth: 10, 1: 0.63 -1: 0.37 (203/10001) examples", 
        "N:                     LeafNode depth: 10, -1: 1.00 (3/10001) examples", 
        "N:                   InnerNode (Comedy=1): depth: 9, 1: 0.53 -1: 0.47 (19/10001) examples", 
        "Y:                     LeafNode depth: 10, 1: 0.67 -1: 0.33 (3/10001) examples", 
        "N:                     LeafNode depth: 10, 1: 0.50 -1: 0.50 (16/10001) examples", 
        "N:             InnerNode (occupation=entertainment): depth: 6, 1: 0.58 -1: 0.42 (753/10001) examples", 
        "Y:               LeafNode depth: 7, -1: 1.00 (2/10001) examples", 
        "N:               InnerNode (occupation=student): depth: 7, 1: 0.59 -1: 0.41 (751/10001) examples", 
        "Y:                 InnerNode (Adventure=1): depth: 8, 1: 0.58 -1: 0.42 (587/10001) examples", 
        "Y:                   InnerNode (Action=0): depth: 9, 1: 0.64 -1: 0.36 (81/10001) examples", 
        "Y:                     LeafNode depth: 10, 1: 0.78 -1: 0.22 (9/10001) examples", 
        "N:                     LeafNode depth: 10, 1: 0.62 -1: 0.38 (72/10001) examples", 
        "N:                   InnerNode (Action=0): depth: 9, 1: 0.58 -1: 0.42 (506/10001) examples", 
        "Y:                     LeafNode depth: 10, 1: 0.56 -1: 0.44 (398/10001) examples", 
        "N:                     LeafNode depth: 10, 1: 0.63 -1: 0.37 (108/10001) examples", 
        "N:                 InnerNode (Adventure=0): depth: 8, 1: 0.59 -1: 0.41 (164/10001) examples", 
        "Y:                   InnerNode (Action=1): depth: 9, 1: 0.58 -1: 0.42 (141/10001) examples", 
        "Y:                     LeafNode depth: 10, 1: 0.50 -1: 0.50 (32/10001) examples", 
        "N:                     LeafNode depth: 10, 1: 0.61 -1: 0.39 (109/10001) examples", 
        "N:                   InnerNode (occupation=none): depth: 9, 1: 0.65 -1: 0.35 (23/10001) examples", 
        "Y:                     LeafNode depth: 10, 1: 0.65 -1: 0.35 (20/10001) examples", 
        "N:                     LeafNode depth: 10, 1: 0.67 -1: 0.33 (3/10001) examples", 
        "N:           InnerNode (age=(5, 10]): depth: 5, 1: 0.57 -1: 0.43 (4641/10001) examples", 
        "Y:             InnerNode (Action=0): depth: 6, 1: 0.62 -1: 0.38 (8/10001) examples", 
        "Y:               InnerNode (Children's=1): depth: 7, 1: 0.40 -1: 0.60 (5/10001) examples", 
        "Y:                 LeafNode depth: 8, -1: 1.00 (1/10001) examples", 
        "N:                 InnerNode (Comedy=1): depth: 8, 1: 0.50 -1: 0.50 (4/10001) examples", 
        "Y:                   LeafNode depth: 9, 1: 1.00 (2/10001) examples", 
        "N:                   LeafNode depth: 9, -1: 1.00 (2/10001) examples", 
        "N:               LeafNode depth: 7, 1: 1.00 (3/10001) examples", 
        "N:             InnerNode (age=(25, 30]): depth: 6, 1: 0.57 -1: 0.43 (4633/10001) examples", 
        "Y:               InnerNode (occupation=administrator): depth: 7, 1: 0.53 -1: 0.47 (2035/10001) examples", 
        "Y:                 InnerNode (Adventure=0): depth: 8, 1: 0.58 -1: 0.42 (207/10001) examples", 
        "Y:                   InnerNode (Action=0): depth: 9, 1: 0.58 -1: 0.42 (180/10001) examples", 
        "Y:                     LeafNode depth: 10, 1: 0.61 -1: 0.39 (142/10001) examples", 
        "N:                     LeafNode depth: 10, 1: 0.50 -1: 0.50 (38/10001) examples", 
        "N:                   InnerNode (gender=F): depth: 9, 1: 0.56 -1: 0.44 (27/10001) examples", 
        "Y:                     LeafNode depth: 10, 1: 0.41 -1: 0.59 (17/10001) examples", 
        "N:                     LeafNode depth: 10, 1: 0.80 -1: 0.20 (10/10001) examples", 
        "N:                 InnerNode (gender=F): depth: 8, 1: 0.52 -1: 0.48 (1828/10001) examples", 
        "Y:                   InnerNode (occupation=marketing): depth: 9, 1: 0.60 -1: 0.40 (534/10001) examples", 
        "Y:                     LeafNode depth: 10, 1: 0.75 -1: 0.25 (8/10001) examples", 
        "N:                     LeafNode depth: 10, 1: 0.60 -1: 0.40 (526/10001) examples", 
        "N:                   InnerNode (occupation=educator): depth: 9, 1: 0.49 -1: 0.51 (1294/10001) examples", 
        "Y:                     LeafNode depth: 10, 1: 0.67 -1: 0.33 (15/10001) examples", 
        "N:                     LeafNode depth: 10, 1: 0.49 -1: 0.51 (1279/10001) examples", 
        "N:               InnerNode (age=(50, 55]): depth: 7, 1: 0.61 -1: 0.39 (2598/10001) examples", 
        "Y:                 InnerNode (gender=F): depth: 8, 1: 0.61 -1: 0.39 (499/10001) examples", 
        "Y:                   InnerNode (occupation=administrator): depth: 9, 1: 0.72 -1: 0.28 (78/10001) examples", 
        "Y:                     LeafNode depth: 10, 1: 0.83 -1: 0.17 (6/10001) examples", 
        "N:                     LeafNode depth: 10, 1: 0.71 -1: 0.29 (72/10001) examples", 
        "N:                   InnerNode (occupation=lawyer): depth: 9, 1: 0.59 -1: 0.41 (421/10001) examples", 
        "Y:                     LeafNode depth: 10, 1: 0.90 -1: 0.10 (49/10001) examples", 
        "N:                     LeafNode depth: 10, 1: 0.55 -1: 0.45 (372/10001) examples", 
        "N:                 InnerNode (age=(55, 60]): depth: 8, 1: 0.61 -1: 0.39 (2099/10001) examples", 
        "Y:                   InnerNode (occupation=engineer): depth: 9, 1: 0.62 -1: 0.38 (441/10001) examples", 
        "Y:                     LeafNode depth: 10, 1: 0.55 -1: 0.45 (22/10001) examples", 
        "N:                     LeafNode depth: 10, 1: 0.63 -1: 0.37 (419/10001) examples", 
        "N:                   InnerNode (age=(40, 45]): depth: 9, 1: 0.60 -1: 0.40 (1658/10001) examples", 
        "Y:                     LeafNode depth: 10, 1: 0.61 -1: 0.39 (678/10001) examples", 
        "N:                     LeafNode depth: 10, 1: 0.60 -1: 0.40 (980/10001) examples"
       ]
      }
     ], 
     "prompt_number": 144
    }, 
    {
     "cell_type": "code", 
     "collapsed": true, 
     "input": [
      "from pa03.ensemble.random_forest import random_forest", 
      "rf=random_forest(ratings,'isgood')"
     ], 
     "language": "python", 
     "outputs": [], 
     "prompt_number": 145
    }, 
    {
     "cell_type": "code", 
     "collapsed": true, 
     "input": [
      "from pa03.util.cfiltering import CFilter", 
      "from pa03.util.prep_data import prep_data", 
      "?prep_data"
     ], 
     "language": "python", 
     "outputs": [], 
     "prompt_number": 154
    }, 
    {
     "cell_type": "code", 
     "collapsed": false, 
     "input": [
      "pred=rf.predict(ratings)"
     ], 
     "language": "python", 
     "outputs": [
      {
       "output_type": "stream", 
       "stream": "stdout", 
       "text": [
        "[[ 1.  1.  1. ..., -1. -1.  1.]", 
        " [ 1.  1. -1. ..., -1. -1. -1.]", 
        " [ 1.  1.  1. ..., -1.  1.  1.]", 
        " ..., ", 
        " [ 1.  1.  1. ...,  1.  1.  1.]", 
        " [ 1.  1.  1. ...,  1.  1.  1.]", 
        " [ 1.  1. -1. ...,  1.  1.  1.]]"
       ]
      }
     ], 
     "prompt_number": 155
    }, 
    {
     "cell_type": "code", 
     "collapsed": false, 
     "input": [
      "fscore(pred,ratings['isgood'])"
     ], 
     "language": "python", 
     "outputs": [
      {
       "output_type": "stream", 
       "stream": "stdout", 
       "text": [
        "0.975712777191 0.587101556709"
       ]
      }, 
      {
       "output_type": "pyout", 
       "prompt_number": 148, 
       "text": [
        "0.73309090909090913"
       ]
      }
     ], 
     "prompt_number": 148
    }, 
    {
     "cell_type": "code", 
     "collapsed": true, 
     "input": [], 
     "language": "python", 
     "outputs": []
    }
   ]
  }
 ]
}