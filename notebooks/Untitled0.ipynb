{
 "metadata": {
  "name": "Untitled0"
 }, 
 "nbformat": 2, 
 "worksheets": [
  {
   "cells": [
    {
     "cell_type": "code", 
     "collapsed": true, 
     "input": [
      "sys.path.append('/Users/hcorrada/Teaching/PracticalMachineLearning/Fall2012/hidden-src/pa03/pa03/pa03_finished/')"
     ], 
     "language": "python", 
     "outputs": [], 
     "prompt_number": 1
    }, 
    {
     "cell_type": "code", 
     "collapsed": false, 
     "input": [
      "from pa03_finished.evaluation.bootstrap import Bootstrap"
     ], 
     "language": "python", 
     "outputs": [], 
     "prompt_number": 3
    }, 
    {
     "cell_type": "code", 
     "collapsed": true, 
     "input": [
      "from pa03.dectree.DTree import get_tree", 
      "import pandas as pd"
     ], 
     "language": "python", 
     "outputs": [], 
     "prompt_number": 4
    }, 
    {
     "cell_type": "code", 
     "collapsed": true, 
     "input": [
      "ratings=pd.load('movie_data/ratings_train.pda')", 
      "ratings.pop('userid')", 
      "_junk=ratings.pop('itemid')"
     ], 
     "language": "python", 
     "outputs": [], 
     "prompt_number": 5
    }, 
    {
     "cell_type": "code", 
     "collapsed": false, 
     "input": [
      "dt=get_tree(ratings,'isgood',maxdepth=3)", 
      "dt"
     ], 
     "language": "python", 
     "outputs": [
      {
       "output_type": "stream", 
       "stream": "stdout", 
       "text": [
        "[(1, 0.1736778182621177), (2, 0.061112951308380258), (3, 0.0)]"
       ]
      }, 
      {
       "output_type": "pyout", 
       "prompt_number": 7, 
       "text": [
        "InnerNode (rating=3): depth: 0, 1: 0.55 -1: 0.45 (72456/72456) examples", 
        "Y:   LeafNode depth: 1, -1: 1.00 (19820/72456) examples", 
        "N:   InnerNode (rating=2): depth: 1, 1: 0.76 -1: 0.24 (52636/72456) examples", 
        "Y:     LeafNode depth: 2, -1: 1.00 (8336/72456) examples", 
        "N:     InnerNode (rating=1): depth: 2, 1: 0.90 -1: 0.10 (44300/72456) examples", 
        "Y:       LeafNode depth: 3, -1: 1.00 (4461/72456) examples", 
        "N:       LeafNode depth: 3, 1: 1.00 (39839/72456) examples"
       ]
      }
     ], 
     "prompt_number": 7
    }, 
    {
     "cell_type": "code", 
     "collapsed": false, 
     "input": [
      "bt=Bootstrap(ratings.shape[0],3)", 
      "ens=[]", 
      "for sample in bt:", 
      "    traindf=ratings.irow(sample)", 
      "    traindf.index=arange(traindf.shape[0])", 
      "    cdt=get_tree(traindf,'isgood',maxdepth=3)", 
      "    ens.append(cdt)"
     ], 
     "language": "python", 
     "outputs": [
      {
       "output_type": "stream", 
       "stream": "stdout", 
       "text": [
        "[(1, 0.17478193662360605), (2, 0.0624930992602407), (3, 0.0)]", 
        "[(1, 0.17986088108645246), (2, 0.063652423539803465), (3, 0.0)]"
       ]
      }, 
      {
       "output_type": "stream", 
       "stream": "stdout", 
       "text": [
        "", 
        "[(1, 0.17616208457546648), (2, 0.059622391520370986), (3, 0.0)]"
       ]
      }, 
      {
       "output_type": "stream", 
       "stream": "stdout", 
       "text": [
        ""
       ]
      }
     ], 
     "prompt_number": 11
    }, 
    {
     "cell_type": "code", 
     "collapsed": false, 
     "input": [
      "sample"
     ], 
     "language": "python", 
     "outputs": [
      {
       "output_type": "pyout", 
       "prompt_number": 9, 
       "text": [
        "array([41972, 66733, 24157, ..., 46311, 36473, 73707])"
       ]
      }
     ], 
     "prompt_number": 9
    }, 
    {
     "cell_type": "code", 
     "collapsed": false, 
     "input": [
      "ratings.irow(sample)"
     ], 
     "language": "python", 
     "outputs": [
      {
       "output_type": "pyout", 
       "prompt_number": 10, 
       "text": [
        "<class 'pandas.core.frame.DataFrame'>", 
        "Int64Index: 90570 entries, 41972 to 73707", 
        "Data columns:", 
        "rating         90570  non-null values", 
        "age            90570  non-null values", 
        "gender         90570  non-null values", 
        "occupation     90570  non-null values", 
        "Action         90570  non-null values", 
        "Adventure      90570  non-null values", 
        "Animation      90570  non-null values", 
        "Children's     90570  non-null values", 
        "Comedy         90570  non-null values", 
        "Crime          90570  non-null values", 
        "Documentary    90570  non-null values", 
        "Drama          90570  non-null values", 
        "Fantasy        90570  non-null values", 
        "Film-Noir      90570  non-null values", 
        "Horror         90570  non-null values", 
        "Musical        90570  non-null values", 
        "Mystery        90570  non-null values", 
        "Romance        90570  non-null values", 
        "Sci-Fi         90570  non-null values", 
        "Thriller       90570  non-null values", 
        "War            90570  non-null values", 
        "Western        90570  non-null values", 
        "decade         90559  non-null values", 
        "isgood         90570  non-null values", 
        "dtypes: int64(20), object(4)"
       ]
      }
     ], 
     "prompt_number": 10
    }, 
    {
     "cell_type": "code", 
     "collapsed": true, 
     "input": [], 
     "language": "python", 
     "outputs": []
    }
   ]
  }
 ]
}